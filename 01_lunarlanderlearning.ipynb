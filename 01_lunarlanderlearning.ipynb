{
 "cells": [
  {
   "cell_type": "markdown",
   "source": [
    "# Setup"
   ],
   "metadata": {
    "id": "Tu5fW8ZmKBz7"
   }
  },
  {
   "cell_type": "code",
   "execution_count": 23,
   "outputs": [],
   "source": [
    "# Only needed in Colab\n",
    "import os\n",
    "mode = -1\n",
    "try:\n",
    "    os.getlogin() # This will return an exception if ran in Google colab\n",
    "    mode = 'local'\n",
    "except:\n",
    "    # Install necessary files and create necessary folders (Only when ran in Google Drive)\n",
    "    !pip install snntorch\n",
    "    !pip install torch\n",
    "    !pip install gym\n",
    "    !pip install gym[box2d]\n",
    "    from google.colab import drive\n",
    "    drive.mount('/content/drive')\n",
    "    !mkdir tmp\n",
    "    !cp \"/content/drive/MyDrive/Colab Notebooks/dict9 LIF\" \"/content/tmp/\"\n",
    "    mode = 'colab'"
   ],
   "metadata": {
    "colab": {
     "base_uri": "https://localhost:8080/"
    },
    "id": "l6xj4hRc1F51",
    "outputId": "475a858d-3706-44fa-bfd8-9484cb02c3d2"
   }
  },
  {
   "cell_type": "code",
   "execution_count": 24,
   "metadata": {
    "id": "1Y3jcrh01F55"
   },
   "outputs": [],
   "source": [
    "import gym\n",
    "import time\n",
    "import numpy as np\n",
    "import pandas as pd\n",
    "from datetime import datetime\n",
    "import matplotlib.pyplot as plt\n",
    "\n",
    "import torch\n",
    "import torch.nn as nn\n",
    "import snntorch as snn\n",
    "from snntorch import spikegen\n",
    "from snntorch import surrogate\n",
    "\n",
    "import warnings\n",
    "warnings.filterwarnings('ignore')"
   ]
  },
  {
   "cell_type": "code",
   "execution_count": 25,
   "outputs": [],
   "source": [
    "### Parameters ###\n",
    "env_name = 'Acrobot-v1'\n",
    "filename = env_name + \".png\"\n",
    "outfilename = env_name + \"scoreboard.txt\"\n",
    "model_file = \"./tmp/dict9 LIF_acrobot\"\n",
    "\n",
    "lr = 0.0005 # Learning rate\n",
    "epsilon = 0.1\n",
    "epsilon_end = 0.01\n",
    "gamma = 0.99\n",
    "batch_size = 64\n",
    "n_games = 500 # Number of games to train for\n",
    "n_hrs = 0.5 # Number of hours to train the model for\n",
    "n_rounds = 5 # Number of competitive rounds to play"
   ],
   "metadata": {
    "collapsed": false
   }
  },
  {
   "cell_type": "markdown",
   "source": [
    "# Defining classes"
   ],
   "metadata": {
    "id": "b3CWzWss1m3M"
   }
  },
  {
   "cell_type": "code",
   "source": [
    "class Net(nn.Module):\n",
    "    def __init__(self, num_inputs, num_hidden, num_outputs, beta=0.95):\n",
    "        super(Net, self).__init__()\n",
    "\n",
    "        spike_grad1 = surrogate.fast_sigmoid()\n",
    "        spike_grad2 = surrogate.fast_sigmoid()\n",
    "        spike_grad3 = surrogate.fast_sigmoid()\n",
    "        # Initialize layers\n",
    "        self.fc1 = nn.Linear(num_inputs, num_hidden)\n",
    "        self.lif1 = snn.Leaky(beta=beta, learn_threshold=False, spike_grad=spike_grad1)\n",
    "        print(self.lif1)\n",
    "        self.fc2 = nn.Linear(num_hidden, num_hidden)\n",
    "        self.lif2 = snn.Leaky(beta=beta, learn_threshold=False, spike_grad=spike_grad2)\n",
    "        self.fc3 = nn.Linear(num_hidden, num_outputs)\n",
    "        self.lif3 = snn.Leaky(beta=beta, learn_beta=True, threshold=1e5, reset_mechanism=\"none\", spike_grad=spike_grad3)\n",
    "\n",
    "    def _convert_to_spikes(self, data):\n",
    "        return snn.spikegen.delta(data, threshold=0.1, padding=False, off_spike=True)\n",
    "\n",
    "    def createGauss(self, mins, maxes, numPerDim, amplMax, dims):\n",
    "        self.amplMax = amplMax\n",
    "        self.numPerDim = numPerDim\n",
    "        self.M = []\n",
    "        self.sigma = []\n",
    "        for i in range(dims):\n",
    "            M, sigma = np.linspace(mins[i], maxes[i], numPerDim, retstep=True)\n",
    "            self.M.append(M)\n",
    "            self.sigma += [sigma, ] * self.numPerDim\n",
    "        self.M = torch.tensor(np.array(self.M).reshape(-1, self.numPerDim), dtype=torch.float)\n",
    "        self.sigma = torch.tensor(np.array(self.sigma).reshape(-1, self.numPerDim), dtype=torch.float)\n",
    "\n",
    "    def gaussianCurrents(self, data):\n",
    "        x = data.unsqueeze(-1).repeat([1, 1, self.numPerDim])\n",
    "        return (torch.exp(-1 / 2 * ((x - self.M) / self.sigma) ** 2) * self.amplMax).reshape(data.shape[0], -1)\n",
    "\n",
    "    def forward(self, x, num_steps=16):\n",
    "\n",
    "        x = self.gaussianCurrents(x)\n",
    "\n",
    "        mem1 = self.lif1.init_leaky()\n",
    "        mem2 = self.lif2.init_leaky()\n",
    "        mem3 = self.lif3.init_leaky()\n",
    "\n",
    "        # Record the final layer\n",
    "        spk3_rec = []\n",
    "        mem3_rec = []\n",
    "\n",
    "        spk2_rec = []\n",
    "        mem2_rec = []\n",
    "\n",
    "        spk1_rec = []\n",
    "        mem1_rec = []\n",
    "\n",
    "        for step in range(num_steps):\n",
    "            cur1 = self.fc1(x)\n",
    "            spk1, mem1 = self.lif1(cur1, mem1, )\n",
    "            cur2 = self.fc2(spk1)\n",
    "            spk2, mem2 = self.lif2(cur2, mem2)\n",
    "            cur3 = self.fc3(spk2)\n",
    "            spk3, mem3 = self.lif3(cur3, mem3)\n",
    "            spk3_rec.append(spk3)\n",
    "            mem3_rec.append(mem3)\n",
    "            spk2_rec.append(spk2)\n",
    "            mem2_rec.append(mem2)\n",
    "            spk1_rec.append(spk1)\n",
    "            mem1_rec.append(mem1)\n",
    "\n",
    "\n",
    "        return x, [torch.stack(spk1_rec, dim=0), torch.stack(spk2_rec, dim=0), torch.stack(spk3_rec, dim=0),\n",
    "                torch.stack(mem1_rec, dim=0), torch.stack(mem2_rec, dim=0), torch.stack(mem3_rec, dim=0)], \\\n",
    "               torch.stack(mem3_rec, dim=0)\n",
    "        # '''\n",
    "\n",
    "class Agent(object):\n",
    "    def __init__(self, lr, gamma, mem_size, n_actions, epsilon, batch_size, input_dims, epsilon_dec=0.99988,\n",
    "                 epsilon_end=0.01, targetUpdateSteps=20, model_file=\"./tmp/dict9 LIF\", q_dir='tmp\\\\q', visualize=False):\n",
    "        self.visualize= visualize\n",
    "        self.targetUpdateSteps = targetUpdateSteps\n",
    "        self.action_space = [i for i in range(n_actions)]\n",
    "        self.n_actions = n_actions\n",
    "        self.gamma = gamma\n",
    "        self.mem_size = mem_size\n",
    "        self.mem_cntr = 0\n",
    "        self.stepnum = 0\n",
    "        self.epsilon = epsilon\n",
    "        self.epsilon_dec = epsilon_dec\n",
    "        self.epsilon_end = epsilon_end\n",
    "        self.batch_size = batch_size\n",
    "        self.model_file = model_file\n",
    "\n",
    "        self.low = np.array(\n",
    "            [\n",
    "                # these are bounds for position\n",
    "                # realistically the environment should have ended\n",
    "                # long before we reach more than 50% outside\n",
    "                -1.5,\n",
    "                -1.5,\n",
    "                # velocity bounds is 5x rated speed\n",
    "                -5.0,\n",
    "                -5.0,\n",
    "                -np.pi,\n",
    "                -5.0,\n",
    "                -0.0,\n",
    "                -0.0,\n",
    "            ]\n",
    "        ).astype(np.float32)\n",
    "        self.high = np.array(\n",
    "            [\n",
    "                # these are bounds for position\n",
    "                # realistically the environment should have ended\n",
    "                # long before we reach more than 50% outside\n",
    "                1.5,\n",
    "                1.5,\n",
    "                # velocity bounds is 5x rated speed\n",
    "                5.0,\n",
    "                5.0,\n",
    "                np.pi,\n",
    "                5.0,\n",
    "                1.0,\n",
    "                1.0,\n",
    "            ]\n",
    "        ).astype(np.float32)\n",
    "\n",
    "        self.dtype = torch.float\n",
    "        self.device = torch.device(\"cpu\")\n",
    "\n",
    "        gaussPerDim = 64\n",
    "        hiddenSize = 128\n",
    "        self.q_net = Net(input_dims[0] * gaussPerDim, hiddenSize, n_actions).to(self.device)\n",
    "        self.q_net.createGauss(self.low, self.high, gaussPerDim, 1.0, input_dims[0])\n",
    "        self.t_net = Net(input_dims[0] * gaussPerDim, hiddenSize, n_actions).to(self.device)\n",
    "        self.t_net.createGauss(self.low, self.high, gaussPerDim, 1.0, input_dims[0])\n",
    "        self.t_net.load_state_dict(self.q_net.state_dict())\n",
    "\n",
    "        # self.loss = nn.CrossEntropyLoss()\n",
    "        self.optimizer = torch.optim.Adam(self.q_net.parameters(), lr=lr, betas=(0.9, 0.999))\n",
    "        # self.q_eval = DeepQNetwork(lr, n_actions, input_dims=input_dims, name='q_eval', chkpt_dir=q_dir)\n",
    "\n",
    "        self.state_memory = np.zeros((self.mem_size, *input_dims))\n",
    "        self.new_state_memory = np.zeros((self.mem_size, *input_dims))\n",
    "        self.action_memory = np.zeros((self.mem_size, self.n_actions), dtype=np.int8)\n",
    "        self.reward_memory = np.zeros(self.mem_size)\n",
    "        self.terminal_memory = np.zeros(self.mem_size, dtype=np.int8)\n",
    "\n",
    "    def store_transition(self, state, action, reward, state_, terminal):\n",
    "        index = self.mem_cntr % self.mem_size\n",
    "        self.state_memory[index] = state\n",
    "        self.new_state_memory[index] = state_\n",
    "        self.reward_memory[index] = reward\n",
    "        actions = np.zeros(self.n_actions)\n",
    "        actions[action] = 1.0\n",
    "        self.action_memory[index] = actions\n",
    "        self.terminal_memory[index] = 1 - terminal\n",
    "        self.mem_cntr += 1\n",
    "\n",
    "    def choose_action(self, state):\n",
    "        state = state[np.newaxis, :]\n",
    "        rand = np.random.random()\n",
    "        # print(self.epsilon)\n",
    "        if rand < self.epsilon:\n",
    "            action = np.random.choice(self.action_space)\n",
    "        else:\n",
    "            with torch.no_grad():\n",
    "                self.q_net.eval()\n",
    "                gaussX, spikes, actions = self.q_net(torch.tensor(state, dtype=self.dtype).to(self.device))\n",
    "                actions = actions.cpu()[-1, 0, :].detach().numpy()\n",
    "                action = np.argmax(actions)\n",
    "        # return action, [s.cpu().numpy() for s in spikes], gaussX.cpu().numpy()\n",
    "        return action\n",
    "\n",
    "    def learn(self):\n",
    "        if self.mem_cntr > self.batch_size:\n",
    "            max_mem = self.mem_cntr if self.mem_cntr < self.mem_size else self.mem_size\n",
    "\n",
    "            batch = np.random.choice(max_mem, self.batch_size)\n",
    "            state_batch = self.state_memory[batch]\n",
    "            new_state_batch = self.new_state_memory[batch]\n",
    "            action_batch = self.action_memory[batch]\n",
    "            action_values = np.array(self.action_space, dtype=np.int8)\n",
    "            action_indices = np.dot(action_batch, action_values)\n",
    "            reward_batch = self.reward_memory[batch]\n",
    "            terminal_batch = self.terminal_memory[batch]\n",
    "\n",
    "            self.q_net.train()\n",
    "            evalspikes, _, q_eval = self.q_net.forward(torch.tensor(state_batch, dtype=self.dtype).to(self.device))\n",
    "            q_eval = q_eval[-1, :, :]\n",
    "\n",
    "            self.t_net.eval()\n",
    "            _, _, q_next = self.t_net.forward(torch.tensor(new_state_batch, dtype=self.dtype).to(self.device))\n",
    "\n",
    "            q_next = q_next[-1, :, :]\n",
    "\n",
    "            q_target = torch.clone(q_eval).detach()\n",
    "\n",
    "\n",
    "            batch_index = np.arange(self.batch_size, dtype=np.int32)\n",
    "            q_target[batch_index, action_indices] = (\n",
    "                    torch.tensor(reward_batch, device=self.device) + torch.tensor(self.gamma, device=self.device) \\\n",
    "                    * torch.max(q_next, dim=1).values * torch.tensor(terminal_batch, device=self.device)).type(\n",
    "                self.dtype).detach()\n",
    "\n",
    "            criterion = nn.MSELoss()\n",
    "            loss = criterion(q_eval, q_target)\n",
    "            self.optimizer.zero_grad()\n",
    "            loss.backward()\n",
    "\n",
    "            for param in self.q_net.parameters():\n",
    "                if param.grad is not None:\n",
    "                    param.grad.data.clamp_(-1, 1)\n",
    "            self.optimizer.step()\n",
    "\n",
    "            self.epsilon = self.epsilon * self.epsilon_dec if self.epsilon > self.epsilon_end else self.epsilon_end\n",
    "\n",
    "            if self.stepnum % self.targetUpdateSteps == 0:\n",
    "                self.t_net.load_state_dict(self.q_net.state_dict())\n",
    "\n",
    "            self.stepnum += 1\n",
    "\n",
    "    def save_models(self):\n",
    "        torch.save(self.q_net.state_dict(), self.model_file)\n",
    "\n",
    "    def load_models(self):\n",
    "        self.q_net.load_state_dict(torch.load(self.model_file, map_location=torch.device('cpu')))\n",
    "        self.q_net.eval()"
   ],
   "metadata": {
    "id": "v741rk8F1adL"
   },
   "execution_count": 26,
   "outputs": []
  },
  {
   "cell_type": "markdown",
   "metadata": {
    "id": "tJaxSRBp1F57"
   },
   "source": [
    "# Initialization"
   ]
  },
  {
   "cell_type": "code",
   "execution_count": 27,
   "metadata": {
    "colab": {
     "base_uri": "https://localhost:8080/"
    },
    "id": "1e-owt_S1F5-",
    "outputId": "2e76748c-f437-4316-cc3a-b974bf1274fb"
   },
   "outputs": [
    {
     "name": "stdout",
     "output_type": "stream",
     "text": [
      "Leaky()\n",
      "Leaky()\n",
      "tensor(0.9500)\n"
     ]
    }
   ],
   "source": [
    "stime = time.time()\n",
    "env = gym.make(env_name, render_mode='rgb_array')\n",
    "\n",
    "n_actions = int(env.action_space.n)\n",
    "n_input_dims = int(env.observation_space.shape[0]) # If the state space is not an 1-D vector then we need to change this\n",
    "\n",
    "agent = Agent(gamma = gamma, epsilon = epsilon, lr = lr, input_dims = [n_input_dims], n_actions = n_actions,\n",
    "              mem_size = 1000000, batch_size = batch_size, epsilon_end = epsilon_end)\n",
    "\n",
    "scores = [] # Logged every episode\n",
    "eps_history = [] # Logged every episode\n",
    "avg_scores = [] # Logged every 10 episodes\n",
    "\n",
    "if(os.path.exists(model_file)):\n",
    "    agent.load_models()\n",
    "else:\n",
    "    agent.save_models()\n",
    "\n",
    "state = agent.q_net.state_dict()\n",
    "state[\"lif1.beta\"] = torch.tensor(0.95,dtype=torch.float)\n",
    "state[\"lif2.beta\"] = torch.tensor(0.95, dtype=torch.float)\n",
    "state[\"lif3.beta\"] = torch.tensor(1.0, dtype=torch.float)\n",
    "agent.q_net.load_state_dict(state)\n",
    "print(agent.q_net.lif1.beta)"
   ]
  },
  {
   "cell_type": "markdown",
   "metadata": {
    "id": "OMYWTBuf1F6E"
   },
   "source": [
    "# Training"
   ]
  },
  {
   "cell_type": "code",
   "execution_count": 28,
   "metadata": {
    "colab": {
     "base_uri": "https://localhost:8080/"
    },
    "id": "ZeKZvg_R1F6G",
    "outputId": "af1ce82b-835e-4e7c-dfb4-0f1a7cb01b57"
   },
   "outputs": [
    {
     "name": "stdout",
     "output_type": "stream",
     "text": [
      "episode\t 0 \tscore\t 0\n",
      "episode\t 1 \tscore\t -617.0\n",
      "episode\t 2 \tscore\t -857.0\n",
      "episode\t 3 \tscore\t -420.0\n",
      "episode\t 4 \tscore\t -191.0\n",
      "episode\t 5 \tscore\t -262.0\n",
      "episode\t 6 \tscore\t -205.0\n",
      "episode\t 7 \tscore\t -135.0\n",
      "episode\t 8 \tscore\t -232.0\n",
      "episode\t 9 \tscore\t -145.0\n",
      "episode\t 10 \tscore\t -328.0 \taverage_score -339.200\t \tepsilon 0.067\t\n",
      "episode\t 11 \tscore\t -276.0\n",
      "episode\t 12 \tscore\t -260.0\n",
      "episode\t 13 \tscore\t -284.0\n",
      "episode\t 14 \tscore\t -192.0\n",
      "episode\t 15 \tscore\t -160.0\n",
      "episode\t 16 \tscore\t -162.0\n",
      "episode\t 17 \tscore\t -201.0\n",
      "episode\t 18 \tscore\t -184.0\n",
      "episode\t 19 \tscore\t -152.0\n",
      "episode\t 20 \tscore\t -207.0 \taverage_score -207.800\t \tepsilon 0.052\t\n",
      "episode\t 21 \tscore\t -207.0\n",
      "episode\t 22 \tscore\t -425.0\n",
      "episode\t 23 \tscore\t -148.0\n",
      "episode\t 24 \tscore\t -125.0\n",
      "episode\t 25 \tscore\t -157.0\n",
      "episode\t 26 \tscore\t -167.0\n",
      "episode\t 27 \tscore\t -141.0\n",
      "episode\t 28 \tscore\t -195.0\n",
      "episode\t 29 \tscore\t -211.0\n",
      "episode\t 30 \tscore\t -326.0 \taverage_score -210.200\t \tepsilon 0.040\t\n",
      "episode\t 31 \tscore\t -136.0\n",
      "episode\t 32 \tscore\t -185.0\n",
      "episode\t 33 \tscore\t -190.0\n",
      "episode\t 34 \tscore\t -215.0\n",
      "episode\t 35 \tscore\t -172.0\n",
      "episode\t 36 \tscore\t -119.0\n",
      "episode\t 37 \tscore\t -128.0\n",
      "episode\t 38 \tscore\t -150.0\n",
      "episode\t 39 \tscore\t -321.0\n",
      "episode\t 40 \tscore\t -270.0 \taverage_score -188.600\t \tepsilon 0.032\t\n",
      "episode\t 41 \tscore\t -115.0\n",
      "episode\t 42 \tscore\t -132.0\n",
      "episode\t 43 \tscore\t -171.0\n",
      "episode\t 44 \tscore\t -178.0\n",
      "episode\t 45 \tscore\t -143.0\n",
      "episode\t 46 \tscore\t -135.0\n",
      "episode\t 47 \tscore\t -153.0\n",
      "episode\t 48 \tscore\t -90.0\n",
      "episode\t 49 \tscore\t -244.0\n",
      "episode\t 50 \tscore\t -118.0 \taverage_score -147.900\t \tepsilon 0.027\t\n",
      "episode\t 51 \tscore\t -189.0\n",
      "episode\t 52 \tscore\t -186.0\n",
      "episode\t 53 \tscore\t -225.0\n",
      "episode\t 54 \tscore\t -302.0\n",
      "episode\t 55 \tscore\t -125.0\n",
      "episode\t 56 \tscore\t -196.0\n",
      "episode\t 57 \tscore\t -301.0\n",
      "episode\t 58 \tscore\t -154.0\n",
      "episode\t 59 \tscore\t -160.0\n",
      "episode\t 60 \tscore\t -119.0 \taverage_score -195.700\t \tepsilon 0.021\t\n",
      "episode\t 61 \tscore\t -187.0\n",
      "episode\t 62 \tscore\t -237.0\n",
      "episode\t 63 \tscore\t -261.0\n",
      "episode\t 64 \tscore\t -123.0\n",
      "episode\t 65 \tscore\t -126.0\n",
      "episode\t 66 \tscore\t -129.0\n",
      "episode\t 67 \tscore\t -206.0\n",
      "episode\t 68 \tscore\t -103.0\n",
      "episode\t 69 \tscore\t -141.0\n",
      "episode\t 70 \tscore\t -172.0 \taverage_score -168.500\t \tepsilon 0.017\t\n",
      "episode\t 71 \tscore\t -187.0\n",
      "episode\t 72 \tscore\t -222.0\n",
      "episode\t 73 \tscore\t -182.0\n",
      "episode\t 74 \tscore\t -247.0\n",
      "episode\t 75 \tscore\t -269.0\n",
      "episode\t 76 \tscore\t -181.0\n",
      "episode\t 77 \tscore\t -284.0\n",
      "episode\t 78 \tscore\t -169.0\n",
      "episode\t 79 \tscore\t -105.0\n",
      "episode\t 80 \tscore\t -148.0 \taverage_score -199.400\t \tepsilon 0.014\t\n",
      "episode\t 81 \tscore\t -164.0\n",
      "episode\t 82 \tscore\t -98.0\n",
      "episode\t 83 \tscore\t -205.0\n",
      "episode\t 84 \tscore\t -113.0\n",
      "episode\t 85 \tscore\t -226.0\n",
      "episode\t 86 \tscore\t -117.0\n",
      "episode\t 87 \tscore\t -145.0\n",
      "episode\t 88 \tscore\t -127.0\n"
     ]
    }
   ],
   "source": [
    "observation_, reward, done, info, score = 0, 0, 0, 0, 0\n",
    "i = -1\n",
    "while time.time() - stime < int(60 * 60 * n_hrs):\n",
    "    i += 1\n",
    "    done = False\n",
    "    if i % 10 == 0 and i > 0:\n",
    "        avg_score = np.mean(scores[max(0, i - 10):(i + 1)])\n",
    "        avg_scores.append(avg_score)\n",
    "        print('episode\\t', i, '\\tscore\\t', score, '\\taverage_score %.3f\\t' % avg_score, '\\tepsilon %.3f\\t' % agent.epsilon)\n",
    "        agent.save_models()\n",
    "    else:\n",
    "        print('episode\\t', i, '\\tscore\\t', score)\n",
    "\n",
    "    if(mode == 'colab'):\n",
    "        observation = env.reset()\n",
    "    else:\n",
    "        observation, _ = env.reset()\n",
    "    score = 0\n",
    "    \n",
    "    while not done:\n",
    "        if i % 5 == 0:\n",
    "            env.render()\n",
    "        \n",
    "        action = agent.choose_action(observation)\n",
    "\n",
    "        if(mode == 'colab'):\n",
    "            observation_, reward, done, info = env.step(action)\n",
    "        else:\n",
    "            observation_, reward, done, info, _ = env.step(action)\n",
    "        score += reward\n",
    "        agent.store_transition(observation, action, reward, observation_, int(done))\n",
    "        observation = observation_\n",
    "        agent.learn()\n",
    "    scores.append(score)\n",
    "    eps_history.append(agent.epsilon)"
   ]
  },
  {
   "cell_type": "code",
   "execution_count": 29,
   "metadata": {
    "colab": {
     "base_uri": "https://localhost:8080/",
     "height": 513
    },
    "id": "OwOVcCXj1F6K",
    "outputId": "4e8e3c16-871b-442b-f84f-8d99b9c42f45"
   },
   "outputs": [
    {
     "name": "stdout",
     "output_type": "stream",
     "text": [
      "Total time:  1816.5548059940338\n"
     ]
    },
    {
     "data": {
      "text/plain": "<Figure size 600x600 with 1 Axes>",
      "image/png": "[encoded data removed]"
     },
     "metadata": {},
     "output_type": "display_data"
    },
    {
     "data": {
      "text/plain": "<Figure size 600x600 with 1 Axes>",
      "image/png": "[encoded data removed]"
     },
     "metadata": {},
     "output_type": "display_data"
    }
   ],
   "source": [
    "print(\"Total time: \", time.time() - stime)\n",
    "\n",
    "x = [idx + 1 for idx in range(len(scores))]\n",
    "\n",
    "plt.figure(figsize=(6,6))\n",
    "plt.plot(x, scores)\n",
    "plt.title('Scores ['+env_name+']')\n",
    "plt.grid()\n",
    "plt.show()\n",
    "\n",
    "plt.figure(figsize=(6,6))\n",
    "plt.plot(x, eps_history)\n",
    "plt.title('Epsilon history ['+env_name+']')\n",
    "plt.grid()\n",
    "plt.show()"
   ]
  },
  {
   "cell_type": "code",
   "execution_count": 30,
   "metadata": {
    "id": "vbdK4ayx1F6L"
   },
   "outputs": [
    {
     "name": "stdout",
     "output_type": "stream",
     "text": [
      "Done logging results\n"
     ]
    }
   ],
   "source": [
    "dfname = str(datetime.now()).split('.')[0].replace(' ', '_').replace('-', '_').replace(':', '_') + '_runlogs'\n",
    "df = pd.DataFrame({'score': scores, 'Epsilon': eps_history})\n",
    "df_avg = pd.DataFrame({'avg_score': avg_scores})\n",
    "\n",
    "df.to_csv(dfname+'.csv', sep=';', header=True, index=False)\n",
    "df_avg.to_csv(dfname+'_avg.csv', sep=';', header=True, index=False)\n",
    "\n",
    "print(\"Done logging results\")"
   ]
  },
  {
   "cell_type": "markdown",
   "metadata": {
    "id": "HLzK_Wb-1F6N"
   },
   "source": [
    "# Competitive round"
   ]
  },
  {
   "cell_type": "code",
   "execution_count": 31,
   "metadata": {
    "colab": {
     "base_uri": "https://localhost:8080/"
    },
    "id": "Z9BG7QVa1F6P",
    "outputId": "95b1bc11-d4b7-4856-8d3c-7515493e0f94"
   },
   "outputs": [
    {
     "name": "stdout",
     "output_type": "stream",
     "text": [
      "Starting competitive trials...\n",
      "epsilon 0.011579552505270669\n",
      "Competitive round  1  Overall score  -176.0\n",
      "Competitive round  2  Overall score  -269.0\n",
      "Competitive round  3  Overall score  -386.0\n",
      "Competitive round  4  Overall score  -490.0\n",
      "Competitive round  5  Overall score  -737.0\n"
     ]
    }
   ],
   "source": [
    "print('Starting competitive trials...')\n",
    "\n",
    "compscores = 0\n",
    "agent.load_models()\n",
    "print('epsilon', agent.epsilon)\n",
    "\n",
    "for i in range(n_rounds):\n",
    "    done = False\n",
    "\n",
    "    if(mode == 'colab'):\n",
    "        observation = env.reset()\n",
    "    else:\n",
    "        observation, _ = env.reset()\n",
    "\n",
    "    score = 0\n",
    "    while not done:\n",
    "        env.render()\n",
    "        action = agent.choose_action(observation)\n",
    "\n",
    "        if(mode == 'colab'):\n",
    "            observation_, reward, done, info = env.step(action)\n",
    "        else:\n",
    "            observation_, reward, done, info, _ = env.step(action)\n",
    "\n",
    "        agent.store_transition(observation, action, reward, observation_, int(done))\n",
    "        observation = observation_\n",
    "        score += reward\n",
    "    compscores += score\n",
    "    print(\"Competitive round \", i + 1, \" Overall score \", compscores)"
   ]
  },
  {
   "cell_type": "code",
   "execution_count": 32,
   "metadata": {
    "id": "MNZT69O11F6Q"
   },
   "outputs": [],
   "source": [
    "with open(outfilename, \"w\") as f:\n",
    "    f.writelines(\"%s: %i\\n\" % (\"Mikro Lander\", compscores))"
   ]
  }
 ],
 "metadata": {
  "kernelspec": {
   "display_name": "Python 3",
   "language": "python",
   "name": "python3"
  },
  "language_info": {
   "codemirror_mode": {
    "name": "ipython",
    "version": 3
   },
   "file_extension": ".py",
   "mimetype": "text/x-python",
   "name": "python",
   "nbconvert_exporter": "python",
   "pygments_lexer": "ipython3",
   "version": "3.6.4"
  },
  "colab": {
   "provenance": [],
   "collapsed_sections": [
    "b3CWzWss1m3M"
   ],
   "toc_visible": true
  }
 },
 "nbformat": 4,
 "nbformat_minor": 0
}
