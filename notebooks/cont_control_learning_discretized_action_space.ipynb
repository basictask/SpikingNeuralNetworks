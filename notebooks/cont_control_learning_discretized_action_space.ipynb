{
  "cells": [
    {
      "cell_type": "markdown",
      "metadata": {
        "id": "l8Pk2GDiu4Bb"
      },
      "source": [
        "# Directories"
      ]
    },
    {
      "cell_type": "code",
      "execution_count": 79,
      "metadata": {
        "colab": {
          "base_uri": "https://localhost:8080/"
        },
        "id": "9EyOhCiEu4Bk",
        "outputId": "75a279db-3e5f-4bdf-db81-c313a476355d"
      },
      "outputs": [
        {
          "output_type": "stream",
          "name": "stdout",
          "text": [
            "Looking in indexes: https://pypi.org/simple, https://us-python.pkg.dev/colab-wheels/public/simple/\n",
            "Requirement already satisfied: snntorch in /usr/local/lib/python3.7/dist-packages (0.5.3)\n",
            "Requirement already satisfied: pandas in /usr/local/lib/python3.7/dist-packages (from snntorch) (1.3.5)\n",
            "Requirement already satisfied: torch>=1.1.0 in /usr/local/lib/python3.7/dist-packages (from snntorch) (1.12.1+cu113)\n",
            "Requirement already satisfied: numpy>=1.17 in /usr/local/lib/python3.7/dist-packages (from snntorch) (1.21.6)\n",
            "Requirement already satisfied: matplotlib in /usr/local/lib/python3.7/dist-packages (from snntorch) (3.2.2)\n",
            "Requirement already satisfied: typing-extensions in /usr/local/lib/python3.7/dist-packages (from torch>=1.1.0->snntorch) (4.1.1)\n",
            "Requirement already satisfied: python-dateutil>=2.1 in /usr/local/lib/python3.7/dist-packages (from matplotlib->snntorch) (2.8.2)\n",
            "Requirement already satisfied: pyparsing!=2.0.4,!=2.1.2,!=2.1.6,>=2.0.1 in /usr/local/lib/python3.7/dist-packages (from matplotlib->snntorch) (3.0.9)\n",
            "Requirement already satisfied: cycler>=0.10 in /usr/local/lib/python3.7/dist-packages (from matplotlib->snntorch) (0.11.0)\n",
            "Requirement already satisfied: kiwisolver>=1.0.1 in /usr/local/lib/python3.7/dist-packages (from matplotlib->snntorch) (1.4.4)\n",
            "Requirement already satisfied: six>=1.5 in /usr/local/lib/python3.7/dist-packages (from python-dateutil>=2.1->matplotlib->snntorch) (1.15.0)\n",
            "Requirement already satisfied: pytz>=2017.3 in /usr/local/lib/python3.7/dist-packages (from pandas->snntorch) (2022.6)\n",
            "Looking in indexes: https://pypi.org/simple, https://us-python.pkg.dev/colab-wheels/public/simple/\n",
            "Requirement already satisfied: torch in /usr/local/lib/python3.7/dist-packages (1.12.1+cu113)\n",
            "Requirement already satisfied: typing-extensions in /usr/local/lib/python3.7/dist-packages (from torch) (4.1.1)\n",
            "Looking in indexes: https://pypi.org/simple, https://us-python.pkg.dev/colab-wheels/public/simple/\n",
            "Requirement already satisfied: gym in /usr/local/lib/python3.7/dist-packages (0.25.2)\n",
            "Requirement already satisfied: gym-notices>=0.0.4 in /usr/local/lib/python3.7/dist-packages (from gym) (0.0.8)\n",
            "Requirement already satisfied: importlib-metadata>=4.8.0 in /usr/local/lib/python3.7/dist-packages (from gym) (4.13.0)\n",
            "Requirement already satisfied: numpy>=1.18.0 in /usr/local/lib/python3.7/dist-packages (from gym) (1.21.6)\n",
            "Requirement already satisfied: cloudpickle>=1.2.0 in /usr/local/lib/python3.7/dist-packages (from gym) (1.5.0)\n",
            "Requirement already satisfied: zipp>=0.5 in /usr/local/lib/python3.7/dist-packages (from importlib-metadata>=4.8.0->gym) (3.10.0)\n",
            "Requirement already satisfied: typing-extensions>=3.6.4 in /usr/local/lib/python3.7/dist-packages (from importlib-metadata>=4.8.0->gym) (4.1.1)\n",
            "Looking in indexes: https://pypi.org/simple, https://us-python.pkg.dev/colab-wheels/public/simple/\n",
            "Requirement already satisfied: gym[box2d] in /usr/local/lib/python3.7/dist-packages (0.25.2)\n",
            "Requirement already satisfied: importlib-metadata>=4.8.0 in /usr/local/lib/python3.7/dist-packages (from gym[box2d]) (4.13.0)\n",
            "Requirement already satisfied: gym-notices>=0.0.4 in /usr/local/lib/python3.7/dist-packages (from gym[box2d]) (0.0.8)\n",
            "Requirement already satisfied: numpy>=1.18.0 in /usr/local/lib/python3.7/dist-packages (from gym[box2d]) (1.21.6)\n",
            "Requirement already satisfied: cloudpickle>=1.2.0 in /usr/local/lib/python3.7/dist-packages (from gym[box2d]) (1.5.0)\n",
            "Requirement already satisfied: pygame==2.1.0 in /usr/local/lib/python3.7/dist-packages (from gym[box2d]) (2.1.0)\n",
            "Requirement already satisfied: swig==4.* in /usr/local/lib/python3.7/dist-packages (from gym[box2d]) (4.1.0)\n",
            "Requirement already satisfied: box2d-py==2.3.5 in /usr/local/lib/python3.7/dist-packages (from gym[box2d]) (2.3.5)\n",
            "Requirement already satisfied: zipp>=0.5 in /usr/local/lib/python3.7/dist-packages (from importlib-metadata>=4.8.0->gym[box2d]) (3.10.0)\n",
            "Requirement already satisfied: typing-extensions>=3.6.4 in /usr/local/lib/python3.7/dist-packages (from importlib-metadata>=4.8.0->gym[box2d]) (4.1.1)\n",
            "mkdir: cannot create directory ‘tmp’: File exists\n",
            "mkdir: cannot create directory ‘logs’: File exists\n"
          ]
        }
      ],
      "source": [
        "import os\n",
        "mode = -1\n",
        "try:\n",
        "    os.getlogin() # This will return an exception if ran in Google colab\n",
        "    mode = 'local'\n",
        "except:\n",
        "    # Install necessary files and create necessary folders (Only when ran in Google Drive)\n",
        "    !pip install snntorch\n",
        "    !pip install torch\n",
        "    !pip install gym\n",
        "    !pip install gym[box2d]\n",
        "    !mkdir tmp\n",
        "    !mkdir logs\n",
        "    #from google.colab import drive\n",
        "    #drive.mount('/content/drive')\n",
        "    #!cp \"/content/drive/MyDrive/Colab Notebooks/dict9 LIF\" \"/content/tmp/\"\n",
        "    mode = 'colab'"
      ]
    },
    {
      "cell_type": "markdown",
      "metadata": {
        "id": "hv0oAX5su4Bp"
      },
      "source": [
        "# Imports"
      ]
    },
    {
      "cell_type": "code",
      "execution_count": 80,
      "metadata": {
        "id": "YaOc25LDu4Br"
      },
      "outputs": [],
      "source": [
        "import gym\n",
        "import time\n",
        "import numpy as np\n",
        "import pandas as pd\n",
        "import pickle\n",
        "import random\n",
        "from datetime import datetime\n",
        "from collections import deque, namedtuple\n",
        "import matplotlib.pyplot as plt\n",
        "\n",
        "import torch\n",
        "import torch.nn as nn\n",
        "import torch.nn.functional as F\n",
        "import snntorch as snn\n",
        "from snntorch import spikegen\n",
        "from snntorch import surrogate\n",
        "\n",
        "import warnings\n",
        "warnings.filterwarnings('ignore')"
      ]
    },
    {
      "cell_type": "code",
      "execution_count": 81,
      "metadata": {
        "id": "1W8CBfWbvZM8"
      },
      "outputs": [],
      "source": [
        "# A small method to save plots\n",
        "PROJECT_ROOT_DIR = \".\"\n",
        "IMAGES_PATH = os.path.join(PROJECT_ROOT_DIR, \"images\")\n",
        "os.makedirs(IMAGES_PATH, exist_ok=True)\n",
        "\n",
        "def save_fig(fig_id, tight_layout=True, resolution=300):\n",
        "    path = os.path.join(IMAGES_PATH, fig_id)\n",
        "    print(\"Saving figure\", fig_id)\n",
        "    if tight_layout:\n",
        "        plt.tight_layout()\n",
        "    plt.savefig(path, format='png', dpi=resolution)"
      ]
    },
    {
      "cell_type": "markdown",
      "metadata": {
        "id": "DtnGruUvu4Bv"
      },
      "source": [
        "# Parameters ###"
      ]
    },
    {
      "cell_type": "code",
      "execution_count": 82,
      "metadata": {
        "id": "rAqS6F-Yu4By",
        "colab": {
          "base_uri": "https://localhost:8080/"
        },
        "outputId": "9eeeb94b-5fd9-4c3a-8a8b-31d7f1a40aae"
      },
      "outputs": [
        {
          "output_type": "stream",
          "name": "stdout",
          "text": [
            "Env name (clean): bipedalwalker_v3\n",
            "Datetime (clean): 2022_11_18_16_31_17\n",
            "Output file: bipedalwalker_v3scoreboard.txt\n",
            "Model file: ./tmp/bipedalwalker_v3_dict9\n",
            "Running training on:  cuda\n",
            "Environment: colab\n"
          ]
        }
      ],
      "source": [
        "env_name = 'BipedalWalker-v3'\n",
        "env_name_clean = env_name.lower().replace('-','_')\n",
        "filename = env_name_clean + \".png\"\n",
        "outfilename = env_name_clean + \"scoreboard.txt\"\n",
        "datename = str(datetime.now()).split('.')[0].replace(' ', '_').replace('-', '_').replace(':', '_') \n",
        "scorefigname = env_name_clean + '_' + datename + '_scores.png'\n",
        "epsfigname = env_name_clean + '_' + datename + '_eps_history.png'\n",
        "cumfigname = env_name_clean + '_' + datename + '_cumulated_reward.png'\n",
        "distfigname = env_name_clean + '_' + datename + '_distances.png'\n",
        "meandistfigname = env_name_clean + '_' + datename + '_mean_distances.png'\n",
        "model_file = './tmp/'  + env_name_clean + '_dict9'\n",
        "model_file_target = model_file + '_target'\n",
        "device = torch.device('cuda' if torch.cuda.is_available() else 'cpu')\n",
        "\n",
        "print('Env name (clean):',env_name_clean)\n",
        "print('Datetime (clean):', datename)\n",
        "print('Output file:', outfilename)\n",
        "print('Model file:', model_file)\n",
        "print('Running training on: ', device)\n",
        "print('Environment:', mode)"
      ]
    },
    {
      "cell_type": "code",
      "execution_count": 83,
      "metadata": {
        "id": "uSJzX05Vu4B1"
      },
      "outputs": [],
      "source": [
        "lr = 0.0005             # Learning rate\n",
        "epsilon = 0.2\n",
        "epsilon_end = 0.01\n",
        "epsilon_decay = 0.994\n",
        "gamma = 0.99\n",
        "batch_size = 64\n",
        "mean_every = 2\n",
        "update_every = 4\n",
        "tau = 1e-3\n",
        "gauss_per_dim = 64\n",
        "n_games = 1000          # Number of games to train for\n",
        "n_rounds = 5            # Number of competitive rounds to play"
      ]
    },
    {
      "cell_type": "markdown",
      "metadata": {
        "id": "wU6d2CLFu4B3"
      },
      "source": [
        "# Classes"
      ]
    },
    {
      "cell_type": "markdown",
      "source": [
        "## Net"
      ],
      "metadata": {
        "id": "dlbfSeXDSIiJ"
      }
    },
    {
      "cell_type": "code",
      "execution_count": 84,
      "metadata": {
        "id": "jdQHnqisgu4v"
      },
      "outputs": [],
      "source": [
        "class Net(nn.Module):\n",
        "    def __init__(self, num_inputs, num_hidden, num_outputs, beta=0.95):\n",
        "        super(Net, self).__init__()\n",
        "\n",
        "        # Initialize grad objects        \n",
        "        spike_grad1 = surrogate.fast_sigmoid()\n",
        "        spike_grad2 = surrogate.fast_sigmoid()\n",
        "        spike_grad3 = surrogate.fast_sigmoid()\n",
        "        # spike_grad4 = surrogate.fast_sigmoid() # Uncomment for 4 layers\n",
        "\n",
        "        # Initialize layers\n",
        "        self.fc1 = nn.Linear(num_inputs, 512)\n",
        "        self.lif1 = snn.Leaky(beta=beta, learn_threshold=False, spike_grad=spike_grad1)\n",
        "        \n",
        "        self.fc2 = nn.Linear(512, 128)\n",
        "        self.lif2 = snn.Leaky(beta=beta, learn_threshold=False, spike_grad=spike_grad2)\n",
        "\n",
        "        self.fc3 = nn.Linear(128, num_outputs) # COMMENT for 4 layers\n",
        "        self.lif3 = snn.Leaky(beta=beta, learn_beta=True, threshold=1e5, reset_mechanism=\"none\", spike_grad=spike_grad3)\n",
        "\n",
        "        # self.fc3 = nn.Linear(256, 128) # Uncomment for 4 layers\n",
        "        # self.lif3 = snn.Leaky(beta=beta, learn_threshold=False, spike_grad=spike_grad3)\n",
        "\n",
        "        # self.fc4 = nn.Linear(128, num_outputs) # Uncomment for 4 layers\n",
        "        # self.lif4 = snn.Leaky(beta=beta, learn_beta=True, threshold=1e5, reset_mechanism=\"none\", spike_grad=spike_grad4) # Uncomment for 4 layers\n",
        "\n",
        "    def _convert_to_spikes(self, data):\n",
        "        return snn.spikegen.delta(data, threshold=0.1, padding=False, off_spike=True)\n",
        "\n",
        "    def createGauss(self, mins, maxes, numPerDim, amplMax, dims):\n",
        "        self.amplMax = amplMax\n",
        "        self.numPerDim = numPerDim\n",
        "        self.M = []\n",
        "        self.sigma = []\n",
        "        for i in range(dims):\n",
        "            M, sigma = np.linspace(mins[i], maxes[i], numPerDim, retstep=True)\n",
        "            self.M.append(M)\n",
        "            self.sigma += [sigma, ] * self.numPerDim\n",
        "        self.M = torch.tensor(np.array(self.M).reshape(-1, self.numPerDim), dtype=torch.float).to(device)\n",
        "        self.sigma = torch.tensor(np.array(self.sigma).reshape(-1, self.numPerDim), dtype=torch.float).to(device)\n",
        "\n",
        "    def gaussianCurrents(self, data):\n",
        "        x = data.unsqueeze(-1).repeat([1, 1, self.numPerDim])\n",
        "        return (torch.exp(-1 / 2 * ((x - self.M) / self.sigma) ** 2) * self.amplMax).reshape(data.shape[0], -1)\n",
        "\n",
        "    def forward(self, x, num_steps=16):\n",
        "        x = self.gaussianCurrents(x)\n",
        "        mem1 = self.lif1.init_leaky()\n",
        "        mem2 = self.lif2.init_leaky()\n",
        "        mem3 = self.lif3.init_leaky()\n",
        "        # mem4 = self.lif3.init_leaky() # Uncomment for 4 layers\n",
        "\n",
        "        # Record the final layer#\n",
        "        spk1_rec = []\n",
        "        mem1_rec = []\n",
        "        \n",
        "        spk2_rec = []\n",
        "        mem2_rec = []\n",
        "        \n",
        "        spk3_rec = []\n",
        "        mem3_rec = []        \n",
        "        \n",
        "        # spk4_rec = [] # Uncomment for 4 layers\n",
        "        # mem4_rec = []  \n",
        "\n",
        "        for step in range(num_steps):\n",
        "            cur1 = self.fc1(x)\n",
        "            spk1, mem1 = self.lif1(cur1, mem1)\n",
        "            \n",
        "            cur2 = self.fc2(spk1)\n",
        "            spk2, mem2 = self.lif2(cur2, mem2)\n",
        "            \n",
        "            cur3 = self.fc3(spk2)\n",
        "            spk3, mem3 = self.lif3(cur3, mem3)\n",
        "            \n",
        "            # cur4 = self.fc4(spk3) # Uncomment for 4 layers\n",
        "            # spk4, mem4 = self.lif4(cur4, mem4)\n",
        "            \n",
        "            spk1_rec.append(spk1)\n",
        "            mem1_rec.append(mem1)\n",
        "            \n",
        "            spk2_rec.append(spk2)\n",
        "            mem2_rec.append(mem2)\n",
        "            \n",
        "            spk3_rec.append(spk3)\n",
        "            mem3_rec.append(mem3)\n",
        "            \n",
        "            # spk4_rec.append(spk4) # Uncomment for 4 layers\n",
        "            # mem4_rec.append(mem4)\n",
        "\n",
        "        return x, [torch.stack(spk1_rec, dim=0), torch.stack(spk2_rec, dim=0), torch.stack(spk3_rec, dim=0),\n",
        "                torch.stack(mem1_rec, dim=0), torch.stack(mem2_rec, dim=0), torch.stack(mem3_rec, dim=0)], \\\n",
        "               torch.stack(mem3_rec, dim=0)"
      ]
    },
    {
      "cell_type": "markdown",
      "source": [
        "## ReplayBuffer"
      ],
      "metadata": {
        "id": "eywnQwfISDqe"
      }
    },
    {
      "cell_type": "code",
      "source": [
        "class ReplayBuffer:\n",
        "    def __init__(self, action_size, buffer_size, batch_size, seed=42):\n",
        "        self.action_size = action_size\n",
        "        self.memory = deque(maxlen=buffer_size)\n",
        "        self.batch_size = batch_size\n",
        "        self.experience = namedtuple(\"Experience\", field_names=[\"state\", \"action\", \"reward\", \"next_state\", \"done\"])\n",
        "        self.seed = random.seed(seed)\n",
        "\n",
        "    def add(self, state, action, reward, next_state, done):\n",
        "        e = self.experience(state, action, reward, next_state, done)\n",
        "        self.memory.append(e)\n",
        "\n",
        "    def sample(self):\n",
        "        experiences = random.sample(self.memory, k=self.batch_size)\n",
        "        states = torch.from_numpy(np.vstack([e.state for e in experiences if e is not None])).float().to(device)\n",
        "        actions = torch.from_numpy(np.vstack([e.action for e in experiences if e is not None])).long().to(device)\n",
        "        rewards = torch.from_numpy(np.vstack([e.reward for e in experiences if e is not None])).float().to(device)\n",
        "        next_states = torch.from_numpy(np.vstack([e.next_state for e in experiences if e is not None])).float().to(device)\n",
        "        dones = torch.from_numpy(np.vstack([e.done for e in experiences if e is not None]).astype(np.uint8)).float().to(device)\n",
        "        return (states, actions, rewards, next_states, dones)\n",
        "\n",
        "    def __len__(self):\n",
        "        return len(self.memory)"
      ],
      "metadata": {
        "id": "izTUGxP5QsoG"
      },
      "execution_count": 85,
      "outputs": []
    },
    {
      "cell_type": "markdown",
      "source": [
        "## Agent"
      ],
      "metadata": {
        "id": "W4KED1jNSLIR"
      }
    },
    {
      "cell_type": "code",
      "execution_count": 86,
      "metadata": {
        "id": "-QRt0zUKgmQB"
      },
      "outputs": [],
      "source": [
        "class Agent():\n",
        "    def __init__(self, state_size, action_size, seed, buffer_size, batch_size, gamma, tau, learning_rate, update_every, low, high, gaussPerDim, model_file):\n",
        "        self.batch_size = batch_size\n",
        "        self.gamma = gamma\n",
        "        self.state_size = state_size\n",
        "        self.n_actions = 3 ** action_size\n",
        "        self.tau = tau\n",
        "        self.update_every = update_every\n",
        "        self.seed = random.seed(seed)\n",
        "        self.model_file = model_file\n",
        "        self.low = low\n",
        "        self.high = high\n",
        "        self.dtype = torch.float\n",
        "        self.device = torch.device('cuda' if torch.cuda.is_available() else 'cpu')\n",
        "        self.mem_size = 1000000\n",
        "        self.gaussPerDim = gaussPerDim\n",
        "        gaussPerDim = 64\n",
        "\n",
        "        # Q-Network\n",
        "        ## Local\n",
        "        self.qnetwork_local = Net(state_size * gaussPerDim, action_size, seed).to(device)\n",
        "        self.qnetwork_local.createGauss(self.low, self.high, gaussPerDim, 1.0, state_size)\n",
        "        ## Target\n",
        "        self.qnetwork_target = Net(state_size * gaussPerDim, action_size, seed).to(device)\n",
        "        self.qnetwork_target.createGauss(self.low, self.high, gaussPerDim, 1.0, state_size)\n",
        "        \n",
        "        self.optimizer = torch.optim.Adam(self.qnetwork_local.parameters(), lr=learning_rate, betas=(0.9, 0.999))\n",
        "\n",
        "        # Replay memory\n",
        "        self.memory = ReplayBuffer(action_size, buffer_size, batch_size, seed)\n",
        "        \n",
        "        # Initialize time step (for updating every UPDATE_EVERY steps)\n",
        "        self.t_step = 0\n",
        "\n",
        "    def get_action(self, action_idx):\n",
        "        action = []\n",
        "        \n",
        "        # Joint 1\n",
        "        output = int(action_idx / 27) - 1\n",
        "        rest = action_idx - 27 * int(action_idx / 27)\n",
        "        action.append(output)\n",
        "        \n",
        "        # Joint 2\n",
        "        output = int(rest / 9) - 1\n",
        "        rest = rest - 9 * int(rest / 9)\n",
        "        action.append(output)\n",
        "        \n",
        "        # Joint 3\n",
        "        output = int(rest / 3) - 1\n",
        "        rest = rest - 3 * int(rest / 3)\n",
        "        action.append(output)\n",
        "        \n",
        "        # Joint 4\n",
        "        action.append(rest - 1)\n",
        "\n",
        "        return action\n",
        "\n",
        "    def act(self, state, eps): # Choose action based on state\n",
        "        state = state[np.newaxis, :]\n",
        "        with torch.no_grad():\n",
        "            self.qnetwork_local.eval()\n",
        "            gaussX, spikes, actions = self.qnetwork_local(torch.tensor(state, dtype=self.dtype).to(self.device))\n",
        "            actions = actions.cpu()[-1, 0, :].detach().numpy()\n",
        "        self.qnetwork_local.train()\n",
        "\n",
        "        # Epsilon-greedy action selection\n",
        "        if random.random() > eps:\n",
        "            action_idx = action = np.argmax(actions)\n",
        "        else:\n",
        "            action_idx = int(random.randrange(self.n_actions))\n",
        "        return self.get_action(action_idx)\n",
        "\n",
        "    def step(self, state, action, reward, next_state, done):\n",
        "        # Save experience in replay memory\n",
        "        self.memory.add(state, action, reward, next_state, done)\n",
        "\n",
        "        # Learn every UPDATE_EVERY time steps.\n",
        "        self.t_step = (self.t_step + 1) % self.update_every\n",
        "        if self.t_step == 0:\n",
        "            \n",
        "            # If enough samples are available in memory, get random subset and learn\n",
        "            if len(self.memory) > self.batch_size:\n",
        "                experiences = self.memory.sample()\n",
        "                return self.learn(experiences, self.gamma)\n",
        "        return None\n",
        "\n",
        "    def learn(self, experiences, gamma):\n",
        "        states, actions, rewards, next_states, dones = experiences\n",
        "\n",
        "        # Get max predicted Q values (for next states) from target model\n",
        "        gaussX, spikes, Q_targets_next = self.qnetwork_target(next_states)\n",
        "        \n",
        "        # Compute Q targets for current states \n",
        "        Q_targets = rewards + (gamma * Q_targets_next * (1 - dones))\n",
        "\n",
        "        # Get expected Q values from local model\n",
        "        gaussX, spikes, Q_expected = self.qnetwork_local(states)#.gather(1, actions)\n",
        "\n",
        "        # Compute loss\n",
        "        loss = F.mse_loss(Q_expected, Q_targets)\n",
        "        \n",
        "        # Minimize the loss\n",
        "        self.optimizer.zero_grad()\n",
        "        loss.backward()\n",
        "        self.optimizer.step()\n",
        "\n",
        "        # Update target network\n",
        "        self.soft_update(self.qnetwork_local, self.qnetwork_target, self.tau)\n",
        "        return loss.cpu().data.numpy()\n",
        "\n",
        "    def soft_update(self, local_model, target_model, tau):\n",
        "        # Update the target model parameters based on tau (soft update learning rate)\n",
        "        for target_param, local_param in zip(target_model.parameters(), local_model.parameters()):\n",
        "            target_param.data.copy_(tau*local_param.data + (1.0-tau)*target_param.data)\n",
        "\n",
        "    def save_models(self):\n",
        "        torch.save(self.qnetwork_local.state_dict(), self.model_file)\n",
        "    \n",
        "    def load_models(self):\n",
        "        self.qnetwork_local.load_state_dict(torch.load(self.model_file, map_location=torch.device('cpu')))\n",
        "        self.qnetwork_local.eval()"
      ]
    },
    {
      "cell_type": "markdown",
      "metadata": {
        "id": "dEA3d-s3u4B8"
      },
      "source": [
        "# Setup"
      ]
    },
    {
      "cell_type": "code",
      "execution_count": 87,
      "metadata": {
        "id": "2kHOTP8yu4B8",
        "colab": {
          "base_uri": "https://localhost:8080/"
        },
        "outputId": "41503d55-b52b-4f43-eea5-b5c2bb61ae46"
      },
      "outputs": [
        {
          "output_type": "stream",
          "name": "stdout",
          "text": [
            "gymtype: box\n",
            "lif1 beta: tensor(0.9500, device='cuda:0')\n",
            "lif2 beta: tensor(0.9500, device='cuda:0')\n",
            "lif3 beta: Parameter containing:\n",
            "tensor(1., device='cuda:0', requires_grad=True)\n",
            "Action space: Box(-1.0, 1.0, (4,), float32)\n",
            "Observation space: Box([-3.1415927 -5.        -5.        -5.        -3.1415927 -5.\n",
            " -3.1415927 -5.        -0.        -3.1415927 -5.        -3.1415927\n",
            " -5.        -0.        -1.        -1.        -1.        -1.\n",
            " -1.        -1.        -1.        -1.        -1.        -1.       ], [3.1415927 5.        5.        5.        3.1415927 5.        3.1415927\n",
            " 5.        5.        3.1415927 5.        3.1415927 5.        5.\n",
            " 1.        1.        1.        1.        1.        1.        1.\n",
            " 1.        1.        1.       ], (24,), float32)\n"
          ]
        }
      ],
      "source": [
        "stime = time.time()\n",
        "env = gym.make(env_name, render_mode='rgb_array')\n",
        "\n",
        "n_actions = -1\n",
        "gymtype = -1\n",
        "if(type(env.action_space) == gym.spaces.box.Box):    \n",
        "    n_actions = int(env.action_space.shape[0])\n",
        "    gymtype = 'box'\n",
        "else:\n",
        "    n_actions = int(env.action_space.n)\n",
        "    gymtype = 'disc'\n",
        "\n",
        "n_input_dims = int(env.observation_space.shape[0]) # If the state space is not an 1-D vector then we need to change this\n",
        "\n",
        "agent = Agent(state_size=n_input_dims, action_size=n_actions, seed=420, buffer_size=int(1e5), batch_size=batch_size, gamma=gamma, \n",
        "              tau=tau, learning_rate=lr, update_every=update_every, low=env.observation_space.low, high=env.observation_space.high, \n",
        "              gaussPerDim = gauss_per_dim, model_file=model_file)\n",
        "\n",
        "scores = [] # Logged every episode\n",
        "eps_history = [] # Logged every episode\n",
        "avg_scores = [] # Logged every 10 episodes\n",
        "\n",
        "if(os.path.exists(model_file)):\n",
        "    try: \n",
        "        agent.load_models()\n",
        "    except:\n",
        "        !rm -rf model_file\n",
        "        agent.save_models()\n",
        "else:\n",
        "    agent.save_models()\n",
        "\n",
        "state = agent.qnetwork_local.state_dict()\n",
        "state[\"lif1.beta\"] = torch.tensor(0.95,dtype=torch.float).to(device)\n",
        "state[\"lif2.beta\"] = torch.tensor(0.95, dtype=torch.float).to(device)\n",
        "state[\"lif3.beta\"] = torch.tensor(1.0, dtype=torch.float).to(device)\n",
        "# state[\"lif4.beta\"] = torch.tensor(1.0, dtype=torch.float).to(device) # Uncomment for 4 layers\n",
        "agent.qnetwork_local.load_state_dict(state)\n",
        "\n",
        "print('gymtype:', gymtype)\n",
        "print('lif1 beta:', agent.qnetwork_local.lif1.beta)\n",
        "print('lif2 beta:', agent.qnetwork_local.lif2.beta)\n",
        "print('lif3 beta:', agent.qnetwork_local.lif3.beta)\n",
        "print('Action space:', env.action_space)\n",
        "print('Observation space:', env.observation_space)\n",
        "#print('High:', env.observation_space.high)\n",
        "#print('Low:', env.observation_space.low)"
      ]
    },
    {
      "cell_type": "markdown",
      "metadata": {
        "id": "Eu7TQfmXu4CA"
      },
      "source": [
        "# Train"
      ]
    },
    {
      "cell_type": "code",
      "source": [
        "scores = []\n",
        "mean_scores = []\n",
        "last_scores = deque(maxlen=mean_every)\n",
        "distances = []\n",
        "mean_distances = []\n",
        "last_distance = deque(maxlen=mean_every)\n",
        "losses_mean_episode = []\n",
        "eps_history = []\n",
        "\n",
        "ep = -1\n",
        "while ep < n_games:\n",
        "    ep += 1\n",
        "    done = False\n",
        "    state = env.reset()\n",
        "    total_reward = 0\n",
        "    total_distance = 0\n",
        "    losses = []\n",
        "    \n",
        "    while(not done):\n",
        "        action = agent.act(state, epsilon)\n",
        "        \n",
        "        next_state, reward, done, info = env.step(action)\n",
        "        \n",
        "        loss = agent.step(state, action, reward, next_state, done)\n",
        "        \n",
        "        state = next_state\n",
        "        \n",
        "        total_reward += reward\n",
        "\n",
        "        if(loss is not None):\n",
        "            losses.append(loss)\n",
        "\n",
        "        if(reward != -100):\n",
        "            total_distance += reward\n",
        "    \n",
        "    epsilon = max(epsilon_end, epsilon_decay * epsilon)\n",
        "\n",
        "    if len(losses) >= 1:\n",
        "        mean_loss = np.mean(losses)\n",
        "        losses_mean_episode.append((ep, mean_loss))\n",
        "    else:\n",
        "        mean_loss = None\n",
        "\n",
        "    # print('episode:',ep,'/',n_games,'\\t score:',total_reward,'\\t distance:',total_distance,'\\t loss:',mean_loss,'\\t epsilon:',epsilon)\n",
        "\n",
        "    scores.append(total_reward)\n",
        "    distances.append(total_distance)\n",
        "    last_scores.append(total_reward)\n",
        "    last_distance.append(total_distance)\n",
        "    mean_score = np.mean(last_scores)\n",
        "    mean_distance = np.mean(last_distance)\n",
        "    eps_history.append(epsilon)\n",
        "\n",
        "    # record rewards dynamically\n",
        "    FILE = 'record.dat'\n",
        "    data = [ep, total_reward, total_distance, mean_loss, epsilon]\n",
        "    with open(FILE, \"ab\") as f:\n",
        "        pickle.dump(data, f)\n",
        "\n",
        "    if (mean_score >= 300):\n",
        "        print('environment solved in:',ep,'\\t mean score:',mean_score)\n",
        "        torch.save(agent.qnetwork_local.state_dict(), model_file)\n",
        "        torch.save(agent.qnetwork_target.state_dict(), model_file_target)\n",
        "        break\n",
        "\n",
        "    # save model every MEAN_EVERY episodes\n",
        "    if ((ep % mean_every) == 0):        \n",
        "        print('episode:',ep,'/',n_games,'\\t mean score:',mean_score,'\\t mean distance:',mean_distance,'\\t mean loss:',mean_loss,'\\t epsilon:',epsilon)\n",
        "\n",
        "        torch.save(agent.qnetwork_local.state_dict(), model_file)\n",
        "        torch.save(agent.qnetwork_target.state_dict(), model_file_target)\n",
        "        \n",
        "        mean_scores.append(mean_score)\n",
        "        mean_distances.append(mean_distance)\n",
        "        \n",
        "        FILE = 'record_mean.dat'\n",
        "        data = [ep, mean_score, mean_distance, mean_loss, epsilon]\n",
        "        with open(FILE, \"ab\") as f:\n",
        "            pickle.dump(data, f)\n",
        "env.close()"
      ],
      "metadata": {
        "id": "kqnqogd1cV8B",
        "colab": {
          "base_uri": "https://localhost:8080/"
        },
        "outputId": "054b4aa8-ba9c-4cdf-eaff-e106c6366fb8"
      },
      "execution_count": 89,
      "outputs": [
        {
          "output_type": "stream",
          "name": "stdout",
          "text": [
            "episode: 0 / 1000 \t mean score: -117.3690604927111 \t mean distance: -17.369060492711103 \t mean loss: 98.55355 \t epsilon: 0.1905991988571696\n",
            "episode: 2 / 1000 \t mean score: -93.72040025583891 \t mean distance: -43.72040025583892 \t mean loss: 31.544144 \t epsilon: 0.18831887004204242\n",
            "episode: 4 / 1000 \t mean score: -107.64822228168882 \t mean distance: -7.648222281688822 \t mean loss: 16.548191 \t epsilon: 0.18606582308085945\n",
            "episode: 6 / 1000 \t mean score: -150.84677635453298 \t mean distance: -50.84677635453296 \t mean loss: 6.798706 \t epsilon: 0.18383973157352004\n",
            "episode: 8 / 1000 \t mean score: -116.91279484823683 \t mean distance: -16.912794848236828 \t mean loss: 30.249714 \t epsilon: 0.18164027302497446\n",
            "episode: 10 / 1000 \t mean score: -111.58844996409675 \t mean distance: -11.588449964096753 \t mean loss: 13.505496 \t epsilon: 0.17946712879850366\n",
            "episode: 12 / 1000 \t mean score: -110.94796343371488 \t mean distance: -10.947963433714877 \t mean loss: 21.50498 \t epsilon: 0.17731998406955837\n",
            "episode: 14 / 1000 \t mean score: -110.95629821292994 \t mean distance: -10.956298212929926 \t mean loss: 28.675938 \t epsilon: 0.1751985277801502\n",
            "episode: 16 / 1000 \t mean score: -116.51095885071003 \t mean distance: -16.510958850710026 \t mean loss: 15.771033 \t epsilon: 0.17310245259378848\n",
            "episode: 18 / 1000 \t mean score: -107.47811620273782 \t mean distance: -7.478116202737821 \t mean loss: 11.532092 \t epsilon: 0.1710314548509564\n",
            "episode: 20 / 1000 \t mean score: -129.4747963273425 \t mean distance: -29.474796327342474 \t mean loss: 11.890198 \t epsilon: 0.16898523452511954\n",
            "episode: 22 / 1000 \t mean score: -117.3645872383608 \t mean distance: -17.364587238360798 \t mean loss: 9.27747 \t epsilon: 0.166963495179261\n",
            "episode: 24 / 1000 \t mean score: -115.7722638432073 \t mean distance: -15.772263843207293 \t mean loss: 15.38781 \t epsilon: 0.16496594392293634\n",
            "episode: 26 / 1000 \t mean score: -114.06863222591423 \t mean distance: -14.068632225914218 \t mean loss: 16.146196 \t epsilon: 0.1629922913698423\n",
            "episode: 28 / 1000 \t mean score: -133.27813016545653 \t mean distance: -33.27813016545652 \t mean loss: 15.733223 \t epsilon: 0.16104225159589353\n",
            "episode: 30 / 1000 \t mean score: -135.14713197326026 \t mean distance: -85.14713197326026 \t mean loss: 10.654208 \t epsilon: 0.15911554209780027\n",
            "episode: 32 / 1000 \t mean score: -124.9671268576979 \t mean distance: -74.9671268576979 \t mean loss: 7.086644 \t epsilon: 0.1572118837521422\n",
            "episode: 34 / 1000 \t mean score: -127.82776943237103 \t mean distance: -77.82776943237103 \t mean loss: 1.0967768 \t epsilon: 0.1553310007749316\n",
            "episode: 36 / 1000 \t mean score: -121.18765415038253 \t mean distance: -71.18765415038253 \t mean loss: 7.4317784 \t epsilon: 0.15347262068166032\n",
            "episode: 38 / 1000 \t mean score: -131.57357847457263 \t mean distance: -131.57357847457263 \t mean loss: 5.7763476 \t epsilon: 0.15163647424782492\n",
            "episode: 40 / 1000 \t mean score: -120.20232670856888 \t mean distance: -20.202326708568876 \t mean loss: 3.8804057 \t epsilon: 0.14982229546992396\n",
            "episode: 42 / 1000 \t mean score: -125.34335220319427 \t mean distance: -75.34335220319427 \t mean loss: 0.4542309 \t epsilon: 0.1480298215269218\n",
            "episode: 44 / 1000 \t mean score: -125.75097341405882 \t mean distance: -75.75097341405882 \t mean loss: 5.9010854 \t epsilon: 0.14625879274217368\n",
            "episode: 46 / 1000 \t mean score: -121.02244022245394 \t mean distance: -21.02244022245394 \t mean loss: 0.53590864 \t epsilon: 0.1445089525458063\n",
            "episode: 48 / 1000 \t mean score: -121.51875076793675 \t mean distance: -71.51875076793675 \t mean loss: 10.564343 \t epsilon: 0.14278004743754827\n",
            "episode: 50 / 1000 \t mean score: -118.95201534618778 \t mean distance: -18.952015346187785 \t mean loss: 4.3408957 \t epsilon: 0.14107182695000545\n",
            "episode: 52 / 1000 \t mean score: -123.08385539951016 \t mean distance: -23.08385539951016 \t mean loss: 4.882649 \t epsilon: 0.13938404361237558\n",
            "episode: 54 / 1000 \t mean score: -115.51817651360295 \t mean distance: -15.518176513602945 \t mean loss: 7.001392 \t epsilon: 0.13771645291459714\n",
            "episode: 56 / 1000 \t mean score: -117.80625171857045 \t mean distance: -17.806251718570454 \t mean loss: 7.1528835 \t epsilon: 0.1360688132719269\n",
            "episode: 58 / 1000 \t mean score: -118.31247468304696 \t mean distance: -18.31247468304695 \t mean loss: 7.3226514 \t epsilon: 0.13444088598994158\n",
            "episode: 60 / 1000 \t mean score: -128.62949362772787 \t mean distance: -78.62949362772787 \t mean loss: 6.442768 \t epsilon: 0.1328324352299579\n",
            "episode: 62 / 1000 \t mean score: -117.19634535800199 \t mean distance: -17.19634535800198 \t mean loss: 10.726744 \t epsilon: 0.1312432279748667\n",
            "episode: 64 / 1000 \t mean score: -114.0320023225937 \t mean distance: -14.032002322593694 \t mean loss: 13.739907 \t epsilon: 0.1296730339953754\n",
            "episode: 66 / 1000 \t mean score: -121.06448004173424 \t mean distance: -21.064480041734246 \t mean loss: 6.3286715 \t epsilon: 0.1281216258166547\n",
            "episode: 68 / 1000 \t mean score: -121.60240838082723 \t mean distance: -21.602408380827235 \t mean loss: 4.7562256 \t epsilon: 0.12658877868538426\n",
            "episode: 70 / 1000 \t mean score: -120.51100223241437 \t mean distance: -20.51100223241436 \t mean loss: 1.0730774 \t epsilon: 0.1250742705371923\n",
            "episode: 72 / 1000 \t mean score: -120.98858518764096 \t mean distance: -20.988585187640965 \t mean loss: 4.709805 \t epsilon: 0.12357788196448534\n",
            "episode: 74 / 1000 \t mean score: -119.76491304206723 \t mean distance: -19.76491304206724 \t mean loss: 2.7211707 \t epsilon: 0.12209939618466224\n",
            "episode: 76 / 1000 \t mean score: -129.82808846106758 \t mean distance: -79.8280884610676 \t mean loss: 7.305294 \t epsilon: 0.12063859900870895\n",
            "episode: 78 / 1000 \t mean score: -117.2513371187942 \t mean distance: -17.251337118794204 \t mean loss: 9.560228 \t epsilon: 0.11919527881016875\n",
            "episode: 80 / 1000 \t mean score: -118.78526293250019 \t mean distance: -18.785262932500178 \t mean loss: 2.6414819 \t epsilon: 0.11776922649448389\n",
            "episode: 82 / 1000 \t mean score: -121.81339184596978 \t mean distance: -21.813391845969782 \t mean loss: 5.3388233 \t epsilon: 0.11636023546870389\n",
            "episode: 84 / 1000 \t mean score: -118.8552050650424 \t mean distance: -18.855205065042398 \t mean loss: 8.138313 \t epsilon: 0.11496810161155632\n",
            "episode: 86 / 1000 \t mean score: -120.12960357018777 \t mean distance: -20.129603570187765 \t mean loss: 2.8996334 \t epsilon: 0.11359262324387566\n",
            "episode: 88 / 1000 \t mean score: -116.8436590952929 \t mean distance: -16.843659095292907 \t mean loss: 8.0276785 \t epsilon: 0.11223360109938593\n",
            "episode: 90 / 1000 \t mean score: -119.73890179295836 \t mean distance: -19.73890179295835 \t mean loss: 2.3091888 \t epsilon: 0.11089083829583288\n",
            "episode: 92 / 1000 \t mean score: -120.67953956744913 \t mean distance: -20.679539567449122 \t mean loss: 8.152368 \t epsilon: 0.10956414030646153\n",
            "episode: 94 / 1000 \t mean score: -118.16984380915699 \t mean distance: -18.16984380915698 \t mean loss: 9.241374 \t epsilon: 0.10825331493183502\n",
            "episode: 96 / 1000 \t mean score: -118.21073259995846 \t mean distance: -18.21073259995846 \t mean loss: 2.9124422 \t epsilon: 0.10695817227199053\n",
            "episode: 98 / 1000 \t mean score: -118.86420591268346 \t mean distance: -18.864205912683463 \t mean loss: 6.2380834 \t epsilon: 0.10567852469892844\n",
            "episode: 100 / 1000 \t mean score: -120.11342539928543 \t mean distance: -20.113425399285422 \t mean loss: 10.745867 \t epsilon: 0.10441418682943046\n",
            "episode: 102 / 1000 \t mean score: -123.3099941415297 \t mean distance: -73.3099941415297 \t mean loss: 5.6129174 \t epsilon: 0.10316497549820315\n",
            "episode: 104 / 1000 \t mean score: -118.18790985313058 \t mean distance: -18.18790985313057 \t mean loss: 5.4154887 \t epsilon: 0.10193070973134265\n",
            "episode: 106 / 1000 \t mean score: -121.10842194865737 \t mean distance: -21.10842194865737 \t mean loss: 2.4597025 \t epsilon: 0.10071121072011686\n",
            "episode: 108 / 1000 \t mean score: -126.61793692236876 \t mean distance: -76.61793692236876 \t mean loss: 3.197302 \t epsilon: 0.0995063017950614\n",
            "episode: 110 / 1000 \t mean score: -122.52555741418513 \t mean distance: -72.52555741418513 \t mean loss: 8.200957 \t epsilon: 0.09831580840038529\n",
            "episode: 112 / 1000 \t mean score: -120.59557800643705 \t mean distance: -20.595578006437044 \t mean loss: 11.443232 \t epsilon: 0.09713955806868307\n",
            "episode: 114 / 1000 \t mean score: -120.49535508054868 \t mean distance: -20.495355080548673 \t mean loss: 2.569458 \t epsilon: 0.09597738039594936\n",
            "episode: 116 / 1000 \t mean score: -120.81169145882563 \t mean distance: -20.81169145882564 \t mean loss: 3.621663 \t epsilon: 0.09482910701689222\n",
            "episode: 118 / 1000 \t mean score: -121.02315338983757 \t mean distance: -21.02315338983758 \t mean loss: 6.910564 \t epsilon: 0.09369457158054212\n",
            "episode: 120 / 1000 \t mean score: -118.77165971990829 \t mean distance: -18.771659719908293 \t mean loss: 7.97148 \t epsilon: 0.09257360972615251\n",
            "episode: 122 / 1000 \t mean score: -119.7690430701971 \t mean distance: -19.769043070197096 \t mean loss: 3.8383677 \t epsilon: 0.09146605905938883\n",
            "episode: 124 / 1000 \t mean score: -120.67505360787361 \t mean distance: -20.67505360787361 \t mean loss: 9.890331 \t epsilon: 0.0903717591288023\n",
            "episode: 126 / 1000 \t mean score: -120.05959014050755 \t mean distance: -20.05959014050755 \t mean loss: 2.7618818 \t epsilon: 0.08929055140258531\n",
            "episode: 128 / 1000 \t mean score: -120.59895271313314 \t mean distance: -20.598952713133144 \t mean loss: 6.9275103 \t epsilon: 0.08822227924560479\n",
            "episode: 130 / 1000 \t mean score: -120.67180655671592 \t mean distance: -20.67180655671593 \t mean loss: 17.265417 \t epsilon: 0.08716678789671037\n",
            "episode: 132 / 1000 \t mean score: -121.00016592073439 \t mean distance: -21.000165920734396 \t mean loss: 12.563044 \t epsilon: 0.08612392444631413\n",
            "episode: 134 / 1000 \t mean score: -115.83253768174659 \t mean distance: -15.832537681746588 \t mean loss: 6.1824126 \t epsilon: 0.08509353781423842\n",
            "episode: 136 / 1000 \t mean score: -126.70677927891319 \t mean distance: -26.706779278913196 \t mean loss: 8.258182 \t epsilon: 0.08407547872782888\n",
            "episode: 138 / 1000 \t mean score: -120.91946390685717 \t mean distance: -20.919463906857175 \t mean loss: 14.398646 \t epsilon: 0.08306959970032914\n",
            "episode: 140 / 1000 \t mean score: -120.00804935751327 \t mean distance: -20.008049357513272 \t mean loss: 9.177684 \t epsilon: 0.0820757550095144\n",
            "episode: 142 / 1000 \t mean score: -119.74491910479621 \t mean distance: -19.74491910479621 \t mean loss: 15.00148 \t epsilon: 0.08109380067658058\n",
            "episode: 144 / 1000 \t mean score: -125.46803968247333 \t mean distance: -75.46803968247333 \t mean loss: 7.9635105 \t epsilon: 0.08012359444528597\n",
            "episode: 146 / 1000 \t mean score: -120.68899081626597 \t mean distance: -20.68899081626596 \t mean loss: 5.371589 \t epsilon: 0.07916499576134256\n",
            "episode: 148 / 1000 \t mean score: -116.63213964874545 \t mean distance: -16.63213964874545 \t mean loss: 13.680459 \t epsilon: 0.07821786575205385\n",
            "episode: 150 / 1000 \t mean score: -120.64594187707453 \t mean distance: -20.64594187707454 \t mean loss: 2.4954183 \t epsilon: 0.07728206720619628\n",
            "episode: 152 / 1000 \t mean score: -119.93458674162284 \t mean distance: -19.934586741622837 \t mean loss: 18.550158 \t epsilon: 0.07635746455414134\n",
            "episode: 154 / 1000 \t mean score: -120.88680458769636 \t mean distance: -20.88680458769636 \t mean loss: 10.6937 \t epsilon: 0.07544392384821559\n",
            "episode: 156 / 1000 \t mean score: -120.97111432593005 \t mean distance: -20.971114325930046 \t mean loss: 6.288464 \t epsilon: 0.07454131274329555\n",
            "episode: 158 / 1000 \t mean score: -121.43603467551836 \t mean distance: -21.436034675518354 \t mean loss: 6.0843935 \t epsilon: 0.07364950047763476\n",
            "episode: 160 / 1000 \t mean score: -120.8024778366036 \t mean distance: -20.802477836603604 \t mean loss: 15.789471 \t epsilon: 0.07276835785392033\n",
            "episode: 162 / 1000 \t mean score: -121.76118051100397 \t mean distance: -21.761180511003975 \t mean loss: 8.369645 \t epsilon: 0.07189775722055602\n",
            "episode: 164 / 1000 \t mean score: -121.01178335453477 \t mean distance: -21.011783354534764 \t mean loss: 5.710755 \t epsilon: 0.07103757245316929\n",
            "episode: 166 / 1000 \t mean score: -121.26147892384697 \t mean distance: -21.26147892384696 \t mean loss: 5.444808 \t epsilon: 0.07018767893633958\n",
            "episode: 168 / 1000 \t mean score: -117.68932945873556 \t mean distance: -17.689329458735564 \t mean loss: 6.9271274 \t epsilon: 0.06934795354554521\n",
            "episode: 170 / 1000 \t mean score: -118.41549039341974 \t mean distance: -18.41549039341974 \t mean loss: 13.237888 \t epsilon: 0.0685182746293263\n",
            "episode: 172 / 1000 \t mean score: -120.68502335888022 \t mean distance: -20.685023358880223 \t mean loss: 8.141411 \t epsilon: 0.06769852199166104\n",
            "episode: 174 / 1000 \t mean score: -121.17168791101406 \t mean distance: -21.171687911014065 \t mean loss: 8.264319 \t epsilon: 0.06688857687455281\n",
            "episode: 176 / 1000 \t mean score: -116.09051911825779 \t mean distance: -16.090519118257784 \t mean loss: 23.72783 \t epsilon: 0.06608832194082566\n",
            "episode: 178 / 1000 \t mean score: -120.29989515099238 \t mean distance: -20.299895150992384 \t mean loss: 5.4956093 \t epsilon: 0.06529764125712563\n",
            "episode: 180 / 1000 \t mean score: -119.29939654040149 \t mean distance: -19.299396540401496 \t mean loss: 3.160089 \t epsilon: 0.06451642027712538\n",
            "episode: 182 / 1000 \t mean score: -120.44925189299755 \t mean distance: -20.44925189299756 \t mean loss: 8.346655 \t epsilon: 0.06374454582492985\n",
            "episode: 184 / 1000 \t mean score: -120.75846056313657 \t mean distance: -20.758460563136573 \t mean loss: 11.316471 \t epsilon: 0.06298190607868039\n",
            "episode: 186 / 1000 \t mean score: -118.3042089776347 \t mean distance: -18.3042089776347 \t mean loss: 10.7221775 \t epsilon: 0.06222839055435505\n",
            "episode: 188 / 1000 \t mean score: -121.43189926659099 \t mean distance: -21.431899266590978 \t mean loss: 3.1439562 \t epsilon: 0.061483890089762745\n",
            "episode: 190 / 1000 \t mean score: -120.97246428829928 \t mean distance: -20.972464288299278 \t mean loss: 5.7545166 \t epsilon: 0.06074829682872882\n",
            "episode: 192 / 1000 \t mean score: -121.16737686534722 \t mean distance: -21.167376865347222 \t mean loss: 3.1831286 \t epsilon: 0.06002150420546991\n",
            "episode: 194 / 1000 \t mean score: -120.81596647288526 \t mean distance: -20.815966472885258 \t mean loss: 8.828968 \t epsilon: 0.05930340692915567\n",
            "episode: 196 / 1000 \t mean score: -120.11333862246914 \t mean distance: -20.11333862246914 \t mean loss: 13.096063 \t epsilon: 0.05859390096865525\n",
            "episode: 198 / 1000 \t mean score: -120.57937533616553 \t mean distance: -20.579375336165533 \t mean loss: 3.0756705 \t epsilon: 0.05789288353746626\n",
            "episode: 200 / 1000 \t mean score: -121.02775620294145 \t mean distance: -21.027756202941443 \t mean loss: 10.166357 \t epsilon: 0.057200253078824016\n",
            "episode: 202 / 1000 \t mean score: -117.54034806255095 \t mean distance: -17.540348062550954 \t mean loss: 1.5044602 \t epsilon: 0.05651590925098896\n",
            "episode: 204 / 1000 \t mean score: -120.39426995851937 \t mean distance: -20.394269958519367 \t mean loss: 5.6482134 \t epsilon: 0.05583975291271013\n",
            "episode: 206 / 1000 \t mean score: -120.64407572018479 \t mean distance: -20.644075720184787 \t mean loss: 7.9404316 \t epsilon: 0.055171686108862465\n",
            "episode: 208 / 1000 \t mean score: -118.52273068999499 \t mean distance: -18.522730689994987 \t mean loss: 11.437684 \t epsilon: 0.054511612056256036\n",
            "episode: 210 / 1000 \t mean score: -120.44228257745286 \t mean distance: -20.442282577452865 \t mean loss: 12.352474 \t epsilon: 0.05385943512961498\n",
            "episode: 212 / 1000 \t mean score: -121.15953964534214 \t mean distance: -21.159539645342143 \t mean loss: 12.375745 \t epsilon: 0.05321506084772427\n",
            "episode: 214 / 1000 \t mean score: -121.99556200591164 \t mean distance: -21.995562005911637 \t mean loss: 10.549305 \t epsilon: 0.0525783958597421\n",
            "episode: 216 / 1000 \t mean score: -121.60160192587102 \t mean distance: -21.601601925871016 \t mean loss: 17.2099 \t epsilon: 0.051949347931676146\n",
            "episode: 218 / 1000 \t mean score: -120.5659122358371 \t mean distance: -20.56591223583711 \t mean loss: 8.524889 \t epsilon: 0.05132782593302157\n",
            "episode: 220 / 1000 \t mean score: -120.61575897108546 \t mean distance: -20.615758971085455 \t mean loss: 9.783017 \t epsilon: 0.0507137398235589\n",
            "episode: 222 / 1000 \t mean score: -120.47466371642705 \t mean distance: -20.474663716427038 \t mean loss: 12.870477 \t epsilon: 0.050107000640309846\n",
            "episode: 224 / 1000 \t mean score: -120.61339378397166 \t mean distance: -20.61339378397166 \t mean loss: 9.828684 \t epsilon: 0.049507520484649174\n",
            "episode: 226 / 1000 \t mean score: -121.18174955119378 \t mean distance: -21.181749551193775 \t mean loss: 7.865204 \t epsilon: 0.04891521250957083\n",
            "episode: 228 / 1000 \t mean score: -120.72633244894165 \t mean distance: -20.726332448941648 \t mean loss: 5.6472454 \t epsilon: 0.048329990907106324\n",
            "episode: 230 / 1000 \t mean score: -120.70730318232967 \t mean distance: -20.707303182329664 \t mean loss: 14.270451 \t epsilon: 0.047751770895893705\n",
            "episode: 232 / 1000 \t mean score: -120.67918402439167 \t mean distance: -20.679184024391684 \t mean loss: 16.713531 \t epsilon: 0.04718046870889524\n",
            "episode: 234 / 1000 \t mean score: -119.98370312453991 \t mean distance: -19.98370312453992 \t mean loss: 12.855991 \t epsilon: 0.046616001581262015\n",
            "episode: 236 / 1000 \t mean score: -117.56441153973432 \t mean distance: -17.56441153973433 \t mean loss: 4.950535 \t epsilon: 0.04605828773834379\n",
            "episode: 238 / 1000 \t mean score: -129.57448581480762 \t mean distance: -79.57448581480762 \t mean loss: 8.847979 \t epsilon: 0.045507246383842244\n",
            "episode: 240 / 1000 \t mean score: -120.65751950954149 \t mean distance: -20.657519509541483 \t mean loss: 9.292388 \t epsilon: 0.04496279768810596\n",
            "episode: 242 / 1000 \t mean score: -120.9669885548471 \t mean distance: -20.966988554847106 \t mean loss: 9.036705 \t epsilon: 0.04442486277656546\n",
            "episode: 244 / 1000 \t mean score: -119.37250916077755 \t mean distance: -19.372509160777547 \t mean loss: 8.842849 \t epsilon: 0.04389336371830663\n",
            "episode: 246 / 1000 \t mean score: -120.71664643206881 \t mean distance: -20.71664643206881 \t mean loss: 22.289278 \t epsilon: 0.043368223514780806\n",
            "episode: 248 / 1000 \t mean score: -119.1261072074746 \t mean distance: -19.126107207474597 \t mean loss: 12.466715 \t epsilon: 0.04284936608864997\n",
            "episode: 250 / 1000 \t mean score: -121.56352025512481 \t mean distance: -21.563520255124807 \t mean loss: 9.263909 \t epsilon: 0.04233671627276536\n",
            "episode: 252 / 1000 \t mean score: -120.54432539736385 \t mean distance: -20.54432539736385 \t mean loss: 16.0796 \t epsilon: 0.041830199799277996\n",
            "episode: 254 / 1000 \t mean score: -121.20097060169806 \t mean distance: -21.200970601698064 \t mean loss: 4.9533944 \t epsilon: 0.041329743288879436\n",
            "episode: 256 / 1000 \t mean score: -120.2810888372197 \t mean distance: -20.281088837219706 \t mean loss: 9.722161 \t epsilon: 0.04083527424017128\n",
            "episode: 258 / 1000 \t mean score: -120.8683781373566 \t mean distance: -20.868378137356594 \t mean loss: 6.908546 \t epsilon: 0.04034672101916187\n",
            "episode: 260 / 1000 \t mean score: -120.80389856364546 \t mean distance: -20.80389856364546 \t mean loss: 12.824688 \t epsilon: 0.039864012848888616\n",
            "episode: 262 / 1000 \t mean score: -118.00353130403097 \t mean distance: -18.00353130403098 \t mean loss: 7.0807877 \t epsilon: 0.03938707979916451\n",
            "episode: 264 / 1000 \t mean score: -120.81177378297008 \t mean distance: -20.81177378297007 \t mean loss: 17.572853 \t epsilon: 0.0389158527764473\n",
            "episode: 266 / 1000 \t mean score: -118.18107599261464 \t mean distance: -18.181075992614645 \t mean loss: 12.490851 \t epsilon: 0.03845026351382989\n",
            "episode: 268 / 1000 \t mean score: -120.94172605435239 \t mean distance: -20.941726054352394 \t mean loss: 11.421828 \t epsilon: 0.037990244561150424\n",
            "episode: 270 / 1000 \t mean score: -118.71310546491326 \t mean distance: -18.71310546491326 \t mean loss: 0.9908428 \t epsilon: 0.037535729275220815\n",
            "episode: 272 / 1000 \t mean score: -120.55898140758896 \t mean distance: -20.558981407588966 \t mean loss: 9.621926 \t epsilon: 0.037086651810172074\n",
            "episode: 274 / 1000 \t mean score: -121.0277333883109 \t mean distance: -21.027733388310914 \t mean loss: 15.414108 \t epsilon: 0.03664294710791518\n",
            "episode: 276 / 1000 \t mean score: -121.07592815727492 \t mean distance: -21.075928157274916 \t mean loss: 11.294623 \t epsilon: 0.03620455088871608\n",
            "episode: 278 / 1000 \t mean score: -126.78111673871483 \t mean distance: -76.78111673871483 \t mean loss: 8.2831955 \t epsilon: 0.035771399641883486\n",
            "episode: 280 / 1000 \t mean score: -121.17750566608147 \t mean distance: -21.177505666081473 \t mean loss: 10.88493 \t epsilon: 0.03534343061656799\n",
            "episode: 282 / 1000 \t mean score: -120.49332778231985 \t mean distance: -20.493327782319852 \t mean loss: 8.47158 \t epsilon: 0.034920581812671374\n",
            "episode: 284 / 1000 \t mean score: -120.71845942744675 \t mean distance: -20.718459427446746 \t mean loss: 12.519828 \t epsilon: 0.03450279197186457\n",
            "episode: 286 / 1000 \t mean score: -120.7048967578591 \t mean distance: -20.704896757859103 \t mean loss: 2.5304677 \t epsilon: 0.03409000056871319\n",
            "episode: 288 / 1000 \t mean score: -117.83411795753022 \t mean distance: -17.834117957530225 \t mean loss: 6.3203273 \t epsilon: 0.033682147801909104\n",
            "episode: 290 / 1000 \t mean score: -120.71062133738708 \t mean distance: -20.71062133738708 \t mean loss: 8.920945 \t epsilon: 0.033279174585607064\n",
            "episode: 292 / 1000 \t mean score: -120.81334558759568 \t mean distance: -20.813345587595666 \t mean loss: 10.455943 \t epsilon: 0.03288102254086486\n",
            "episode: 294 / 1000 \t mean score: -120.54788659988716 \t mean distance: -20.547886599887153 \t mean loss: 14.073411 \t epsilon: 0.03248763398718596\n",
            "episode: 296 / 1000 \t mean score: -119.6067854379881 \t mean distance: -19.6067854379881 \t mean loss: 9.346754 \t epsilon: 0.03209895193416327\n",
            "episode: 298 / 1000 \t mean score: -120.9521482777465 \t mean distance: -20.952148277746502 \t mean loss: 6.6309433 \t epsilon: 0.031714920073222935\n",
            "episode: 300 / 1000 \t mean score: -115.74250073340534 \t mean distance: -15.742500733405336 \t mean loss: 7.035812 \t epsilon: 0.03133548276946689\n",
            "episode: 302 / 1000 \t mean score: -120.58342596991731 \t mean distance: -20.583425969917315 \t mean loss: 12.483841 \t epsilon: 0.030960585053612988\n",
            "episode: 304 / 1000 \t mean score: -120.59698984718352 \t mean distance: -20.596989847183522 \t mean loss: 8.60768 \t epsilon: 0.03059017261403156\n",
            "episode: 306 / 1000 \t mean score: -120.97677997467633 \t mean distance: -20.976779974676344 \t mean loss: 11.4809475 \t epsilon: 0.030224191788877284\n",
            "episode: 308 / 1000 \t mean score: -121.08576513465991 \t mean distance: -21.08576513465991 \t mean loss: 11.938676 \t epsilon: 0.029862589558315153\n",
            "episode: 310 / 1000 \t mean score: -121.4802609837853 \t mean distance: -21.480260983785296 \t mean loss: 4.7903123 \t epsilon: 0.02950531353683947\n",
            "episode: 312 / 1000 \t mean score: -120.97435090025544 \t mean distance: -20.974350900255445 \t mean loss: 21.721815 \t epsilon: 0.02915231196568472\n",
            "episode: 314 / 1000 \t mean score: -117.70182158478411 \t mean distance: -17.701821584784106 \t mean loss: 10.130837 \t epsilon: 0.028803533705327268\n",
            "episode: 316 / 1000 \t mean score: -120.58641273037468 \t mean distance: -20.586412730374676 \t mean loss: 14.745174 \t epsilon: 0.028458928228076733\n",
            "episode: 318 / 1000 \t mean score: -120.54205133768232 \t mean distance: -20.542051337682317 \t mean loss: 10.840354 \t epsilon: 0.02811844561075602\n",
            "episode: 320 / 1000 \t mean score: -120.57720526126678 \t mean distance: -20.577205261266776 \t mean loss: 10.439406 \t epsilon: 0.027782036527468936\n",
            "episode: 322 / 1000 \t mean score: -118.71667346494738 \t mean distance: -18.716673464947373 \t mean loss: 8.078309 \t epsilon: 0.027449652242454298\n",
            "episode: 324 / 1000 \t mean score: -120.18885351667211 \t mean distance: -20.18885351667211 \t mean loss: 11.034248 \t epsilon: 0.027121244603025573\n",
            "episode: 326 / 1000 \t mean score: -121.54476742271115 \t mean distance: -21.544767422711153 \t mean loss: 6.349553 \t epsilon: 0.026796766032594975\n",
            "episode: 328 / 1000 \t mean score: -121.24117990159863 \t mean distance: -21.241179901598628 \t mean loss: 10.234221 \t epsilon: 0.026476169523781005\n",
            "episode: 330 / 1000 \t mean score: -120.87859180932492 \t mean distance: -20.87859180932491 \t mean loss: 10.290106 \t epsilon: 0.02615940863159849\n",
            "episode: 332 / 1000 \t mean score: -115.73385566720303 \t mean distance: -15.733855667203029 \t mean loss: 2.6320245 \t epsilon: 0.025846437466730047\n",
            "episode: 334 / 1000 \t mean score: -127.64693404446686 \t mean distance: -77.64693404446686 \t mean loss: 2.1550682 \t epsilon: 0.025537210688878088\n",
            "episode: 336 / 1000 \t mean score: -120.35474958067945 \t mean distance: -20.354749580679453 \t mean loss: 4.8064084 \t epsilon: 0.02523168350019635\n",
            "episode: 338 / 1000 \t mean score: -120.6829389746155 \t mean distance: -20.68293897461549 \t mean loss: 12.590128 \t epsilon: 0.024929811638800002\n",
            "episode: 340 / 1000 \t mean score: -120.84035388722674 \t mean distance: -20.840353887226733 \t mean loss: 11.725356 \t epsilon: 0.0246315513723534\n",
            "episode: 342 / 1000 \t mean score: -120.55976732186352 \t mean distance: -20.55976732186351 \t mean loss: 6.633753 \t epsilon: 0.02433685949173456\n",
            "episode: 344 / 1000 \t mean score: -121.23885697872004 \t mean distance: -21.238856978720044 \t mean loss: 8.024804 \t epsilon: 0.024045693304775448\n",
            "episode: 346 / 1000 \t mean score: -126.45849344849097 \t mean distance: -76.45849344849097 \t mean loss: 9.442218 \t epsilon: 0.023758010630077115\n",
            "episode: 348 / 1000 \t mean score: -120.90890767292677 \t mean distance: -20.908907672926773 \t mean loss: 4.0911884 \t epsilon: 0.023473769790898873\n",
            "episode: 350 / 1000 \t mean score: -121.06841715287696 \t mean distance: -21.068417152876957 \t mean loss: 4.5144954 \t epsilon: 0.023192929609120557\n",
            "episode: 352 / 1000 \t mean score: -120.91795731274689 \t mean distance: -20.917957312746896 \t mean loss: 6.3422866 \t epsilon: 0.02291544939927704\n",
            "episode: 354 / 1000 \t mean score: -120.70671485924129 \t mean distance: -20.7067148592413 \t mean loss: 7.4439616 \t epsilon: 0.02264128896266409\n",
            "episode: 356 / 1000 \t mean score: -120.66161425917068 \t mean distance: -20.66161425917067 \t mean loss: 9.5642 \t epsilon: 0.022370408581514775\n",
            "episode: 358 / 1000 \t mean score: -120.55458894987589 \t mean distance: -20.5545889498759 \t mean loss: 6.746449 \t epsilon: 0.02210276901324553\n",
            "episode: 360 / 1000 \t mean score: -120.74605063954212 \t mean distance: -20.74605063954212 \t mean loss: 9.209786 \t epsilon: 0.021838331484771063\n",
            "episode: 362 / 1000 \t mean score: -121.08033507620357 \t mean distance: -21.08033507620356 \t mean loss: 7.631616 \t epsilon: 0.021577057686887263\n",
            "episode: 364 / 1000 \t mean score: -121.05812807371467 \t mean distance: -21.058128073714663 \t mean loss: 6.952605 \t epsilon: 0.021318909768721344\n",
            "episode: 366 / 1000 \t mean score: -120.57451301873289 \t mean distance: -20.57451301873288 \t mean loss: 9.934748 \t epsilon: 0.02106385033224836\n",
            "episode: 368 / 1000 \t mean score: -120.5940453924636 \t mean distance: -20.5940453924636 \t mean loss: 5.7205873 \t epsilon: 0.02081184242687334\n",
            "episode: 370 / 1000 \t mean score: -120.93335226726748 \t mean distance: -20.93335226726748 \t mean loss: 12.821499 \t epsilon: 0.020562849544078228\n",
            "episode: 372 / 1000 \t mean score: -121.06677234731303 \t mean distance: -21.066772347313034 \t mean loss: 3.8458443 \t epsilon: 0.020316835612132877\n",
            "episode: 374 / 1000 \t mean score: -120.5842395897014 \t mean distance: -20.584239589701397 \t mean loss: 6.685254 \t epsilon: 0.02007376499086932\n",
            "episode: 376 / 1000 \t mean score: -120.90631810587738 \t mean distance: -20.90631810587737 \t mean loss: 10.721406 \t epsilon: 0.019833602466518562\n",
            "episode: 378 / 1000 \t mean score: -121.05346048440782 \t mean distance: -21.05346048440783 \t mean loss: 6.0049396 \t epsilon: 0.019596313246609133\n",
            "episode: 380 / 1000 \t mean score: -120.76135737670492 \t mean distance: -20.761357376704915 \t mean loss: 5.604416 \t epsilon: 0.0193618629549267\n",
            "episode: 382 / 1000 \t mean score: -120.77850407177147 \t mean distance: -20.778504071771472 \t mean loss: 9.102225 \t epsilon: 0.019130217626533955\n",
            "episode: 384 / 1000 \t mean score: -120.65320485636653 \t mean distance: -20.653204856366532 \t mean loss: 13.816361 \t epsilon: 0.018901343702850102\n",
            "episode: 386 / 1000 \t mean score: -115.02137958558151 \t mean distance: -15.021379585581508 \t mean loss: 7.6821523 \t epsilon: 0.0186752080267892\n",
            "episode: 388 / 1000 \t mean score: -121.73035386427335 \t mean distance: -21.730353864273358 \t mean loss: 7.509516 \t epsilon: 0.018451777837956693\n",
            "episode: 390 / 1000 \t mean score: -120.6607672691252 \t mean distance: -20.6607672691252 \t mean loss: 10.79079 \t epsilon: 0.01823102076790338\n",
            "episode: 392 / 1000 \t mean score: -121.0735884001851 \t mean distance: -21.0735884001851 \t mean loss: 6.407182 \t epsilon: 0.018012904835436182\n",
            "episode: 394 / 1000 \t mean score: -121.65347441858239 \t mean distance: -21.653474418582384 \t mean loss: 11.950077 \t epsilon: 0.01779739844198502\n",
            "episode: 396 / 1000 \t mean score: -121.17889271115106 \t mean distance: -21.17889271115107 \t mean loss: 7.965091 \t epsilon: 0.017584470367025113\n",
            "episode: 398 / 1000 \t mean score: -121.03599292834505 \t mean distance: -21.03599292834506 \t mean loss: 13.9527645 \t epsilon: 0.017374089763554024\n",
            "episode: 400 / 1000 \t mean score: -117.64187458674206 \t mean distance: -17.64187458674205 \t mean loss: 2.9712381 \t epsilon: 0.017166226153622864\n",
            "episode: 402 / 1000 \t mean score: -120.54185174379124 \t mean distance: -20.54185174379124 \t mean loss: 14.941174 \t epsilon: 0.016960849423920923\n",
            "episode: 404 / 1000 \t mean score: -120.7405875794605 \t mean distance: -20.740587579460495 \t mean loss: 10.65396 \t epsilon: 0.01675792982141313\n",
            "episode: 406 / 1000 \t mean score: -120.70488126005884 \t mean distance: -20.704881260058833 \t mean loss: 4.01318 \t epsilon: 0.016557437949029745\n",
            "episode: 408 / 1000 \t mean score: -121.07626115406924 \t mean distance: -21.076261154069243 \t mean loss: 9.246546 \t epsilon: 0.016359344761407553\n",
            "episode: 410 / 1000 \t mean score: -120.87767799930833 \t mean distance: -20.877677999308325 \t mean loss: 10.06214 \t epsilon: 0.016163621560682073\n",
            "episode: 412 / 1000 \t mean score: -120.86018432652298 \t mean distance: -20.860184326522972 \t mean loss: 13.47517 \t epsilon: 0.015970239992330073\n",
            "episode: 414 / 1000 \t mean score: -120.68474802238865 \t mean distance: -20.684748022388654 \t mean loss: 10.259274 \t epsilon: 0.01577917204106184\n",
            "episode: 416 / 1000 \t mean score: -120.65667934566363 \t mean distance: -20.656679345663626 \t mean loss: 8.81538 \t epsilon: 0.015590390026762576\n",
            "episode: 418 / 1000 \t mean score: -125.72895668385672 \t mean distance: -25.72895668385673 \t mean loss: 9.279611 \t epsilon: 0.015403866600482388\n",
            "episode: 420 / 1000 \t mean score: -120.77417821817937 \t mean distance: -20.774178218179372 \t mean loss: 8.642614 \t epsilon: 0.015219574740474216\n",
            "episode: 422 / 1000 \t mean score: -121.03643078714887 \t mean distance: -21.036430787148877 \t mean loss: 5.3844676 \t epsilon: 0.015037487748279182\n",
            "episode: 424 / 1000 \t mean score: -119.07313662939393 \t mean distance: -19.073136629393936 \t mean loss: 8.841416 \t epsilon: 0.01485757924485877\n",
            "episode: 426 / 1000 \t mean score: -121.1549951235385 \t mean distance: -21.15499512353849 \t mean loss: 13.437445 \t epsilon: 0.014679823166773279\n",
            "episode: 428 / 1000 \t mean score: -120.91375152780302 \t mean distance: -20.913751527803008 \t mean loss: 6.784003 \t epsilon: 0.014504193762406003\n",
            "episode: 430 / 1000 \t mean score: -120.9354464973618 \t mean distance: -20.935446497361788 \t mean loss: 8.049128 \t epsilon: 0.014330665588232578\n",
            "episode: 432 / 1000 \t mean score: -116.23051109240326 \t mean distance: -16.23051109240327 \t mean loss: 7.7014766 \t epsilon: 0.014159213505134964\n",
            "episode: 434 / 1000 \t mean score: -121.0250741273739 \t mean distance: -21.025074127373898 \t mean loss: 3.9894717 \t epsilon: 0.01398981267475953\n",
            "episode: 436 / 1000 \t mean score: -121.54267998052978 \t mean distance: -21.542679980529776 \t mean loss: 8.044363 \t epsilon: 0.013822438555918708\n",
            "episode: 438 / 1000 \t mean score: -118.0374014895518 \t mean distance: -18.037401489551794 \t mean loss: 9.645699 \t epsilon: 0.013657066901035696\n",
            "episode: 440 / 1000 \t mean score: -117.79185564791224 \t mean distance: -17.791855647912243 \t mean loss: 8.416524 \t epsilon: 0.013493673752631706\n",
            "episode: 442 / 1000 \t mean score: -120.97190631615462 \t mean distance: -20.97190631615463 \t mean loss: 10.223006 \t epsilon: 0.013332235439855221\n",
            "episode: 444 / 1000 \t mean score: -121.26876534710513 \t mean distance: -21.26876534710513 \t mean loss: 8.306308 \t epsilon: 0.013172728575052793\n",
            "episode: 446 / 1000 \t mean score: -120.91322449297891 \t mean distance: -20.913224492978916 \t mean loss: 10.69225 \t epsilon: 0.013015130050380862\n",
            "episode: 448 / 1000 \t mean score: -121.55278257688073 \t mean distance: -21.552782576880727 \t mean loss: 6.9219255 \t epsilon: 0.012859417034458104\n",
            "episode: 450 / 1000 \t mean score: -121.0357986727633 \t mean distance: -21.03579867276331 \t mean loss: 10.08482 \t epsilon: 0.012705566969057848\n",
            "episode: 452 / 1000 \t mean score: -121.23301650837932 \t mean distance: -21.233016508379322 \t mean loss: 3.7482002 \t epsilon: 0.01255355756584004\n",
            "episode: 454 / 1000 \t mean score: -120.66017174364129 \t mean distance: -20.660171743641286 \t mean loss: 7.5555935 \t epsilon: 0.01240336680312233\n",
            "episode: 456 / 1000 \t mean score: -121.1647188394231 \t mean distance: -21.1647188394231 \t mean loss: 7.523606 \t epsilon: 0.012254972922689775\n",
            "episode: 458 / 1000 \t mean score: -120.71013706170612 \t mean distance: -20.710137061706114 \t mean loss: 7.246333 \t epsilon: 0.012108354426642714\n",
            "episode: 460 / 1000 \t mean score: -120.93122018935622 \t mean distance: -20.931220189356235 \t mean loss: 5.5429525 \t epsilon: 0.01196349007428236\n",
            "episode: 462 / 1000 \t mean score: -120.6303740874178 \t mean distance: -20.6303740874178 \t mean loss: 10.18625 \t epsilon: 0.011820358879033646\n",
            "episode: 464 / 1000 \t mean score: -120.27604058146414 \t mean distance: -20.276040581464137 \t mean loss: 9.980691 \t epsilon: 0.011678940105404887\n",
            "episode: 466 / 1000 \t mean score: -120.30777869385543 \t mean distance: -20.30777869385542 \t mean loss: 10.0455475 \t epsilon: 0.011539213265983823\n",
            "episode: 468 / 1000 \t mean score: -120.55723999907013 \t mean distance: -20.557239999070127 \t mean loss: 10.185396 \t epsilon: 0.011401158118469593\n",
            "episode: 470 / 1000 \t mean score: -120.72436320553999 \t mean distance: -20.72436320553998 \t mean loss: 10.371604 \t epsilon: 0.011264754662740222\n",
            "episode: 472 / 1000 \t mean score: -120.43143588401159 \t mean distance: -20.431435884011584 \t mean loss: 8.462376 \t epsilon: 0.011129983137955199\n",
            "episode: 474 / 1000 \t mean score: -120.00000340991372 \t mean distance: -20.000003409913724 \t mean loss: 14.177978 \t epsilon: 0.010996824019692703\n",
            "episode: 476 / 1000 \t mean score: -120.20089385722328 \t mean distance: -20.200893857223274 \t mean loss: 8.259946 \t epsilon: 0.010865258017121099\n",
            "episode: 478 / 1000 \t mean score: -118.90655357769316 \t mean distance: -18.906553577693163 \t mean loss: 12.145126 \t epsilon: 0.010735266070204261\n",
            "episode: 480 / 1000 \t mean score: -120.55005865419375 \t mean distance: -20.550058654193755 \t mean loss: 15.455771 \t epsilon: 0.010606829346940337\n",
            "episode: 482 / 1000 \t mean score: -120.63967844703296 \t mean distance: -20.639678447032956 \t mean loss: 12.152142 \t epsilon: 0.010479929240633543\n",
            "episode: 484 / 1000 \t mean score: -121.62844278947387 \t mean distance: -21.628442789473873 \t mean loss: 14.303702 \t epsilon: 0.010354547367198604\n",
            "episode: 486 / 1000 \t mean score: -121.07796723247597 \t mean distance: -21.077967232475977 \t mean loss: 10.213924 \t epsilon: 0.010230665562497441\n",
            "episode: 488 / 1000 \t mean score: -120.67207735569121 \t mean distance: -20.672077355691222 \t mean loss: 16.210016 \t epsilon: 0.010108265879707722\n",
            "episode: 490 / 1000 \t mean score: -120.56001984014424 \t mean distance: -20.56001984014423 \t mean loss: 3.872207 \t epsilon: 0.01\n",
            "episode: 492 / 1000 \t mean score: -120.84343924334769 \t mean distance: -20.843439243347685 \t mean loss: 13.585504 \t epsilon: 0.01\n",
            "episode: 494 / 1000 \t mean score: -120.63191378246432 \t mean distance: -20.63191378246433 \t mean loss: 5.1565475 \t epsilon: 0.01\n",
            "episode: 496 / 1000 \t mean score: -121.17774173529352 \t mean distance: -21.177741735293516 \t mean loss: 10.979339 \t epsilon: 0.01\n",
            "episode: 498 / 1000 \t mean score: -121.48540684436881 \t mean distance: -21.485406844368814 \t mean loss: 8.290725 \t epsilon: 0.01\n",
            "episode: 500 / 1000 \t mean score: -117.2330087896039 \t mean distance: -17.2330087896039 \t mean loss: 0.980471 \t epsilon: 0.01\n",
            "episode: 502 / 1000 \t mean score: -120.9534254072175 \t mean distance: -20.953425407217495 \t mean loss: 5.589119 \t epsilon: 0.01\n",
            "episode: 504 / 1000 \t mean score: -117.53978366500883 \t mean distance: -17.539783665008834 \t mean loss: 10.00496 \t epsilon: 0.01\n",
            "episode: 506 / 1000 \t mean score: -120.14139582185166 \t mean distance: -20.141395821851667 \t mean loss: 6.2626514 \t epsilon: 0.01\n",
            "episode: 508 / 1000 \t mean score: -120.51717734991603 \t mean distance: -20.517177349916025 \t mean loss: 2.5663545 \t epsilon: 0.01\n",
            "episode: 510 / 1000 \t mean score: -120.46709291205678 \t mean distance: -20.467092912056778 \t mean loss: 10.110625 \t epsilon: 0.01\n",
            "episode: 512 / 1000 \t mean score: -120.22388859677375 \t mean distance: -20.223888596773755 \t mean loss: 0.91060716 \t epsilon: 0.01\n",
            "episode: 514 / 1000 \t mean score: -120.73186133490626 \t mean distance: -20.731861334906256 \t mean loss: 2.2786188 \t epsilon: 0.01\n",
            "episode: 516 / 1000 \t mean score: -121.39485194589818 \t mean distance: -21.394851945898175 \t mean loss: 9.914669 \t epsilon: 0.01\n",
            "episode: 518 / 1000 \t mean score: -126.01585122146363 \t mean distance: -26.01585122146363 \t mean loss: 10.77196 \t epsilon: 0.01\n",
            "episode: 520 / 1000 \t mean score: -121.37805521501787 \t mean distance: -21.37805521501786 \t mean loss: 16.073484 \t epsilon: 0.01\n",
            "episode: 522 / 1000 \t mean score: -121.29496204924334 \t mean distance: -21.29496204924334 \t mean loss: 13.339222 \t epsilon: 0.01\n",
            "episode: 524 / 1000 \t mean score: -121.16818698838011 \t mean distance: -21.168186988380107 \t mean loss: 10.130273 \t epsilon: 0.01\n",
            "episode: 526 / 1000 \t mean score: -121.37695967131945 \t mean distance: -21.37695967131945 \t mean loss: 4.2278724 \t epsilon: 0.01\n",
            "episode: 528 / 1000 \t mean score: -121.06200158062484 \t mean distance: -21.06200158062483 \t mean loss: 6.399936 \t epsilon: 0.01\n",
            "episode: 530 / 1000 \t mean score: -121.12843346803385 \t mean distance: -21.128433468033858 \t mean loss: 10.207306 \t epsilon: 0.01\n",
            "episode: 532 / 1000 \t mean score: -120.66025310223331 \t mean distance: -20.660253102233312 \t mean loss: 10.836358 \t epsilon: 0.01\n",
            "episode: 534 / 1000 \t mean score: -121.09855960720498 \t mean distance: -21.09855960720497 \t mean loss: 15.284826 \t epsilon: 0.01\n",
            "episode: 536 / 1000 \t mean score: -121.36998147737762 \t mean distance: -21.369981477377614 \t mean loss: 12.195533 \t epsilon: 0.01\n",
            "episode: 538 / 1000 \t mean score: -121.22418230076009 \t mean distance: -21.22418230076009 \t mean loss: 14.262479 \t epsilon: 0.01\n",
            "episode: 540 / 1000 \t mean score: -121.23872851887654 \t mean distance: -21.238728518876545 \t mean loss: 6.763389 \t epsilon: 0.01\n",
            "episode: 542 / 1000 \t mean score: -121.44980517871491 \t mean distance: -21.449805178714907 \t mean loss: 8.6448765 \t epsilon: 0.01\n",
            "episode: 544 / 1000 \t mean score: -121.40103525308922 \t mean distance: -21.401035253089223 \t mean loss: 14.044982 \t epsilon: 0.01\n",
            "episode: 546 / 1000 \t mean score: -120.84869685540843 \t mean distance: -20.84869685540844 \t mean loss: 4.954147 \t epsilon: 0.01\n",
            "episode: 548 / 1000 \t mean score: -120.42708179283761 \t mean distance: -20.42708179283762 \t mean loss: 7.885152 \t epsilon: 0.01\n",
            "episode: 550 / 1000 \t mean score: -120.42007586162072 \t mean distance: -20.420075861620706 \t mean loss: 10.857001 \t epsilon: 0.01\n",
            "episode: 552 / 1000 \t mean score: -120.41253885127261 \t mean distance: -20.412538851272615 \t mean loss: 13.426057 \t epsilon: 0.01\n",
            "episode: 554 / 1000 \t mean score: -120.51467970501506 \t mean distance: -20.514679705015062 \t mean loss: 6.4479427 \t epsilon: 0.01\n",
            "episode: 556 / 1000 \t mean score: -120.5468940156279 \t mean distance: -20.5468940156279 \t mean loss: 13.20647 \t epsilon: 0.01\n",
            "episode: 558 / 1000 \t mean score: -120.38576041557826 \t mean distance: -20.385760415578254 \t mean loss: 11.853026 \t epsilon: 0.01\n",
            "episode: 560 / 1000 \t mean score: -120.2011916941634 \t mean distance: -20.2011916941634 \t mean loss: 12.56981 \t epsilon: 0.01\n",
            "episode: 562 / 1000 \t mean score: -120.36331713718889 \t mean distance: -20.36331713718889 \t mean loss: 7.0715637 \t epsilon: 0.01\n",
            "episode: 564 / 1000 \t mean score: -120.73465659101245 \t mean distance: -20.734656591012445 \t mean loss: 10.727784 \t epsilon: 0.01\n",
            "episode: 566 / 1000 \t mean score: -120.05497620730628 \t mean distance: -20.05497620730629 \t mean loss: 6.4276013 \t epsilon: 0.01\n",
            "episode: 568 / 1000 \t mean score: -120.71173349676901 \t mean distance: -20.711733496769014 \t mean loss: 10.934261 \t epsilon: 0.01\n",
            "episode: 570 / 1000 \t mean score: -120.94646860355914 \t mean distance: -20.94646860355914 \t mean loss: 9.415752 \t epsilon: 0.01\n",
            "episode: 572 / 1000 \t mean score: -120.61599730359482 \t mean distance: -20.615997303594824 \t mean loss: 8.84429 \t epsilon: 0.01\n",
            "episode: 574 / 1000 \t mean score: -120.32139265030685 \t mean distance: -20.321392650306837 \t mean loss: 11.908032 \t epsilon: 0.01\n",
            "episode: 576 / 1000 \t mean score: -120.3714859197956 \t mean distance: -20.371485919795603 \t mean loss: 4.7358947 \t epsilon: 0.01\n",
            "episode: 578 / 1000 \t mean score: -120.9969942823819 \t mean distance: -20.99699428238191 \t mean loss: 7.7838426 \t epsilon: 0.01\n",
            "episode: 580 / 1000 \t mean score: -120.1655783061146 \t mean distance: -20.1655783061146 \t mean loss: 5.051083 \t epsilon: 0.01\n",
            "episode: 582 / 1000 \t mean score: -120.04425349581271 \t mean distance: -20.044253495812715 \t mean loss: 9.60447 \t epsilon: 0.01\n",
            "episode: 584 / 1000 \t mean score: -117.62079084393008 \t mean distance: -17.620790843930084 \t mean loss: 10.6944475 \t epsilon: 0.01\n",
            "episode: 586 / 1000 \t mean score: -119.97439063267036 \t mean distance: -19.97439063267036 \t mean loss: 7.520042 \t epsilon: 0.01\n",
            "episode: 588 / 1000 \t mean score: -120.21834261459826 \t mean distance: -20.218342614598253 \t mean loss: 15.479401 \t epsilon: 0.01\n",
            "episode: 590 / 1000 \t mean score: -119.8318649045415 \t mean distance: -19.83186490454151 \t mean loss: 10.722584 \t epsilon: 0.01\n",
            "episode: 592 / 1000 \t mean score: -119.82894772678861 \t mean distance: -19.82894772678861 \t mean loss: 3.865135 \t epsilon: 0.01\n",
            "episode: 594 / 1000 \t mean score: -119.96107600131722 \t mean distance: -19.96107600131723 \t mean loss: 12.361571 \t epsilon: 0.01\n",
            "episode: 596 / 1000 \t mean score: -120.59178730927624 \t mean distance: -20.591787309276242 \t mean loss: 10.410806 \t epsilon: 0.01\n",
            "episode: 598 / 1000 \t mean score: -120.24070362934035 \t mean distance: -20.240703629340345 \t mean loss: 15.491126 \t epsilon: 0.01\n",
            "episode: 600 / 1000 \t mean score: -120.05559576181756 \t mean distance: -20.055595761817564 \t mean loss: 13.229308 \t epsilon: 0.01\n",
            "episode: 602 / 1000 \t mean score: -121.04326233418595 \t mean distance: -21.043262334185947 \t mean loss: 13.748285 \t epsilon: 0.01\n",
            "episode: 604 / 1000 \t mean score: -121.32946725939865 \t mean distance: -21.32946725939865 \t mean loss: 9.582125 \t epsilon: 0.01\n",
            "episode: 606 / 1000 \t mean score: -121.21673131859022 \t mean distance: -21.21673131859022 \t mean loss: 10.533186 \t epsilon: 0.01\n",
            "episode: 608 / 1000 \t mean score: -120.62643424464233 \t mean distance: -20.626434244642333 \t mean loss: 13.132349 \t epsilon: 0.01\n",
            "episode: 610 / 1000 \t mean score: -120.49471954269706 \t mean distance: -20.49471954269706 \t mean loss: 3.2600431 \t epsilon: 0.01\n",
            "episode: 612 / 1000 \t mean score: -120.77065076853086 \t mean distance: -20.770650768530857 \t mean loss: 9.272615 \t epsilon: 0.01\n",
            "episode: 614 / 1000 \t mean score: -117.24267005613477 \t mean distance: -17.242670056134763 \t mean loss: 15.096245 \t epsilon: 0.01\n",
            "episode: 616 / 1000 \t mean score: -120.6829592087871 \t mean distance: -20.682959208787096 \t mean loss: 12.367558 \t epsilon: 0.01\n",
            "episode: 618 / 1000 \t mean score: -121.1683385916439 \t mean distance: -21.16833859164391 \t mean loss: 10.205093 \t epsilon: 0.01\n",
            "episode: 620 / 1000 \t mean score: -128.11352845914297 \t mean distance: -78.11352845914298 \t mean loss: 7.1222234 \t epsilon: 0.01\n",
            "episode: 622 / 1000 \t mean score: -120.48889628374792 \t mean distance: -20.488896283747927 \t mean loss: 9.995497 \t epsilon: 0.01\n",
            "episode: 624 / 1000 \t mean score: -120.4324369696304 \t mean distance: -20.43243696963041 \t mean loss: 12.2177 \t epsilon: 0.01\n",
            "episode: 626 / 1000 \t mean score: -121.16672678794151 \t mean distance: -21.16672678794152 \t mean loss: 8.196399 \t epsilon: 0.01\n",
            "episode: 628 / 1000 \t mean score: -120.75999089241895 \t mean distance: -20.75999089241896 \t mean loss: 12.215697 \t epsilon: 0.01\n",
            "episode: 630 / 1000 \t mean score: -120.56950230231135 \t mean distance: -20.56950230231135 \t mean loss: 10.564706 \t epsilon: 0.01\n",
            "episode: 632 / 1000 \t mean score: -120.76950330010645 \t mean distance: -20.76950330010645 \t mean loss: 15.921613 \t epsilon: 0.01\n",
            "episode: 634 / 1000 \t mean score: -120.7114975470767 \t mean distance: -20.711497547076693 \t mean loss: 9.850422 \t epsilon: 0.01\n",
            "episode: 636 / 1000 \t mean score: -120.9760083656134 \t mean distance: -20.976008365613396 \t mean loss: 11.017376 \t epsilon: 0.01\n",
            "episode: 638 / 1000 \t mean score: -120.63493435557372 \t mean distance: -20.63493435557372 \t mean loss: 7.3536606 \t epsilon: 0.01\n",
            "episode: 640 / 1000 \t mean score: -120.52338133870529 \t mean distance: -20.523381338705295 \t mean loss: 10.7571535 \t epsilon: 0.01\n",
            "episode: 642 / 1000 \t mean score: -120.63352444988799 \t mean distance: -20.633524449887986 \t mean loss: 8.988938 \t epsilon: 0.01\n",
            "episode: 644 / 1000 \t mean score: -115.48370392920572 \t mean distance: -15.483703929205719 \t mean loss: 7.2385345 \t epsilon: 0.01\n",
            "episode: 646 / 1000 \t mean score: -120.43216735743886 \t mean distance: -20.432167357438853 \t mean loss: 13.657592 \t epsilon: 0.01\n",
            "episode: 648 / 1000 \t mean score: -118.02251117901379 \t mean distance: -18.022511179013787 \t mean loss: 3.40186 \t epsilon: 0.01\n",
            "episode: 650 / 1000 \t mean score: -120.65136933116116 \t mean distance: -20.65136933116117 \t mean loss: 11.624702 \t epsilon: 0.01\n",
            "episode: 652 / 1000 \t mean score: -120.49015687912298 \t mean distance: -20.490156879122978 \t mean loss: 16.026878 \t epsilon: 0.01\n",
            "episode: 654 / 1000 \t mean score: -120.34639911848181 \t mean distance: -20.346399118481813 \t mean loss: 10.838993 \t epsilon: 0.01\n",
            "episode: 656 / 1000 \t mean score: -120.41397626195847 \t mean distance: -20.413976261958467 \t mean loss: 15.053964 \t epsilon: 0.01\n",
            "episode: 658 / 1000 \t mean score: -121.11651762146998 \t mean distance: -21.11651762146998 \t mean loss: 8.007213 \t epsilon: 0.01\n",
            "episode: 660 / 1000 \t mean score: -120.45098356416479 \t mean distance: -20.450983564164787 \t mean loss: 4.7953057 \t epsilon: 0.01\n",
            "episode: 662 / 1000 \t mean score: -120.27977465521232 \t mean distance: -20.27977465521233 \t mean loss: 9.370968 \t epsilon: 0.01\n",
            "episode: 664 / 1000 \t mean score: -119.84111292381365 \t mean distance: -19.841112923813665 \t mean loss: 14.517011 \t epsilon: 0.01\n",
            "episode: 666 / 1000 \t mean score: -120.55426082862758 \t mean distance: -20.554260828627573 \t mean loss: 12.075728 \t epsilon: 0.01\n",
            "episode: 668 / 1000 \t mean score: -120.98706744517074 \t mean distance: -20.987067445170744 \t mean loss: 10.756428 \t epsilon: 0.01\n",
            "episode: 670 / 1000 \t mean score: -120.97142013266279 \t mean distance: -20.97142013266278 \t mean loss: 11.811435 \t epsilon: 0.01\n",
            "episode: 672 / 1000 \t mean score: -120.93508016096551 \t mean distance: -20.935080160965512 \t mean loss: 5.381334 \t epsilon: 0.01\n",
            "episode: 674 / 1000 \t mean score: -120.70143819742339 \t mean distance: -20.70143819742338 \t mean loss: 13.427049 \t epsilon: 0.01\n",
            "episode: 676 / 1000 \t mean score: -120.81249064458066 \t mean distance: -20.81249064458067 \t mean loss: 12.316523 \t epsilon: 0.01\n",
            "episode: 678 / 1000 \t mean score: -120.43736104350566 \t mean distance: -20.437361043505668 \t mean loss: 11.794982 \t epsilon: 0.01\n",
            "episode: 680 / 1000 \t mean score: -121.11418386365659 \t mean distance: -21.114183863656585 \t mean loss: 14.623617 \t epsilon: 0.01\n",
            "episode: 682 / 1000 \t mean score: -120.94971212193678 \t mean distance: -20.94971212193679 \t mean loss: 7.5270343 \t epsilon: 0.01\n",
            "episode: 684 / 1000 \t mean score: -120.68883545179571 \t mean distance: -20.688835451795708 \t mean loss: 9.922242 \t epsilon: 0.01\n",
            "episode: 686 / 1000 \t mean score: -120.44645033694212 \t mean distance: -20.446450336942128 \t mean loss: 12.444272 \t epsilon: 0.01\n",
            "episode: 688 / 1000 \t mean score: -120.4897995570721 \t mean distance: -20.4897995570721 \t mean loss: 12.069915 \t epsilon: 0.01\n",
            "episode: 690 / 1000 \t mean score: -120.44853157124481 \t mean distance: -20.448531571244814 \t mean loss: 10.536953 \t epsilon: 0.01\n",
            "episode: 692 / 1000 \t mean score: -120.41450774113677 \t mean distance: -20.414507741136777 \t mean loss: 10.953012 \t epsilon: 0.01\n",
            "episode: 694 / 1000 \t mean score: -120.65989892974247 \t mean distance: -20.659898929742468 \t mean loss: 5.461348 \t epsilon: 0.01\n",
            "episode: 696 / 1000 \t mean score: -120.46768125810193 \t mean distance: -20.467681258101937 \t mean loss: 5.9268847 \t epsilon: 0.01\n",
            "episode: 698 / 1000 \t mean score: -120.57233859140736 \t mean distance: -20.572338591407355 \t mean loss: 9.752762 \t epsilon: 0.01\n",
            "episode: 700 / 1000 \t mean score: -120.49597497210154 \t mean distance: -20.495974972101536 \t mean loss: 2.8850806 \t epsilon: 0.01\n",
            "episode: 702 / 1000 \t mean score: -120.49861172613313 \t mean distance: -20.498611726133138 \t mean loss: 6.8905945 \t epsilon: 0.01\n",
            "episode: 704 / 1000 \t mean score: -120.67139386182308 \t mean distance: -20.67139386182308 \t mean loss: 7.8758636 \t epsilon: 0.01\n",
            "episode: 706 / 1000 \t mean score: -120.40703191654228 \t mean distance: -20.407031916542277 \t mean loss: 10.798764 \t epsilon: 0.01\n",
            "episode: 708 / 1000 \t mean score: -120.82473646455878 \t mean distance: -20.824736464558775 \t mean loss: 9.370724 \t epsilon: 0.01\n",
            "episode: 710 / 1000 \t mean score: -120.82589986747502 \t mean distance: -20.82589986747502 \t mean loss: 6.6377683 \t epsilon: 0.01\n",
            "episode: 712 / 1000 \t mean score: -119.88915643294466 \t mean distance: -19.889156432944652 \t mean loss: 8.708705 \t epsilon: 0.01\n",
            "episode: 714 / 1000 \t mean score: -121.02956219975803 \t mean distance: -21.029562199758043 \t mean loss: 12.93214 \t epsilon: 0.01\n",
            "episode: 716 / 1000 \t mean score: -120.92750217423028 \t mean distance: -20.927502174230277 \t mean loss: 15.944925 \t epsilon: 0.01\n",
            "episode: 718 / 1000 \t mean score: -120.95208477651855 \t mean distance: -20.95208477651854 \t mean loss: 13.721763 \t epsilon: 0.01\n",
            "episode: 720 / 1000 \t mean score: -120.7794198314271 \t mean distance: -20.779419831427113 \t mean loss: 2.1020434 \t epsilon: 0.01\n",
            "episode: 722 / 1000 \t mean score: -120.62178120275462 \t mean distance: -20.621781202754615 \t mean loss: 8.928651 \t epsilon: 0.01\n",
            "episode: 724 / 1000 \t mean score: -120.21116447914918 \t mean distance: -20.211164479149183 \t mean loss: 3.397809 \t epsilon: 0.01\n",
            "episode: 726 / 1000 \t mean score: -120.64589383735537 \t mean distance: -20.64589383735538 \t mean loss: 16.991585 \t epsilon: 0.01\n",
            "episode: 728 / 1000 \t mean score: -120.97308922666434 \t mean distance: -20.973089226664342 \t mean loss: 11.768111 \t epsilon: 0.01\n",
            "episode: 730 / 1000 \t mean score: -120.64003171592019 \t mean distance: -20.640031715920184 \t mean loss: 7.5471406 \t epsilon: 0.01\n",
            "episode: 732 / 1000 \t mean score: -120.83618741329386 \t mean distance: -20.836187413293857 \t mean loss: 8.832931 \t epsilon: 0.01\n",
            "episode: 734 / 1000 \t mean score: -120.72497595438671 \t mean distance: -20.724975954386707 \t mean loss: 14.711426 \t epsilon: 0.01\n",
            "episode: 736 / 1000 \t mean score: -118.7113697284224 \t mean distance: -18.711369728422405 \t mean loss: 13.814939 \t epsilon: 0.01\n",
            "episode: 738 / 1000 \t mean score: -120.75273300089624 \t mean distance: -20.752733000896242 \t mean loss: 7.77656 \t epsilon: 0.01\n",
            "episode: 740 / 1000 \t mean score: -120.50129259620233 \t mean distance: -20.501292596202333 \t mean loss: 1.8770416 \t epsilon: 0.01\n",
            "episode: 742 / 1000 \t mean score: -119.75821526325277 \t mean distance: -19.758215263252758 \t mean loss: 8.669371 \t epsilon: 0.01\n",
            "episode: 744 / 1000 \t mean score: -118.99271503387547 \t mean distance: -18.992715033875463 \t mean loss: 8.33817 \t epsilon: 0.01\n",
            "episode: 746 / 1000 \t mean score: -120.68594616821562 \t mean distance: -20.685946168215626 \t mean loss: 9.975079 \t epsilon: 0.01\n",
            "episode: 748 / 1000 \t mean score: -120.89537063297783 \t mean distance: -20.895370632977833 \t mean loss: 8.196776 \t epsilon: 0.01\n",
            "episode: 750 / 1000 \t mean score: -120.23125620844058 \t mean distance: -20.23125620844059 \t mean loss: 11.804345 \t epsilon: 0.01\n",
            "episode: 752 / 1000 \t mean score: -120.22583998179869 \t mean distance: -20.225839981798693 \t mean loss: 7.39936 \t epsilon: 0.01\n",
            "episode: 754 / 1000 \t mean score: -120.3792749194034 \t mean distance: -20.379274919403397 \t mean loss: 11.166397 \t epsilon: 0.01\n",
            "episode: 756 / 1000 \t mean score: -120.84747882626203 \t mean distance: -20.847478826262048 \t mean loss: 11.645455 \t epsilon: 0.01\n",
            "episode: 758 / 1000 \t mean score: -120.52192104896375 \t mean distance: -20.52192104896374 \t mean loss: 3.0816355 \t epsilon: 0.01\n",
            "episode: 760 / 1000 \t mean score: -120.49542971472876 \t mean distance: -20.495429714728758 \t mean loss: 10.922825 \t epsilon: 0.01\n",
            "episode: 762 / 1000 \t mean score: -120.90009424010478 \t mean distance: -20.90009424010477 \t mean loss: 8.853114 \t epsilon: 0.01\n",
            "episode: 764 / 1000 \t mean score: -119.9008014602866 \t mean distance: -19.900801460286594 \t mean loss: 9.57406 \t epsilon: 0.01\n",
            "episode: 766 / 1000 \t mean score: -121.0597116378679 \t mean distance: -21.059711637867913 \t mean loss: 8.90647 \t epsilon: 0.01\n",
            "episode: 768 / 1000 \t mean score: -120.79206460600903 \t mean distance: -20.79206460600904 \t mean loss: 5.6868806 \t epsilon: 0.01\n",
            "episode: 770 / 1000 \t mean score: -130.81765665026506 \t mean distance: -80.81765665026505 \t mean loss: 9.811081 \t epsilon: 0.01\n",
            "episode: 772 / 1000 \t mean score: -120.36316437411959 \t mean distance: -20.36316437411959 \t mean loss: 8.3119135 \t epsilon: 0.01\n",
            "episode: 774 / 1000 \t mean score: -113.74860032272028 \t mean distance: -13.748600322720272 \t mean loss: 10.0152025 \t epsilon: 0.01\n",
            "episode: 776 / 1000 \t mean score: -119.19120397224307 \t mean distance: -19.191203972243073 \t mean loss: 8.7209215 \t epsilon: 0.01\n",
            "episode: 778 / 1000 \t mean score: -119.54951106145171 \t mean distance: -19.549511061451703 \t mean loss: 9.961132 \t epsilon: 0.01\n",
            "episode: 780 / 1000 \t mean score: -119.56837457666919 \t mean distance: -19.56837457666918 \t mean loss: 5.9350467 \t epsilon: 0.01\n",
            "episode: 782 / 1000 \t mean score: -119.44410381869847 \t mean distance: -19.44410381869847 \t mean loss: 6.413011 \t epsilon: 0.01\n",
            "episode: 784 / 1000 \t mean score: -119.0439388906105 \t mean distance: -19.043938890610505 \t mean loss: 7.2590337 \t epsilon: 0.01\n",
            "episode: 786 / 1000 \t mean score: -119.561185041151 \t mean distance: -19.561185041151 \t mean loss: 8.3281765 \t epsilon: 0.01\n",
            "episode: 788 / 1000 \t mean score: -118.81504947518371 \t mean distance: -18.815049475183702 \t mean loss: 5.3792677 \t epsilon: 0.01\n",
            "episode: 790 / 1000 \t mean score: -120.13360369993714 \t mean distance: -20.133603699937147 \t mean loss: 11.652994 \t epsilon: 0.01\n",
            "episode: 792 / 1000 \t mean score: -119.08109136781374 \t mean distance: -19.081091367813755 \t mean loss: 11.3292465 \t epsilon: 0.01\n",
            "episode: 794 / 1000 \t mean score: -119.58215883577365 \t mean distance: -19.582158835773658 \t mean loss: 15.672019 \t epsilon: 0.01\n",
            "episode: 796 / 1000 \t mean score: -119.75529762179808 \t mean distance: -19.75529762179807 \t mean loss: 8.696328 \t epsilon: 0.01\n",
            "episode: 798 / 1000 \t mean score: -117.794413841671 \t mean distance: -17.794413841670995 \t mean loss: 8.77184 \t epsilon: 0.01\n",
            "episode: 800 / 1000 \t mean score: -118.81962610979036 \t mean distance: -18.819626109790363 \t mean loss: 15.045518 \t epsilon: 0.01\n",
            "episode: 802 / 1000 \t mean score: -118.7699421308028 \t mean distance: -18.769942130802814 \t mean loss: 10.814038 \t epsilon: 0.01\n",
            "episode: 804 / 1000 \t mean score: -119.63799007448212 \t mean distance: -19.63799007448212 \t mean loss: 14.533669 \t epsilon: 0.01\n",
            "episode: 806 / 1000 \t mean score: -117.78307433879283 \t mean distance: -17.783074338792815 \t mean loss: 7.1901 \t epsilon: 0.01\n",
            "episode: 808 / 1000 \t mean score: -118.24087484674217 \t mean distance: -18.240874846742173 \t mean loss: 7.6943464 \t epsilon: 0.01\n",
            "episode: 810 / 1000 \t mean score: -119.38523772485149 \t mean distance: -19.385237724851493 \t mean loss: 10.704241 \t epsilon: 0.01\n",
            "episode: 812 / 1000 \t mean score: -118.94677429693284 \t mean distance: -18.94677429693285 \t mean loss: 15.933222 \t epsilon: 0.01\n",
            "episode: 814 / 1000 \t mean score: -117.56406559178419 \t mean distance: -17.564065591784193 \t mean loss: 5.708245 \t epsilon: 0.01\n",
            "episode: 816 / 1000 \t mean score: -117.742858449365 \t mean distance: -17.74285844936501 \t mean loss: 7.5853124 \t epsilon: 0.01\n",
            "episode: 818 / 1000 \t mean score: -118.5419340817829 \t mean distance: -18.54193408178289 \t mean loss: 6.831816 \t epsilon: 0.01\n",
            "episode: 820 / 1000 \t mean score: -118.45065236606416 \t mean distance: -18.450652366064173 \t mean loss: 5.4867325 \t epsilon: 0.01\n",
            "episode: 822 / 1000 \t mean score: -119.44853278155252 \t mean distance: -19.448532781552515 \t mean loss: 10.4613495 \t epsilon: 0.01\n",
            "episode: 824 / 1000 \t mean score: -118.84191718185785 \t mean distance: -18.841917181857855 \t mean loss: 12.47335 \t epsilon: 0.01\n",
            "episode: 826 / 1000 \t mean score: -119.31254681540683 \t mean distance: -19.312546815406833 \t mean loss: 6.109523 \t epsilon: 0.01\n",
            "episode: 828 / 1000 \t mean score: -118.07338206974603 \t mean distance: -18.07338206974603 \t mean loss: 8.288495 \t epsilon: 0.01\n",
            "episode: 830 / 1000 \t mean score: -119.57479641860786 \t mean distance: -19.574796418607853 \t mean loss: 4.271621 \t epsilon: 0.01\n",
            "episode: 832 / 1000 \t mean score: -118.6548282871507 \t mean distance: -18.654828287150707 \t mean loss: 9.291424 \t epsilon: 0.01\n",
            "episode: 834 / 1000 \t mean score: -118.46929583043698 \t mean distance: -18.469295830436977 \t mean loss: 10.440461 \t epsilon: 0.01\n",
            "episode: 836 / 1000 \t mean score: -117.34047033304131 \t mean distance: -17.34047033304131 \t mean loss: 9.451443 \t epsilon: 0.01\n",
            "episode: 838 / 1000 \t mean score: -117.71177024308467 \t mean distance: -17.711770243084672 \t mean loss: 7.3806715 \t epsilon: 0.01\n",
            "episode: 840 / 1000 \t mean score: -119.92615701996844 \t mean distance: -19.926157019968446 \t mean loss: 12.004147 \t epsilon: 0.01\n",
            "episode: 842 / 1000 \t mean score: -119.29179202077785 \t mean distance: -19.291792020777855 \t mean loss: 17.460604 \t epsilon: 0.01\n",
            "episode: 844 / 1000 \t mean score: -117.6552169625551 \t mean distance: -17.65521696255511 \t mean loss: 15.135033 \t epsilon: 0.01\n",
            "episode: 846 / 1000 \t mean score: -117.42490583351938 \t mean distance: -17.424905833519368 \t mean loss: 11.532454 \t epsilon: 0.01\n",
            "episode: 848 / 1000 \t mean score: -119.67769857545352 \t mean distance: -19.677698575453512 \t mean loss: 11.565497 \t epsilon: 0.01\n",
            "episode: 850 / 1000 \t mean score: -118.45401062363698 \t mean distance: -18.45401062363696 \t mean loss: 7.351573 \t epsilon: 0.01\n",
            "episode: 852 / 1000 \t mean score: -119.07719458881733 \t mean distance: -19.077194588817335 \t mean loss: 8.680245 \t epsilon: 0.01\n",
            "episode: 854 / 1000 \t mean score: -119.41175831715296 \t mean distance: -19.41175831715296 \t mean loss: 6.0717697 \t epsilon: 0.01\n",
            "episode: 856 / 1000 \t mean score: -119.62783191455868 \t mean distance: -19.627831914558687 \t mean loss: 16.246166 \t epsilon: 0.01\n",
            "episode: 858 / 1000 \t mean score: -119.95021577288738 \t mean distance: -19.950215772887372 \t mean loss: 6.260172 \t epsilon: 0.01\n",
            "episode: 860 / 1000 \t mean score: -119.66191200379436 \t mean distance: -19.661912003794367 \t mean loss: 8.857929 \t epsilon: 0.01\n",
            "episode: 862 / 1000 \t mean score: -118.53220526240766 \t mean distance: -18.53220526240765 \t mean loss: 12.888791 \t epsilon: 0.01\n",
            "episode: 864 / 1000 \t mean score: -118.14646088646879 \t mean distance: -18.146460886468795 \t mean loss: 6.4521947 \t epsilon: 0.01\n",
            "episode: 866 / 1000 \t mean score: -117.93107894300854 \t mean distance: -17.93107894300855 \t mean loss: 13.086996 \t epsilon: 0.01\n",
            "episode: 868 / 1000 \t mean score: -118.58417187435614 \t mean distance: -18.584171874356137 \t mean loss: 12.726007 \t epsilon: 0.01\n",
            "episode: 870 / 1000 \t mean score: -119.51350752263671 \t mean distance: -19.513507522636708 \t mean loss: 9.099768 \t epsilon: 0.01\n",
            "episode: 872 / 1000 \t mean score: -117.84403126244185 \t mean distance: -17.844031262441845 \t mean loss: 11.5114155 \t epsilon: 0.01\n",
            "episode: 874 / 1000 \t mean score: -117.6124232045409 \t mean distance: -17.612423204540896 \t mean loss: 11.769773 \t epsilon: 0.01\n",
            "episode: 876 / 1000 \t mean score: -119.12591732114274 \t mean distance: -19.125917321142733 \t mean loss: 5.56903 \t epsilon: 0.01\n",
            "episode: 878 / 1000 \t mean score: -119.67475530778523 \t mean distance: -19.674755307785226 \t mean loss: 11.725495 \t epsilon: 0.01\n",
            "episode: 880 / 1000 \t mean score: -117.57273256575968 \t mean distance: -17.572732565759676 \t mean loss: 9.06256 \t epsilon: 0.01\n",
            "episode: 882 / 1000 \t mean score: -118.92492182605123 \t mean distance: -18.924921826051232 \t mean loss: 8.013195 \t epsilon: 0.01\n",
            "episode: 884 / 1000 \t mean score: -117.58575013394312 \t mean distance: -17.585750133943122 \t mean loss: 10.022338 \t epsilon: 0.01\n",
            "episode: 886 / 1000 \t mean score: -118.31888438500991 \t mean distance: -18.31888438500991 \t mean loss: 6.7306404 \t epsilon: 0.01\n",
            "episode: 888 / 1000 \t mean score: -117.37776853771135 \t mean distance: -17.377768537711347 \t mean loss: 9.854087 \t epsilon: 0.01\n",
            "episode: 890 / 1000 \t mean score: -117.35012596070145 \t mean distance: -17.35012596070145 \t mean loss: 3.9023025 \t epsilon: 0.01\n",
            "episode: 892 / 1000 \t mean score: -118.1706318643984 \t mean distance: -18.170631864398402 \t mean loss: 8.946502 \t epsilon: 0.01\n",
            "episode: 894 / 1000 \t mean score: -117.33113990923141 \t mean distance: -17.331139909231414 \t mean loss: 15.446507 \t epsilon: 0.01\n",
            "episode: 896 / 1000 \t mean score: -118.5340002872056 \t mean distance: -18.534000287205597 \t mean loss: 7.2806387 \t epsilon: 0.01\n",
            "episode: 898 / 1000 \t mean score: -118.17860108804919 \t mean distance: -18.17860108804919 \t mean loss: 10.647589 \t epsilon: 0.01\n",
            "episode: 900 / 1000 \t mean score: -117.91992391296941 \t mean distance: -17.91992391296941 \t mean loss: 11.015395 \t epsilon: 0.01\n",
            "episode: 902 / 1000 \t mean score: -117.68522137763412 \t mean distance: -17.68522137763413 \t mean loss: 10.326888 \t epsilon: 0.01\n",
            "episode: 904 / 1000 \t mean score: -117.65059133133043 \t mean distance: -17.650591331330432 \t mean loss: 6.820728 \t epsilon: 0.01\n",
            "episode: 906 / 1000 \t mean score: -116.96079007261804 \t mean distance: -16.96079007261805 \t mean loss: 10.354469 \t epsilon: 0.01\n",
            "episode: 908 / 1000 \t mean score: -117.40638155345619 \t mean distance: -17.406381553456182 \t mean loss: 11.428588 \t epsilon: 0.01\n",
            "episode: 910 / 1000 \t mean score: -118.29050756922209 \t mean distance: -18.290507569222086 \t mean loss: 9.972847 \t epsilon: 0.01\n",
            "episode: 912 / 1000 \t mean score: -118.01865037671507 \t mean distance: -18.018650376715073 \t mean loss: 10.454186 \t epsilon: 0.01\n",
            "episode: 914 / 1000 \t mean score: -117.34601241034176 \t mean distance: -17.346012410341757 \t mean loss: 6.8851 \t epsilon: 0.01\n",
            "episode: 916 / 1000 \t mean score: -117.30908065977258 \t mean distance: -17.309080659772576 \t mean loss: 8.615028 \t epsilon: 0.01\n",
            "episode: 918 / 1000 \t mean score: -118.13725510127159 \t mean distance: -18.137255101271588 \t mean loss: 12.018462 \t epsilon: 0.01\n",
            "episode: 920 / 1000 \t mean score: -116.84894378340337 \t mean distance: -16.84894378340337 \t mean loss: 11.290225 \t epsilon: 0.01\n",
            "episode: 922 / 1000 \t mean score: -117.67620058079994 \t mean distance: -17.676200580799946 \t mean loss: 9.426534 \t epsilon: 0.01\n",
            "episode: 924 / 1000 \t mean score: -116.93287864618375 \t mean distance: -16.932878646183756 \t mean loss: 8.042699 \t epsilon: 0.01\n",
            "episode: 926 / 1000 \t mean score: -118.00952922347777 \t mean distance: -18.00952922347777 \t mean loss: 2.1540484 \t epsilon: 0.01\n",
            "episode: 928 / 1000 \t mean score: -117.72647516375719 \t mean distance: -17.726475163757176 \t mean loss: 10.63753 \t epsilon: 0.01\n",
            "episode: 930 / 1000 \t mean score: -117.10937434292273 \t mean distance: -17.10937434292274 \t mean loss: 7.0058656 \t epsilon: 0.01\n",
            "episode: 932 / 1000 \t mean score: -117.11532071815834 \t mean distance: -17.115320718158344 \t mean loss: 10.916998 \t epsilon: 0.01\n",
            "episode: 934 / 1000 \t mean score: -117.1163290521636 \t mean distance: -17.116329052163596 \t mean loss: 4.9828687 \t epsilon: 0.01\n",
            "episode: 936 / 1000 \t mean score: -117.45016987087422 \t mean distance: -17.45016987087422 \t mean loss: 7.1834383 \t epsilon: 0.01\n",
            "episode: 938 / 1000 \t mean score: -117.6279445038711 \t mean distance: -17.6279445038711 \t mean loss: 16.30894 \t epsilon: 0.01\n",
            "episode: 940 / 1000 \t mean score: -117.06193311234036 \t mean distance: -17.061933112340355 \t mean loss: 8.253172 \t epsilon: 0.01\n",
            "episode: 942 / 1000 \t mean score: -117.37597689059625 \t mean distance: -17.37597689059625 \t mean loss: 6.094012 \t epsilon: 0.01\n",
            "episode: 944 / 1000 \t mean score: -117.21742423593719 \t mean distance: -17.21742423593718 \t mean loss: 6.4094777 \t epsilon: 0.01\n",
            "episode: 946 / 1000 \t mean score: -116.99088133119699 \t mean distance: -16.990881331196984 \t mean loss: 10.421274 \t epsilon: 0.01\n",
            "episode: 948 / 1000 \t mean score: -117.86038332488698 \t mean distance: -17.860383324886975 \t mean loss: 6.8075085 \t epsilon: 0.01\n",
            "episode: 950 / 1000 \t mean score: -117.06361012124705 \t mean distance: -17.063610121247045 \t mean loss: 9.394189 \t epsilon: 0.01\n",
            "episode: 952 / 1000 \t mean score: -116.78187806143455 \t mean distance: -16.78187806143456 \t mean loss: 11.525629 \t epsilon: 0.01\n",
            "episode: 954 / 1000 \t mean score: -116.59986792034967 \t mean distance: -16.599867920349666 \t mean loss: 16.6866 \t epsilon: 0.01\n",
            "episode: 956 / 1000 \t mean score: -116.88778900109821 \t mean distance: -16.88778900109821 \t mean loss: 12.071185 \t epsilon: 0.01\n",
            "episode: 958 / 1000 \t mean score: -116.64836923798421 \t mean distance: -16.64836923798422 \t mean loss: 5.1932354 \t epsilon: 0.01\n",
            "episode: 960 / 1000 \t mean score: -118.00275017824086 \t mean distance: -18.002750178240856 \t mean loss: 5.155755 \t epsilon: 0.01\n",
            "episode: 962 / 1000 \t mean score: -116.8046032657316 \t mean distance: -16.804603265731593 \t mean loss: 13.24398 \t epsilon: 0.01\n",
            "episode: 964 / 1000 \t mean score: -117.74240715154292 \t mean distance: -17.74240715154291 \t mean loss: 9.772706 \t epsilon: 0.01\n",
            "episode: 966 / 1000 \t mean score: -116.69844440071378 \t mean distance: -16.698444400713775 \t mean loss: 11.005484 \t epsilon: 0.01\n",
            "episode: 968 / 1000 \t mean score: -116.96659203055998 \t mean distance: -16.966592030559973 \t mean loss: 11.853189 \t epsilon: 0.01\n",
            "episode: 970 / 1000 \t mean score: -118.41596177498778 \t mean distance: -18.415961774987785 \t mean loss: 5.7593327 \t epsilon: 0.01\n",
            "episode: 972 / 1000 \t mean score: -117.81509807585147 \t mean distance: -17.81509807585148 \t mean loss: 9.877794 \t epsilon: 0.01\n",
            "episode: 974 / 1000 \t mean score: -118.1122781106485 \t mean distance: -18.112278110648496 \t mean loss: 13.218884 \t epsilon: 0.01\n",
            "episode: 976 / 1000 \t mean score: -117.42878745911052 \t mean distance: -17.428787459110524 \t mean loss: 9.032635 \t epsilon: 0.01\n",
            "episode: 978 / 1000 \t mean score: -116.36426627489459 \t mean distance: -16.36426627489459 \t mean loss: 6.5687737 \t epsilon: 0.01\n",
            "episode: 980 / 1000 \t mean score: -116.36559068698125 \t mean distance: -16.365590686981257 \t mean loss: 11.991385 \t epsilon: 0.01\n",
            "episode: 982 / 1000 \t mean score: -116.99292849881698 \t mean distance: -16.992928498816983 \t mean loss: 13.031016 \t epsilon: 0.01\n",
            "episode: 984 / 1000 \t mean score: -117.72754538127593 \t mean distance: -17.72754538127593 \t mean loss: 10.174547 \t epsilon: 0.01\n",
            "episode: 986 / 1000 \t mean score: -116.38029029542332 \t mean distance: -16.380290295423315 \t mean loss: 6.832368 \t epsilon: 0.01\n",
            "episode: 988 / 1000 \t mean score: -116.3767302773185 \t mean distance: -16.376730277318508 \t mean loss: 7.017356 \t epsilon: 0.01\n",
            "episode: 990 / 1000 \t mean score: -116.38559629368348 \t mean distance: -16.38559629368347 \t mean loss: 10.196947 \t epsilon: 0.01\n",
            "episode: 992 / 1000 \t mean score: -116.34323863162224 \t mean distance: -16.343238631622242 \t mean loss: 11.487397 \t epsilon: 0.01\n",
            "episode: 994 / 1000 \t mean score: -116.69642539442052 \t mean distance: -16.69642539442051 \t mean loss: 10.637438 \t epsilon: 0.01\n",
            "episode: 996 / 1000 \t mean score: -118.04332244803601 \t mean distance: -18.043322448036008 \t mean loss: 16.036669 \t epsilon: 0.01\n",
            "episode: 998 / 1000 \t mean score: -117.55700123539846 \t mean distance: -17.55700123539846 \t mean loss: 13.328389 \t epsilon: 0.01\n",
            "episode: 1000 / 1000 \t mean score: -116.81608806451285 \t mean distance: -16.816088064512854 \t mean loss: 8.383372 \t epsilon: 0.01\n"
          ]
        }
      ]
    },
    {
      "cell_type": "markdown",
      "metadata": {
        "id": "aoRFdJH1u4CC"
      },
      "source": [
        "# Plot"
      ]
    },
    {
      "cell_type": "code",
      "execution_count": 90,
      "metadata": {
        "id": "NXe3NShru4CD",
        "colab": {
          "base_uri": "https://localhost:8080/",
          "height": 476
        },
        "outputId": "83a7a4cb-a5c3-40aa-e2e9-775aee7f27e6"
      },
      "outputs": [
        {
          "output_type": "stream",
          "name": "stdout",
          "text": [
            "Total time:  7315.537520647049\n",
            "Saving figure bipedalwalker_v3_2022_11_18_16_31_17_scores.png\n"
          ]
        },
        {
          "output_type": "display_data",
          "data": {
            "text/plain": [
              "<Figure size 432x432 with 1 Axes>"
            ],
            "image/png": "[encoded data removed]"
          },
          "metadata": {
            "needs_background": "light"
          }
        }
      ],
      "source": [
        "print(\"Total time: \", time.time() - stime)\n",
        "\n",
        "x = [idx + 1 for idx in range(len(scores))]\n",
        "\n",
        "plt.figure(figsize=(6,6))\n",
        "plt.plot(x, scores)\n",
        "plt.title('Scores [' + env_name + ']')\n",
        "plt.grid()\n",
        "save_fig(scorefigname)\n",
        "plt.show()"
      ]
    },
    {
      "cell_type": "code",
      "execution_count": 91,
      "metadata": {
        "id": "y4tPHG0saO2D",
        "colab": {
          "base_uri": "https://localhost:8080/",
          "height": 458
        },
        "outputId": "d2d119af-88af-41bc-c38d-d277f52620f9"
      },
      "outputs": [
        {
          "output_type": "stream",
          "name": "stdout",
          "text": [
            "Saving figure bipedalwalker_v3_2022_11_18_16_31_17_cumulated_reward.png\n"
          ]
        },
        {
          "output_type": "display_data",
          "data": {
            "text/plain": [
              "<Figure size 432x432 with 1 Axes>"
            ],
            "image/png": "[encoded data removed]"
          },
          "metadata": {
            "needs_background": "light"
          }
        }
      ],
      "source": [
        "c_reward = np.cumsum(scores)\n",
        "c_indices = np.arange(len(c_reward))\n",
        "rolling_avg = c_reward / c_indices\n",
        "\n",
        "plt.figure(figsize=(6,6))\n",
        "plt.plot(x, rolling_avg)\n",
        "plt.title('Average reward [' + env_name + ']')\n",
        "plt.grid()\n",
        "save_fig(cumfigname)\n",
        "plt.show()"
      ]
    },
    {
      "cell_type": "code",
      "execution_count": 92,
      "metadata": {
        "id": "ByFXvH2Mu4CE",
        "colab": {
          "base_uri": "https://localhost:8080/",
          "height": 458
        },
        "outputId": "6d5143b2-8d28-4d74-b97f-1da31b4e598a"
      },
      "outputs": [
        {
          "output_type": "stream",
          "name": "stdout",
          "text": [
            "Saving figure bipedalwalker_v3_2022_11_18_16_31_17_eps_history.png\n"
          ]
        },
        {
          "output_type": "display_data",
          "data": {
            "text/plain": [
              "<Figure size 432x432 with 1 Axes>"
            ],
            "image/png": "[encoded data removed]"
          },
          "metadata": {
            "needs_background": "light"
          }
        }
      ],
      "source": [
        "plt.figure(figsize=(6,6))\n",
        "plt.plot(x, eps_history)\n",
        "plt.title('Epsilon history [' + env_name + ']')\n",
        "plt.grid()\n",
        "save_fig(epsfigname)\n",
        "plt.show()"
      ]
    },
    {
      "cell_type": "code",
      "source": [
        "plt.figure(figsize=(6,6))\n",
        "plt.plot(np.arange(len(distances)), distances)\n",
        "plt.title('Distances [' + env_name + ']')\n",
        "plt.grid()\n",
        "save_fig(distfigname)\n",
        "plt.show()"
      ],
      "metadata": {
        "colab": {
          "base_uri": "https://localhost:8080/",
          "height": 458
        },
        "id": "hs-oS5UrE8sQ",
        "outputId": "1e3cc5f3-a21d-4806-9ef0-7cfe7fd360b2"
      },
      "execution_count": 93,
      "outputs": [
        {
          "output_type": "stream",
          "name": "stdout",
          "text": [
            "Saving figure bipedalwalker_v3_2022_11_18_16_31_17_distances.png\n"
          ]
        },
        {
          "output_type": "display_data",
          "data": {
            "text/plain": [
              "<Figure size 432x432 with 1 Axes>"
            ],
            "image/png": "[encoded data removed]"
          },
          "metadata": {
            "needs_background": "light"
          }
        }
      ]
    },
    {
      "cell_type": "code",
      "source": [
        "c_distances = np.cumsum(distances)\n",
        "c_indices_distances = np.arange(len(c_distances))\n",
        "rolling_avg_distances = c_distances / c_indices_distances\n",
        "\n",
        "plt.figure(figsize=(6,6))\n",
        "plt.plot(x, rolling_avg_distances)\n",
        "plt.title('Mean distance [' + env_name + ']')\n",
        "plt.grid()\n",
        "save_fig(meandistfigname)\n",
        "plt.show()"
      ],
      "metadata": {
        "colab": {
          "base_uri": "https://localhost:8080/",
          "height": 458
        },
        "id": "a3NPuueUFRPI",
        "outputId": "496adb86-9c8c-4053-de13-fc3ed1608094"
      },
      "execution_count": 94,
      "outputs": [
        {
          "output_type": "stream",
          "name": "stdout",
          "text": [
            "Saving figure bipedalwalker_v3_2022_11_18_16_31_17_mean_distances.png\n"
          ]
        },
        {
          "output_type": "display_data",
          "data": {
            "text/plain": [
              "<Figure size 432x432 with 1 Axes>"
            ],
            "image/png": "[encoded data removed]"
          },
          "metadata": {
            "needs_background": "light"
          }
        }
      ]
    },
    {
      "cell_type": "markdown",
      "metadata": {
        "id": "aHnAgjMGu4CE"
      },
      "source": [
        "# Log"
      ]
    },
    {
      "cell_type": "code",
      "execution_count": 95,
      "metadata": {
        "id": "UU1BATVPu4CF",
        "colab": {
          "base_uri": "https://localhost:8080/"
        },
        "outputId": "a167a007-0bbe-4ef8-ec8e-ea1ac459f07e"
      },
      "outputs": [
        {
          "output_type": "stream",
          "name": "stdout",
          "text": [
            "Done logging results\n"
          ]
        }
      ],
      "source": [
        "dfname = datename + '_runlogs'\n",
        "df_path = 'logs/' + env_name_clean + '_' + dfname + '.csv'\n",
        "df_avg_path = 'logs/' + env_name_clean + '_' + dfname + '_avg.csv'\n",
        "df_dist_path = 'logs/' + env_name_clean + '_' + dfname + '_distances.csv'\n",
        "\n",
        "df = pd.DataFrame({'score': scores, 'Epsilon': eps_history})\n",
        "df_avg = pd.DataFrame({'avg_score': avg_scores})\n",
        "df_dist = pd.DataFrame({'distances': distances})\n",
        "\n",
        "df.to_csv(df_path, sep = ';', header = True, index = False)\n",
        "df_avg.to_csv(df_avg_path, sep = ';', header = True, index = False)\n",
        "df_dist.to_csv(df_dist_path, sep = ';', header = True, index = False)\n",
        "\n",
        "print(\"Done logging results\")"
      ]
    },
    {
      "cell_type": "markdown",
      "metadata": {
        "id": "76pGlcaiu4CH"
      },
      "source": [
        "# Eval"
      ]
    },
    {
      "cell_type": "code",
      "execution_count": 97,
      "metadata": {
        "id": "UTEKGkC6u4CI",
        "colab": {
          "base_uri": "https://localhost:8080/"
        },
        "outputId": "49839472-9ec4-47a2-f23d-364db32dc781"
      },
      "outputs": [
        {
          "output_type": "stream",
          "name": "stdout",
          "text": [
            "Starting competitive trials...\n",
            "epsilon 0.01\n"
          ]
        }
      ],
      "source": [
        "print('Starting competitive trials...')\n",
        "compscores = 0\n",
        "agent.load_models()\n",
        "print('epsilon', epsilon)"
      ]
    },
    {
      "cell_type": "code",
      "execution_count": 99,
      "metadata": {
        "id": "vjCoTRAtu4CI",
        "colab": {
          "base_uri": "https://localhost:8080/"
        },
        "outputId": "540d6b1f-5ced-4fad-cfff-323f3815292d"
      },
      "outputs": [
        {
          "output_type": "stream",
          "name": "stdout",
          "text": [
            "Competitive round  1  Overall score  -116.40246865483063\n",
            "Competitive round  2  Overall score  -232.80383083076651\n",
            "Competitive round  3  Overall score  -348.3497732047662\n",
            "Competitive round  4  Overall score  -464.7019889113512\n",
            "Competitive round  5  Overall score  -581.1347620029866\n"
          ]
        }
      ],
      "source": [
        "for i in range(n_rounds):\n",
        "    done = False\n",
        "    state = env.reset()\n",
        "    score = 0\n",
        "\n",
        "    while not done:\n",
        "        env.render()\n",
        "        \n",
        "        action = agent.act(state, epsilon)\n",
        "        \n",
        "        next_state, reward, done, info = env.step(action)\n",
        "\n",
        "        agent.memory.add(state, action, reward, next_state, done)\n",
        "        \n",
        "        state = next_state\n",
        "        score += reward\n",
        "    \n",
        "    compscores += score\n",
        "    print(\"Competitive round \", i + 1, \" Overall score \", compscores)"
      ]
    },
    {
      "cell_type": "markdown",
      "metadata": {
        "id": "Lzg3fZnYu4CI"
      },
      "source": [
        "# Score"
      ]
    },
    {
      "cell_type": "code",
      "execution_count": 100,
      "metadata": {
        "id": "kdr_4ZppOJs3"
      },
      "outputs": [],
      "source": [
        "with open(outfilename, \"w\") as f:\n",
        "    f.writelines(\"%s: %i\\n\" % (env_name_clean, compscores))"
      ]
    },
    {
      "cell_type": "code",
      "execution_count": 101,
      "metadata": {
        "id": "SqaiDFmKOJWg",
        "colab": {
          "base_uri": "https://localhost:8080/",
          "height": 17
        },
        "outputId": "f581e62f-1315-42a8-9c26-6a2e28ba33f4"
      },
      "outputs": [
        {
          "output_type": "display_data",
          "data": {
            "text/plain": [
              "<IPython.core.display.Javascript object>"
            ],
            "application/javascript": [
              "\n",
              "    async function download(id, filename, size) {\n",
              "      if (!google.colab.kernel.accessAllowed) {\n",
              "        return;\n",
              "      }\n",
              "      const div = document.createElement('div');\n",
              "      const label = document.createElement('label');\n",
              "      label.textContent = `Downloading \"${filename}\": `;\n",
              "      div.appendChild(label);\n",
              "      const progress = document.createElement('progress');\n",
              "      progress.max = size;\n",
              "      div.appendChild(progress);\n",
              "      document.body.appendChild(div);\n",
              "\n",
              "      const buffers = [];\n",
              "      let downloaded = 0;\n",
              "\n",
              "      const channel = await google.colab.kernel.comms.open(id);\n",
              "      // Send a message to notify the kernel that we're ready.\n",
              "      channel.send({})\n",
              "\n",
              "      for await (const message of channel.messages) {\n",
              "        // Send a message to notify the kernel that we're ready.\n",
              "        channel.send({})\n",
              "        if (message.buffers) {\n",
              "          for (const buffer of message.buffers) {\n",
              "            buffers.push(buffer);\n",
              "            downloaded += buffer.byteLength;\n",
              "            progress.value = downloaded;\n",
              "          }\n",
              "        }\n",
              "      }\n",
              "      const blob = new Blob(buffers, {type: 'application/binary'});\n",
              "      const a = document.createElement('a');\n",
              "      a.href = window.URL.createObjectURL(blob);\n",
              "      a.download = filename;\n",
              "      div.appendChild(a);\n",
              "      a.click();\n",
              "      div.remove();\n",
              "    }\n",
              "  "
            ]
          },
          "metadata": {}
        },
        {
          "output_type": "display_data",
          "data": {
            "text/plain": [
              "<IPython.core.display.Javascript object>"
            ],
            "application/javascript": [
              "download(\"download_2f51ffa4-0a64-41bf-822d-da5fef914bf7\", \"bipedalwalker_v3_dict9\", 3631608)"
            ]
          },
          "metadata": {}
        },
        {
          "output_type": "display_data",
          "data": {
            "text/plain": [
              "<IPython.core.display.Javascript object>"
            ],
            "application/javascript": [
              "\n",
              "    async function download(id, filename, size) {\n",
              "      if (!google.colab.kernel.accessAllowed) {\n",
              "        return;\n",
              "      }\n",
              "      const div = document.createElement('div');\n",
              "      const label = document.createElement('label');\n",
              "      label.textContent = `Downloading \"${filename}\": `;\n",
              "      div.appendChild(label);\n",
              "      const progress = document.createElement('progress');\n",
              "      progress.max = size;\n",
              "      div.appendChild(progress);\n",
              "      document.body.appendChild(div);\n",
              "\n",
              "      const buffers = [];\n",
              "      let downloaded = 0;\n",
              "\n",
              "      const channel = await google.colab.kernel.comms.open(id);\n",
              "      // Send a message to notify the kernel that we're ready.\n",
              "      channel.send({})\n",
              "\n",
              "      for await (const message of channel.messages) {\n",
              "        // Send a message to notify the kernel that we're ready.\n",
              "        channel.send({})\n",
              "        if (message.buffers) {\n",
              "          for (const buffer of message.buffers) {\n",
              "            buffers.push(buffer);\n",
              "            downloaded += buffer.byteLength;\n",
              "            progress.value = downloaded;\n",
              "          }\n",
              "        }\n",
              "      }\n",
              "      const blob = new Blob(buffers, {type: 'application/binary'});\n",
              "      const a = document.createElement('a');\n",
              "      a.href = window.URL.createObjectURL(blob);\n",
              "      a.download = filename;\n",
              "      div.appendChild(a);\n",
              "      a.click();\n",
              "      div.remove();\n",
              "    }\n",
              "  "
            ]
          },
          "metadata": {}
        },
        {
          "output_type": "display_data",
          "data": {
            "text/plain": [
              "<IPython.core.display.Javascript object>"
            ],
            "application/javascript": [
              "download(\"download_468ed7ff-e4f6-43d2-b29b-8ce771b703de\", \"bipedalwalker_v3scoreboard.txt\", 23)"
            ]
          },
          "metadata": {}
        },
        {
          "output_type": "display_data",
          "data": {
            "text/plain": [
              "<IPython.core.display.Javascript object>"
            ],
            "application/javascript": [
              "\n",
              "    async function download(id, filename, size) {\n",
              "      if (!google.colab.kernel.accessAllowed) {\n",
              "        return;\n",
              "      }\n",
              "      const div = document.createElement('div');\n",
              "      const label = document.createElement('label');\n",
              "      label.textContent = `Downloading \"${filename}\": `;\n",
              "      div.appendChild(label);\n",
              "      const progress = document.createElement('progress');\n",
              "      progress.max = size;\n",
              "      div.appendChild(progress);\n",
              "      document.body.appendChild(div);\n",
              "\n",
              "      const buffers = [];\n",
              "      let downloaded = 0;\n",
              "\n",
              "      const channel = await google.colab.kernel.comms.open(id);\n",
              "      // Send a message to notify the kernel that we're ready.\n",
              "      channel.send({})\n",
              "\n",
              "      for await (const message of channel.messages) {\n",
              "        // Send a message to notify the kernel that we're ready.\n",
              "        channel.send({})\n",
              "        if (message.buffers) {\n",
              "          for (const buffer of message.buffers) {\n",
              "            buffers.push(buffer);\n",
              "            downloaded += buffer.byteLength;\n",
              "            progress.value = downloaded;\n",
              "          }\n",
              "        }\n",
              "      }\n",
              "      const blob = new Blob(buffers, {type: 'application/binary'});\n",
              "      const a = document.createElement('a');\n",
              "      a.href = window.URL.createObjectURL(blob);\n",
              "      a.download = filename;\n",
              "      div.appendChild(a);\n",
              "      a.click();\n",
              "      div.remove();\n",
              "    }\n",
              "  "
            ]
          },
          "metadata": {}
        },
        {
          "output_type": "display_data",
          "data": {
            "text/plain": [
              "<IPython.core.display.Javascript object>"
            ],
            "application/javascript": [
              "download(\"download_c5e89cd7-75d2-41ec-844d-d4db2511d358\", \"bipedalwalker_v3_2022_11_18_16_31_17_runlogs.csv\", 32352)"
            ]
          },
          "metadata": {}
        },
        {
          "output_type": "display_data",
          "data": {
            "text/plain": [
              "<IPython.core.display.Javascript object>"
            ],
            "application/javascript": [
              "\n",
              "    async function download(id, filename, size) {\n",
              "      if (!google.colab.kernel.accessAllowed) {\n",
              "        return;\n",
              "      }\n",
              "      const div = document.createElement('div');\n",
              "      const label = document.createElement('label');\n",
              "      label.textContent = `Downloading \"${filename}\": `;\n",
              "      div.appendChild(label);\n",
              "      const progress = document.createElement('progress');\n",
              "      progress.max = size;\n",
              "      div.appendChild(progress);\n",
              "      document.body.appendChild(div);\n",
              "\n",
              "      const buffers = [];\n",
              "      let downloaded = 0;\n",
              "\n",
              "      const channel = await google.colab.kernel.comms.open(id);\n",
              "      // Send a message to notify the kernel that we're ready.\n",
              "      channel.send({})\n",
              "\n",
              "      for await (const message of channel.messages) {\n",
              "        // Send a message to notify the kernel that we're ready.\n",
              "        channel.send({})\n",
              "        if (message.buffers) {\n",
              "          for (const buffer of message.buffers) {\n",
              "            buffers.push(buffer);\n",
              "            downloaded += buffer.byteLength;\n",
              "            progress.value = downloaded;\n",
              "          }\n",
              "        }\n",
              "      }\n",
              "      const blob = new Blob(buffers, {type: 'application/binary'});\n",
              "      const a = document.createElement('a');\n",
              "      a.href = window.URL.createObjectURL(blob);\n",
              "      a.download = filename;\n",
              "      div.appendChild(a);\n",
              "      a.click();\n",
              "      div.remove();\n",
              "    }\n",
              "  "
            ]
          },
          "metadata": {}
        },
        {
          "output_type": "display_data",
          "data": {
            "text/plain": [
              "<IPython.core.display.Javascript object>"
            ],
            "application/javascript": [
              "download(\"download_e4736dd1-b9f4-481a-bf04-ac959d063c74\", \"bipedalwalker_v3_2022_11_18_16_31_17_runlogs_avg.csv\", 10)"
            ]
          },
          "metadata": {}
        },
        {
          "output_type": "display_data",
          "data": {
            "text/plain": [
              "<IPython.core.display.Javascript object>"
            ],
            "application/javascript": [
              "\n",
              "    async function download(id, filename, size) {\n",
              "      if (!google.colab.kernel.accessAllowed) {\n",
              "        return;\n",
              "      }\n",
              "      const div = document.createElement('div');\n",
              "      const label = document.createElement('label');\n",
              "      label.textContent = `Downloading \"${filename}\": `;\n",
              "      div.appendChild(label);\n",
              "      const progress = document.createElement('progress');\n",
              "      progress.max = size;\n",
              "      div.appendChild(progress);\n",
              "      document.body.appendChild(div);\n",
              "\n",
              "      const buffers = [];\n",
              "      let downloaded = 0;\n",
              "\n",
              "      const channel = await google.colab.kernel.comms.open(id);\n",
              "      // Send a message to notify the kernel that we're ready.\n",
              "      channel.send({})\n",
              "\n",
              "      for await (const message of channel.messages) {\n",
              "        // Send a message to notify the kernel that we're ready.\n",
              "        channel.send({})\n",
              "        if (message.buffers) {\n",
              "          for (const buffer of message.buffers) {\n",
              "            buffers.push(buffer);\n",
              "            downloaded += buffer.byteLength;\n",
              "            progress.value = downloaded;\n",
              "          }\n",
              "        }\n",
              "      }\n",
              "      const blob = new Blob(buffers, {type: 'application/binary'});\n",
              "      const a = document.createElement('a');\n",
              "      a.href = window.URL.createObjectURL(blob);\n",
              "      a.download = filename;\n",
              "      div.appendChild(a);\n",
              "      a.click();\n",
              "      div.remove();\n",
              "    }\n",
              "  "
            ]
          },
          "metadata": {}
        },
        {
          "output_type": "display_data",
          "data": {
            "text/plain": [
              "<IPython.core.display.Javascript object>"
            ],
            "application/javascript": [
              "download(\"download_07a691e3-cde7-4db0-9903-3bcf44f44d49\", \"bipedalwalker_v3_2022_11_18_16_31_17_runlogs_distances.csv\", 19628)"
            ]
          },
          "metadata": {}
        },
        {
          "output_type": "display_data",
          "data": {
            "text/plain": [
              "<IPython.core.display.Javascript object>"
            ],
            "application/javascript": [
              "\n",
              "    async function download(id, filename, size) {\n",
              "      if (!google.colab.kernel.accessAllowed) {\n",
              "        return;\n",
              "      }\n",
              "      const div = document.createElement('div');\n",
              "      const label = document.createElement('label');\n",
              "      label.textContent = `Downloading \"${filename}\": `;\n",
              "      div.appendChild(label);\n",
              "      const progress = document.createElement('progress');\n",
              "      progress.max = size;\n",
              "      div.appendChild(progress);\n",
              "      document.body.appendChild(div);\n",
              "\n",
              "      const buffers = [];\n",
              "      let downloaded = 0;\n",
              "\n",
              "      const channel = await google.colab.kernel.comms.open(id);\n",
              "      // Send a message to notify the kernel that we're ready.\n",
              "      channel.send({})\n",
              "\n",
              "      for await (const message of channel.messages) {\n",
              "        // Send a message to notify the kernel that we're ready.\n",
              "        channel.send({})\n",
              "        if (message.buffers) {\n",
              "          for (const buffer of message.buffers) {\n",
              "            buffers.push(buffer);\n",
              "            downloaded += buffer.byteLength;\n",
              "            progress.value = downloaded;\n",
              "          }\n",
              "        }\n",
              "      }\n",
              "      const blob = new Blob(buffers, {type: 'application/binary'});\n",
              "      const a = document.createElement('a');\n",
              "      a.href = window.URL.createObjectURL(blob);\n",
              "      a.download = filename;\n",
              "      div.appendChild(a);\n",
              "      a.click();\n",
              "      div.remove();\n",
              "    }\n",
              "  "
            ]
          },
          "metadata": {}
        },
        {
          "output_type": "display_data",
          "data": {
            "text/plain": [
              "<IPython.core.display.Javascript object>"
            ],
            "application/javascript": [
              "download(\"download_5acae66a-eaa0-4986-b348-2384016c896f\", \"bipedalwalker_v3_2022_11_18_16_31_17_scores.png\", 125789)"
            ]
          },
          "metadata": {}
        },
        {
          "output_type": "display_data",
          "data": {
            "text/plain": [
              "<IPython.core.display.Javascript object>"
            ],
            "application/javascript": [
              "\n",
              "    async function download(id, filename, size) {\n",
              "      if (!google.colab.kernel.accessAllowed) {\n",
              "        return;\n",
              "      }\n",
              "      const div = document.createElement('div');\n",
              "      const label = document.createElement('label');\n",
              "      label.textContent = `Downloading \"${filename}\": `;\n",
              "      div.appendChild(label);\n",
              "      const progress = document.createElement('progress');\n",
              "      progress.max = size;\n",
              "      div.appendChild(progress);\n",
              "      document.body.appendChild(div);\n",
              "\n",
              "      const buffers = [];\n",
              "      let downloaded = 0;\n",
              "\n",
              "      const channel = await google.colab.kernel.comms.open(id);\n",
              "      // Send a message to notify the kernel that we're ready.\n",
              "      channel.send({})\n",
              "\n",
              "      for await (const message of channel.messages) {\n",
              "        // Send a message to notify the kernel that we're ready.\n",
              "        channel.send({})\n",
              "        if (message.buffers) {\n",
              "          for (const buffer of message.buffers) {\n",
              "            buffers.push(buffer);\n",
              "            downloaded += buffer.byteLength;\n",
              "            progress.value = downloaded;\n",
              "          }\n",
              "        }\n",
              "      }\n",
              "      const blob = new Blob(buffers, {type: 'application/binary'});\n",
              "      const a = document.createElement('a');\n",
              "      a.href = window.URL.createObjectURL(blob);\n",
              "      a.download = filename;\n",
              "      div.appendChild(a);\n",
              "      a.click();\n",
              "      div.remove();\n",
              "    }\n",
              "  "
            ]
          },
          "metadata": {}
        },
        {
          "output_type": "display_data",
          "data": {
            "text/plain": [
              "<IPython.core.display.Javascript object>"
            ],
            "application/javascript": [
              "download(\"download_e51e028d-decf-45ac-bd11-55648f611b38\", \"bipedalwalker_v3_2022_11_18_16_31_17_eps_history.png\", 93213)"
            ]
          },
          "metadata": {}
        },
        {
          "output_type": "display_data",
          "data": {
            "text/plain": [
              "<IPython.core.display.Javascript object>"
            ],
            "application/javascript": [
              "\n",
              "    async function download(id, filename, size) {\n",
              "      if (!google.colab.kernel.accessAllowed) {\n",
              "        return;\n",
              "      }\n",
              "      const div = document.createElement('div');\n",
              "      const label = document.createElement('label');\n",
              "      label.textContent = `Downloading \"${filename}\": `;\n",
              "      div.appendChild(label);\n",
              "      const progress = document.createElement('progress');\n",
              "      progress.max = size;\n",
              "      div.appendChild(progress);\n",
              "      document.body.appendChild(div);\n",
              "\n",
              "      const buffers = [];\n",
              "      let downloaded = 0;\n",
              "\n",
              "      const channel = await google.colab.kernel.comms.open(id);\n",
              "      // Send a message to notify the kernel that we're ready.\n",
              "      channel.send({})\n",
              "\n",
              "      for await (const message of channel.messages) {\n",
              "        // Send a message to notify the kernel that we're ready.\n",
              "        channel.send({})\n",
              "        if (message.buffers) {\n",
              "          for (const buffer of message.buffers) {\n",
              "            buffers.push(buffer);\n",
              "            downloaded += buffer.byteLength;\n",
              "            progress.value = downloaded;\n",
              "          }\n",
              "        }\n",
              "      }\n",
              "      const blob = new Blob(buffers, {type: 'application/binary'});\n",
              "      const a = document.createElement('a');\n",
              "      a.href = window.URL.createObjectURL(blob);\n",
              "      a.download = filename;\n",
              "      div.appendChild(a);\n",
              "      a.click();\n",
              "      div.remove();\n",
              "    }\n",
              "  "
            ]
          },
          "metadata": {}
        },
        {
          "output_type": "display_data",
          "data": {
            "text/plain": [
              "<IPython.core.display.Javascript object>"
            ],
            "application/javascript": [
              "download(\"download_154de52b-c9da-40c0-a889-2adebbf53333\", \"bipedalwalker_v3_2022_11_18_16_31_17_cumulated_reward.png\", 72958)"
            ]
          },
          "metadata": {}
        },
        {
          "output_type": "display_data",
          "data": {
            "text/plain": [
              "<IPython.core.display.Javascript object>"
            ],
            "application/javascript": [
              "\n",
              "    async function download(id, filename, size) {\n",
              "      if (!google.colab.kernel.accessAllowed) {\n",
              "        return;\n",
              "      }\n",
              "      const div = document.createElement('div');\n",
              "      const label = document.createElement('label');\n",
              "      label.textContent = `Downloading \"${filename}\": `;\n",
              "      div.appendChild(label);\n",
              "      const progress = document.createElement('progress');\n",
              "      progress.max = size;\n",
              "      div.appendChild(progress);\n",
              "      document.body.appendChild(div);\n",
              "\n",
              "      const buffers = [];\n",
              "      let downloaded = 0;\n",
              "\n",
              "      const channel = await google.colab.kernel.comms.open(id);\n",
              "      // Send a message to notify the kernel that we're ready.\n",
              "      channel.send({})\n",
              "\n",
              "      for await (const message of channel.messages) {\n",
              "        // Send a message to notify the kernel that we're ready.\n",
              "        channel.send({})\n",
              "        if (message.buffers) {\n",
              "          for (const buffer of message.buffers) {\n",
              "            buffers.push(buffer);\n",
              "            downloaded += buffer.byteLength;\n",
              "            progress.value = downloaded;\n",
              "          }\n",
              "        }\n",
              "      }\n",
              "      const blob = new Blob(buffers, {type: 'application/binary'});\n",
              "      const a = document.createElement('a');\n",
              "      a.href = window.URL.createObjectURL(blob);\n",
              "      a.download = filename;\n",
              "      div.appendChild(a);\n",
              "      a.click();\n",
              "      div.remove();\n",
              "    }\n",
              "  "
            ]
          },
          "metadata": {}
        },
        {
          "output_type": "display_data",
          "data": {
            "text/plain": [
              "<IPython.core.display.Javascript object>"
            ],
            "application/javascript": [
              "download(\"download_854b79dc-2d4a-49e8-9d09-0c0c9fed4e6c\", \"bipedalwalker_v3_2022_11_18_16_31_17_distances.png\", 136270)"
            ]
          },
          "metadata": {}
        },
        {
          "output_type": "display_data",
          "data": {
            "text/plain": [
              "<IPython.core.display.Javascript object>"
            ],
            "application/javascript": [
              "\n",
              "    async function download(id, filename, size) {\n",
              "      if (!google.colab.kernel.accessAllowed) {\n",
              "        return;\n",
              "      }\n",
              "      const div = document.createElement('div');\n",
              "      const label = document.createElement('label');\n",
              "      label.textContent = `Downloading \"${filename}\": `;\n",
              "      div.appendChild(label);\n",
              "      const progress = document.createElement('progress');\n",
              "      progress.max = size;\n",
              "      div.appendChild(progress);\n",
              "      document.body.appendChild(div);\n",
              "\n",
              "      const buffers = [];\n",
              "      let downloaded = 0;\n",
              "\n",
              "      const channel = await google.colab.kernel.comms.open(id);\n",
              "      // Send a message to notify the kernel that we're ready.\n",
              "      channel.send({})\n",
              "\n",
              "      for await (const message of channel.messages) {\n",
              "        // Send a message to notify the kernel that we're ready.\n",
              "        channel.send({})\n",
              "        if (message.buffers) {\n",
              "          for (const buffer of message.buffers) {\n",
              "            buffers.push(buffer);\n",
              "            downloaded += buffer.byteLength;\n",
              "            progress.value = downloaded;\n",
              "          }\n",
              "        }\n",
              "      }\n",
              "      const blob = new Blob(buffers, {type: 'application/binary'});\n",
              "      const a = document.createElement('a');\n",
              "      a.href = window.URL.createObjectURL(blob);\n",
              "      a.download = filename;\n",
              "      div.appendChild(a);\n",
              "      a.click();\n",
              "      div.remove();\n",
              "    }\n",
              "  "
            ]
          },
          "metadata": {}
        },
        {
          "output_type": "display_data",
          "data": {
            "text/plain": [
              "<IPython.core.display.Javascript object>"
            ],
            "application/javascript": [
              "download(\"download_c47de879-51b4-4b17-92df-3423dd285252\", \"bipedalwalker_v3_2022_11_18_16_31_17_mean_distances.png\", 97912)"
            ]
          },
          "metadata": {}
        }
      ],
      "source": [
        "if(mode == 'colab'):\n",
        "    from google.colab import files\n",
        "    files.download(model_file)\n",
        "    files.download(outfilename)\n",
        "    files.download(df_path)\n",
        "    files.download(df_avg_path)\n",
        "    files.download(df_dist_path)\n",
        "    files.download('images/' + scorefigname)\n",
        "    files.download('images/' + epsfigname)\n",
        "    files.download('images/' + cumfigname)\n",
        "    files.download('images/' + distfigname)\n",
        "    files.download('images/' + meandistfigname)"
      ]
    }
  ],
  "metadata": {
    "accelerator": "GPU",
    "colab": {
      "provenance": [],
      "toc_visible": true
    },
    "gpuClass": "premium",
    "kernelspec": {
      "display_name": "Python 3",
      "language": "python",
      "name": "python3"
    },
    "language_info": {
      "codemirror_mode": {
        "name": "ipython",
        "version": 3
      },
      "file_extension": ".py",
      "mimetype": "text/x-python",
      "name": "python",
      "nbconvert_exporter": "python",
      "pygments_lexer": "ipython3",
      "version": "3.6.4"
    }
  },
  "nbformat": 4,
  "nbformat_minor": 0
}