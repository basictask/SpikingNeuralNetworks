{
  "cells": [
    {
      "cell_type": "markdown",
      "metadata": {
        "id": "l8Pk2GDiu4Bb"
      },
      "source": [
        "# Directories"
      ]
    },
    {
      "cell_type": "code",
      "execution_count": 2,
      "metadata": {
        "colab": {
          "base_uri": "https://localhost:8080/"
        },
        "id": "9EyOhCiEu4Bk",
        "outputId": "7767f873-c511-42eb-db4c-f308e1c339bb"
      },
      "outputs": [
        {
          "output_type": "stream",
          "name": "stdout",
          "text": [
            "Looking in indexes: https://pypi.org/simple, https://us-python.pkg.dev/colab-wheels/public/simple/\n",
            "Collecting snntorch\n",
            "  Downloading snntorch-0.5.3-py2.py3-none-any.whl (95 kB)\n",
            "\u001b[K     |████████████████████████████████| 95 kB 4.1 MB/s \n",
            "\u001b[?25hRequirement already satisfied: pandas in /usr/local/lib/python3.7/dist-packages (from snntorch) (1.3.5)\n",
            "Requirement already satisfied: torch>=1.1.0 in /usr/local/lib/python3.7/dist-packages (from snntorch) (1.12.1+cu113)\n",
            "Requirement already satisfied: numpy>=1.17 in /usr/local/lib/python3.7/dist-packages (from snntorch) (1.21.6)\n",
            "Requirement already satisfied: matplotlib in /usr/local/lib/python3.7/dist-packages (from snntorch) (3.2.2)\n",
            "Requirement already satisfied: typing-extensions in /usr/local/lib/python3.7/dist-packages (from torch>=1.1.0->snntorch) (4.1.1)\n",
            "Requirement already satisfied: pyparsing!=2.0.4,!=2.1.2,!=2.1.6,>=2.0.1 in /usr/local/lib/python3.7/dist-packages (from matplotlib->snntorch) (3.0.9)\n",
            "Requirement already satisfied: kiwisolver>=1.0.1 in /usr/local/lib/python3.7/dist-packages (from matplotlib->snntorch) (1.4.4)\n",
            "Requirement already satisfied: python-dateutil>=2.1 in /usr/local/lib/python3.7/dist-packages (from matplotlib->snntorch) (2.8.2)\n",
            "Requirement already satisfied: cycler>=0.10 in /usr/local/lib/python3.7/dist-packages (from matplotlib->snntorch) (0.11.0)\n",
            "Requirement already satisfied: six>=1.5 in /usr/local/lib/python3.7/dist-packages (from python-dateutil>=2.1->matplotlib->snntorch) (1.15.0)\n",
            "Requirement already satisfied: pytz>=2017.3 in /usr/local/lib/python3.7/dist-packages (from pandas->snntorch) (2022.6)\n",
            "Installing collected packages: snntorch\n",
            "Successfully installed snntorch-0.5.3\n",
            "Looking in indexes: https://pypi.org/simple, https://us-python.pkg.dev/colab-wheels/public/simple/\n",
            "Requirement already satisfied: torch in /usr/local/lib/python3.7/dist-packages (1.12.1+cu113)\n",
            "Requirement already satisfied: typing-extensions in /usr/local/lib/python3.7/dist-packages (from torch) (4.1.1)\n",
            "Looking in indexes: https://pypi.org/simple, https://us-python.pkg.dev/colab-wheels/public/simple/\n",
            "Requirement already satisfied: gym in /usr/local/lib/python3.7/dist-packages (0.25.2)\n",
            "Requirement already satisfied: numpy>=1.18.0 in /usr/local/lib/python3.7/dist-packages (from gym) (1.21.6)\n",
            "Requirement already satisfied: gym-notices>=0.0.4 in /usr/local/lib/python3.7/dist-packages (from gym) (0.0.8)\n",
            "Requirement already satisfied: cloudpickle>=1.2.0 in /usr/local/lib/python3.7/dist-packages (from gym) (1.5.0)\n",
            "Requirement already satisfied: importlib-metadata>=4.8.0 in /usr/local/lib/python3.7/dist-packages (from gym) (4.13.0)\n",
            "Requirement already satisfied: zipp>=0.5 in /usr/local/lib/python3.7/dist-packages (from importlib-metadata>=4.8.0->gym) (3.10.0)\n",
            "Requirement already satisfied: typing-extensions>=3.6.4 in /usr/local/lib/python3.7/dist-packages (from importlib-metadata>=4.8.0->gym) (4.1.1)\n",
            "Looking in indexes: https://pypi.org/simple, https://us-python.pkg.dev/colab-wheels/public/simple/\n",
            "Requirement already satisfied: gym[box2d] in /usr/local/lib/python3.7/dist-packages (0.25.2)\n",
            "Requirement already satisfied: numpy>=1.18.0 in /usr/local/lib/python3.7/dist-packages (from gym[box2d]) (1.21.6)\n",
            "Requirement already satisfied: gym-notices>=0.0.4 in /usr/local/lib/python3.7/dist-packages (from gym[box2d]) (0.0.8)\n",
            "Requirement already satisfied: importlib-metadata>=4.8.0 in /usr/local/lib/python3.7/dist-packages (from gym[box2d]) (4.13.0)\n",
            "Requirement already satisfied: cloudpickle>=1.2.0 in /usr/local/lib/python3.7/dist-packages (from gym[box2d]) (1.5.0)\n",
            "Collecting box2d-py==2.3.5\n",
            "  Downloading box2d_py-2.3.5-cp37-cp37m-manylinux1_x86_64.whl (2.1 MB)\n",
            "\u001b[K     |████████████████████████████████| 2.1 MB 28.5 MB/s \n",
            "\u001b[?25hCollecting pygame==2.1.0\n",
            "  Downloading pygame-2.1.0-cp37-cp37m-manylinux_2_17_x86_64.manylinux2014_x86_64.whl (18.3 MB)\n",
            "\u001b[K     |████████████████████████████████| 18.3 MB 149 kB/s \n",
            "\u001b[?25hCollecting swig==4.*\n",
            "  Downloading swig-4.1.0-py2.py3-none-manylinux_2_5_x86_64.manylinux1_x86_64.whl (1.8 MB)\n",
            "\u001b[K     |████████████████████████████████| 1.8 MB 52.9 MB/s \n",
            "\u001b[?25hRequirement already satisfied: typing-extensions>=3.6.4 in /usr/local/lib/python3.7/dist-packages (from importlib-metadata>=4.8.0->gym[box2d]) (4.1.1)\n",
            "Requirement already satisfied: zipp>=0.5 in /usr/local/lib/python3.7/dist-packages (from importlib-metadata>=4.8.0->gym[box2d]) (3.10.0)\n",
            "Installing collected packages: swig, pygame, box2d-py\n",
            "Successfully installed box2d-py-2.3.5 pygame-2.1.0 swig-4.1.0\n"
          ]
        }
      ],
      "source": [
        "import os\n",
        "mode = -1\n",
        "try:\n",
        "    os.getlogin() # This will return an exception if ran in Google colab\n",
        "    mode = 'local'\n",
        "except:\n",
        "    # Install necessary files and create necessary folders (Only when ran in Google Drive)\n",
        "    !pip install snntorch\n",
        "    !pip install torch\n",
        "    !pip install gym\n",
        "    !pip install gym[box2d]\n",
        "    !mkdir tmp\n",
        "    !mkdir logs\n",
        "    #from google.colab import drive\n",
        "    #drive.mount('/content/drive')\n",
        "    #!cp \"/content/drive/MyDrive/Colab Notebooks/dict9 LIF\" \"/content/tmp/\"\n",
        "    mode = 'colab'"
      ]
    },
    {
      "cell_type": "markdown",
      "metadata": {
        "id": "hv0oAX5su4Bp"
      },
      "source": [
        "# Imports"
      ]
    },
    {
      "cell_type": "code",
      "execution_count": 3,
      "metadata": {
        "id": "YaOc25LDu4Br"
      },
      "outputs": [],
      "source": [
        "import gym\n",
        "import time\n",
        "import numpy as np\n",
        "import pandas as pd\n",
        "import pickle\n",
        "import random\n",
        "from datetime import datetime\n",
        "from collections import deque, namedtuple\n",
        "import matplotlib.pyplot as plt\n",
        "\n",
        "import torch\n",
        "import torch.nn as nn\n",
        "import torch.nn.functional as F\n",
        "import snntorch as snn\n",
        "from snntorch import spikegen\n",
        "from snntorch import surrogate\n",
        "\n",
        "import warnings\n",
        "warnings.filterwarnings('ignore')"
      ]
    },
    {
      "cell_type": "code",
      "execution_count": 4,
      "metadata": {
        "id": "1W8CBfWbvZM8"
      },
      "outputs": [],
      "source": [
        "# A small method to save plots\n",
        "PROJECT_ROOT_DIR = \".\"\n",
        "IMAGES_PATH = os.path.join(PROJECT_ROOT_DIR, \"images\")\n",
        "os.makedirs(IMAGES_PATH, exist_ok=True)\n",
        "\n",
        "def save_fig(fig_id, tight_layout=True, resolution=300):\n",
        "    path = os.path.join(IMAGES_PATH, fig_id)\n",
        "    print(\"Saving figure\", fig_id)\n",
        "    if tight_layout:\n",
        "        plt.tight_layout()\n",
        "    plt.savefig(path, format='png', dpi=resolution)"
      ]
    },
    {
      "cell_type": "markdown",
      "metadata": {
        "id": "DtnGruUvu4Bv"
      },
      "source": [
        "# Parameters ###"
      ]
    },
    {
      "cell_type": "code",
      "execution_count": 5,
      "metadata": {
        "id": "uSJzX05Vu4B1"
      },
      "outputs": [],
      "source": [
        "lr = 5e-4               # Learning rate\n",
        "epsilon = 0.3\n",
        "epsilon_end = 0.001\n",
        "epsilon_decay = 0.993\n",
        "gamma = 0.99\n",
        "batch_size = 64\n",
        "mean_every = 2\n",
        "update_every = 4\n",
        "tau = 1e-3\n",
        "gauss_per_dim = 64\n",
        "n_games = 1000          # Number of games to train for\n",
        "n_rounds = 5            # Number of competitive rounds to play"
      ]
    },
    {
      "cell_type": "code",
      "execution_count": 6,
      "metadata": {
        "id": "rAqS6F-Yu4By",
        "colab": {
          "base_uri": "https://localhost:8080/"
        },
        "outputId": "5a2116ad-3d40-418b-aa0c-cd5a45d7f650"
      },
      "outputs": [
        {
          "output_type": "stream",
          "name": "stdout",
          "text": [
            "Env name (clean): bipedalwalker_v3\n",
            "Datetime (clean): 2022_11_23_09_49_07\n",
            "Output file: bipedalwalker_v3scoreboard.txt\n",
            "Model file: ./tmp/bipedalwalker_v3_dict9\n",
            "Running training on:  cpu\n",
            "Environment: colab\n"
          ]
        }
      ],
      "source": [
        "env_name = 'BipedalWalker-v3'\n",
        "env_name_clean = env_name.lower().replace('-','_')\n",
        "filename = env_name_clean + \".png\"\n",
        "outfilename = env_name_clean + \"scoreboard.txt\"\n",
        "datename = str(datetime.now()).split('.')[0].replace(' ', '_').replace('-', '_').replace(':', '_') \n",
        "scorefigname = env_name_clean + '_' + datename + '_scores.png'\n",
        "epsfigname = env_name_clean + '_' + datename + '_eps_history.png'\n",
        "cumfigname = env_name_clean + '_' + datename + '_cumulated_reward.png'\n",
        "distfigname = env_name_clean + '_' + datename + '_distances.png'\n",
        "meandistfigname = env_name_clean + '_' + datename + '_mean_distances.png'\n",
        "model_file = './tmp/'  + env_name_clean + '_dict9'\n",
        "model_file_target = model_file + '_target'\n",
        "device = torch.device('cuda' if torch.cuda.is_available() else 'cpu')\n",
        "\n",
        "print('Env name (clean):',env_name_clean)\n",
        "print('Datetime (clean):', datename)\n",
        "print('Output file:', outfilename)\n",
        "print('Model file:', model_file)\n",
        "print('Running training on: ', device)\n",
        "print('Environment:', mode)"
      ]
    },
    {
      "cell_type": "markdown",
      "metadata": {
        "id": "wU6d2CLFu4B3"
      },
      "source": [
        "# Classes"
      ]
    },
    {
      "cell_type": "markdown",
      "source": [
        "## Net"
      ],
      "metadata": {
        "id": "dlbfSeXDSIiJ"
      }
    },
    {
      "cell_type": "code",
      "execution_count": 7,
      "metadata": {
        "id": "jdQHnqisgu4v"
      },
      "outputs": [],
      "source": [
        "class Net(nn.Module):\n",
        "    def __init__(self, num_inputs, num_hidden, num_outputs, beta=0.95):\n",
        "        super(Net, self).__init__()\n",
        "\n",
        "        # Initialize grad objects        \n",
        "        spike_grad1 = surrogate.fast_sigmoid()\n",
        "        spike_grad2 = surrogate.fast_sigmoid()\n",
        "        spike_grad3 = surrogate.fast_sigmoid()\n",
        "        spike_grad4 = surrogate.fast_sigmoid()\n",
        "\n",
        "        # Initialize layers\n",
        "        self.fc1 = nn.Linear(num_inputs, 164)\n",
        "        self.lif1 = snn.Leaky(beta=beta, learn_threshold=False, spike_grad=spike_grad1)\n",
        "        \n",
        "        self.fc2 = nn.Linear(164, 120)\n",
        "        self.lif2 = snn.Leaky(beta=beta, learn_threshold=False, spike_grad=spike_grad2)\n",
        "\n",
        "        self.fc3 = nn.Linear(120, 64)\n",
        "        self.lif3 = snn.Leaky(beta=beta, learn_threshold=False, spike_grad=spike_grad3)\n",
        "\n",
        "        self.fc4 = nn.Linear(64, num_outputs)\n",
        "        self.lif4 = snn.Leaky(beta=beta, learn_beta=True, threshold=1e5, reset_mechanism=\"none\", spike_grad=spike_grad4)\n",
        "\n",
        "    def _convert_to_spikes(self, data):\n",
        "        return snn.spikegen.delta(data, threshold=0.1, padding=False, off_spike=True)\n",
        "\n",
        "    def createGauss(self, mins, maxes, numPerDim, amplMax, dims):\n",
        "        self.amplMax = amplMax\n",
        "        self.numPerDim = numPerDim\n",
        "        self.M = []\n",
        "        self.sigma = []\n",
        "        for i in range(dims):\n",
        "            M, sigma = np.linspace(mins[i], maxes[i], numPerDim, retstep=True)\n",
        "            self.M.append(M)\n",
        "            self.sigma += [sigma, ] * self.numPerDim\n",
        "        self.M = torch.tensor(np.array(self.M).reshape(-1, self.numPerDim), dtype=torch.float).to(device)\n",
        "        self.sigma = torch.tensor(np.array(self.sigma).reshape(-1, self.numPerDim), dtype=torch.float).to(device)\n",
        "\n",
        "    def gaussianCurrents(self, data):\n",
        "        x = data.unsqueeze(-1).repeat([1, 1, self.numPerDim])\n",
        "        return (torch.exp(-1 / 2 * ((x - self.M) / self.sigma) ** 2) * self.amplMax).reshape(data.shape[0], -1)\n",
        "\n",
        "    def forward(self, x, num_steps=16):\n",
        "        x = self.gaussianCurrents(x)\n",
        "        mem1 = self.lif1.init_leaky()\n",
        "        mem2 = self.lif2.init_leaky()\n",
        "        mem3 = self.lif3.init_leaky()\n",
        "        mem4 = self.lif4.init_leaky()\n",
        "\n",
        "        # Record the final layer#\n",
        "        spk1_rec = []\n",
        "        mem1_rec = []\n",
        "        \n",
        "        spk2_rec = []\n",
        "        mem2_rec = []\n",
        "        \n",
        "        spk3_rec = []\n",
        "        mem3_rec = []        \n",
        "\n",
        "        spk4_rec = []\n",
        "        mem4_rec = []  \n",
        "\n",
        "        for step in range(num_steps):\n",
        "            cur1 = self.fc1(x)\n",
        "            spk1, mem1 = self.lif1(cur1, mem1)\n",
        "            \n",
        "            cur2 = self.fc2(spk1)\n",
        "            spk2, mem2 = self.lif2(cur2, mem2)\n",
        "            \n",
        "            cur3 = self.fc3(spk2)\n",
        "            spk3, mem3 = self.lif3(cur3, mem3)\n",
        "\n",
        "            cur4 = self.fc4(spk3)\n",
        "            spk4, mem4 = self.lif4(cur4, mem4)\n",
        "\n",
        "            spk1_rec.append(spk1)\n",
        "            mem1_rec.append(mem1)\n",
        "            \n",
        "            spk2_rec.append(spk2)\n",
        "            mem2_rec.append(mem2)\n",
        "            \n",
        "            spk3_rec.append(spk3)\n",
        "            mem3_rec.append(mem3)\n",
        "            \n",
        "            spk4_rec.append(spk4)\n",
        "            mem4_rec.append(mem4)\n",
        "\n",
        "        return torch.stack(spk4_rec, dim=0), torch.stack(mem4_rec, dim=0)"
      ]
    },
    {
      "cell_type": "markdown",
      "source": [
        "## ReplayBuffer"
      ],
      "metadata": {
        "id": "eywnQwfISDqe"
      }
    },
    {
      "cell_type": "code",
      "source": [
        "class ReplayBuffer:\n",
        "    def __init__(self, action_size, buffer_size, batch_size, seed=42):\n",
        "        self.action_size = action_size\n",
        "        self.memory = deque(maxlen=buffer_size)\n",
        "        self.batch_size = batch_size\n",
        "        self.experience = namedtuple(\"Experience\", field_names=[\"state\", \"action\", \"reward\", \"next_state\", \"done\"])\n",
        "        self.seed = random.seed(seed)\n",
        "\n",
        "    def add(self, state, action, reward, next_state, done):\n",
        "        e = self.experience(state, action, reward, next_state, done)\n",
        "        self.memory.append(e)\n",
        "\n",
        "    def sample(self):\n",
        "        experiences = random.sample(self.memory, k=self.batch_size)\n",
        "        states = torch.from_numpy(np.vstack([e.state for e in experiences if e is not None])).float().to(device)\n",
        "        actions = torch.from_numpy(np.vstack([e.action for e in experiences if e is not None])).long().to(device)\n",
        "        rewards = torch.from_numpy(np.vstack([e.reward for e in experiences if e is not None])).float().to(device)\n",
        "        next_states = torch.from_numpy(np.vstack([e.next_state for e in experiences if e is not None])).float().to(device)\n",
        "        dones = torch.from_numpy(np.vstack([e.done for e in experiences if e is not None]).astype(np.uint8)).float().to(device)\n",
        "        return (states, actions, rewards, next_states, dones)\n",
        "\n",
        "    def __len__(self):\n",
        "        return len(self.memory)"
      ],
      "metadata": {
        "id": "izTUGxP5QsoG"
      },
      "execution_count": 8,
      "outputs": []
    },
    {
      "cell_type": "markdown",
      "source": [
        "## Agent"
      ],
      "metadata": {
        "id": "W4KED1jNSLIR"
      }
    },
    {
      "cell_type": "code",
      "execution_count": 9,
      "metadata": {
        "id": "-QRt0zUKgmQB"
      },
      "outputs": [],
      "source": [
        "class Agent():\n",
        "    def __init__(self, state_size, action_size, seed, buffer_size, batch_size, gamma, tau, learning_rate, update_every, low, high, gaussPerDim, model_file):\n",
        "        # Params\n",
        "        self.batch_size = batch_size\n",
        "        self.gamma = gamma\n",
        "        self.state_size = state_size\n",
        "        self.n_actions = 3 ** action_size\n",
        "        self.tau = tau\n",
        "        self.update_every = update_every\n",
        "        self.seed = random.seed(seed)\n",
        "        self.model_file = model_file\n",
        "        self.low = low\n",
        "        self.high = high\n",
        "        self.dtype = torch.float\n",
        "        self.device = torch.device('cuda' if torch.cuda.is_available() else 'cpu')\n",
        "        self.mem_size = 1000000\n",
        "        self.gaussPerDim = gaussPerDim\n",
        "\n",
        "        num_inputs = state_size * gaussPerDim\n",
        "        num_hidden = -1 # This param is not used currently\n",
        "        num_outputs = 3 ** action_size\n",
        "\n",
        "        # Q-Network\n",
        "        ## Local\n",
        "        self.qnetwork_local = Net(num_inputs=num_inputs, num_hidden=num_hidden, num_outputs=num_outputs).to(device)\n",
        "        self.qnetwork_local.createGauss(self.low, self.high, gaussPerDim, 1.0, state_size)\n",
        "        \n",
        "        ## Target\n",
        "        self.qnetwork_target = Net(num_inputs=num_inputs, num_hidden=num_hidden, num_outputs=num_outputs).to(device)\n",
        "        self.qnetwork_target.createGauss(self.low, self.high, gaussPerDim, 1.0, state_size)\n",
        "        \n",
        "        self.optimizer = torch.optim.Adam(self.qnetwork_local.parameters(), lr=learning_rate, betas=(0.9, 0.999))\n",
        "\n",
        "        # Replay memory\n",
        "        self.memory = ReplayBuffer(action_size, buffer_size, batch_size, seed)\n",
        "        \n",
        "        # Initialize time step (for updating every UPDATE_EVERY steps)\n",
        "        self.t_step = 0\n",
        "\n",
        "    def get_action(self, action_idx):\n",
        "        # The action picker divides the predicted action index into 4 parts and uses them as angle values for predictions\n",
        "        action = []\n",
        "        \n",
        "        # Joint 1\n",
        "        output = int(action_idx / 27) - 1\n",
        "        rest = action_idx - 27 * int(action_idx / 27)\n",
        "        action.append(output)\n",
        "        \n",
        "        # Joint 2\n",
        "        output = int(rest / 9) - 1\n",
        "        rest = rest - 9 * int(rest / 9)\n",
        "        action.append(output)\n",
        "        \n",
        "        # Joint 3\n",
        "        output = int(rest / 3) - 1\n",
        "        rest = rest - 3 * int(rest / 3)\n",
        "        action.append(output)\n",
        "        \n",
        "        # Joint 4\n",
        "        action.append(rest - 1)\n",
        "\n",
        "        return action\n",
        "\n",
        "    def act(self, state, eps): # Choose action based on state\n",
        "        state = state[np.newaxis, :]\n",
        "        with torch.no_grad():\n",
        "            self.qnetwork_local.eval()\n",
        "            spikes, actions = self.qnetwork_local(torch.tensor(state, dtype=self.dtype).to(self.device))\n",
        "            actions = actions.cpu()[-1, 0, :].detach().numpy()\n",
        "        self.qnetwork_local.train()\n",
        "\n",
        "        # Epsilon-greedy action selection\n",
        "        if random.random() > eps:\n",
        "            action_idx = np.argmax(actions)\n",
        "        else:\n",
        "            action_idx = int(random.randrange(self.n_actions))\n",
        "        return self.get_action(action_idx)\n",
        "\n",
        "    def step(self, state, action, reward, next_state, done):\n",
        "        # Save experience in replay memory\n",
        "        self.memory.add(state, action, reward, next_state, done)\n",
        "\n",
        "        # Learn every UPDATE_EVERY time steps.\n",
        "        self.t_step = (self.t_step + 1) % self.update_every\n",
        "        if self.t_step == 0:\n",
        "            \n",
        "            # If enough samples are available in memory, get random subset and learn\n",
        "            if len(self.memory) > self.batch_size:\n",
        "                experiences = self.memory.sample()\n",
        "                return self.learn(experiences, self.gamma)\n",
        "        return None\n",
        "\n",
        "    def learn(self, experiences, gamma):\n",
        "        states, actions, rewards, next_states, dones = experiences\n",
        "\n",
        "        # Get max predicted Q values (for next states) from target model\n",
        "        spikes, Q_targets_next = self.qnetwork_target(next_states)\n",
        "        \n",
        "        # Compute Q targets for current states \n",
        "        Q_targets = rewards + (gamma * Q_targets_next * (1 - dones))\n",
        "\n",
        "        # Get expected Q values from local model\n",
        "        spikes, Q_expected = self.qnetwork_local(states)#.gather(1, actions)\n",
        "\n",
        "        # Compute loss\n",
        "        loss = F.mse_loss(Q_expected, Q_targets)\n",
        "        \n",
        "        # Minimize the loss\n",
        "        self.optimizer.zero_grad()\n",
        "        loss.backward()\n",
        "        self.optimizer.step()\n",
        "\n",
        "        # Update target network\n",
        "        self.soft_update(self.qnetwork_local, self.qnetwork_target, self.tau)\n",
        "        return loss.cpu().data.numpy()\n",
        "\n",
        "    def soft_update(self, local_model, target_model, tau):\n",
        "        # Update the target model parameters based on tau (soft update learning rate)\n",
        "        for target_param, local_param in zip(target_model.parameters(), local_model.parameters()):\n",
        "            target_param.data.copy_(tau*local_param.data + (1.0-tau)*target_param.data)\n",
        "\n",
        "    def save_models(self):\n",
        "        torch.save(self.qnetwork_local.state_dict(), self.model_file)\n",
        "    \n",
        "    def load_models(self):\n",
        "        self.qnetwork_local.load_state_dict(torch.load(self.model_file, map_location=torch.device('cpu')))\n",
        "        self.qnetwork_local.eval()"
      ]
    },
    {
      "cell_type": "markdown",
      "metadata": {
        "id": "dEA3d-s3u4B8"
      },
      "source": [
        "# Setup"
      ]
    },
    {
      "cell_type": "code",
      "execution_count": 10,
      "metadata": {
        "id": "2kHOTP8yu4B8",
        "colab": {
          "base_uri": "https://localhost:8080/"
        },
        "outputId": "dfc572e8-2e1f-46f6-dae8-001b196a15d0"
      },
      "outputs": [
        {
          "output_type": "stream",
          "name": "stdout",
          "text": [
            "gymtype: box\n",
            "input dims: 24\n",
            "action size: 4\n",
            "lif1 beta: tensor(0.9500)\n",
            "lif2 beta: tensor(0.9500)\n",
            "lif3 beta: tensor(0.9500)\n",
            "Action space: Box(-1.0, 1.0, (4,), float32)\n",
            "Observation space: Box([-3.1415927 -5.        -5.        -5.        -3.1415927 -5.\n",
            " -3.1415927 -5.        -0.        -3.1415927 -5.        -3.1415927\n",
            " -5.        -0.        -1.        -1.        -1.        -1.\n",
            " -1.        -1.        -1.        -1.        -1.        -1.       ], [3.1415927 5.        5.        5.        3.1415927 5.        3.1415927\n",
            " 5.        5.        3.1415927 5.        3.1415927 5.        5.\n",
            " 1.        1.        1.        1.        1.        1.        1.\n",
            " 1.        1.        1.       ], (24,), float32)\n"
          ]
        }
      ],
      "source": [
        "stime = time.time()\n",
        "env = gym.make(env_name, render_mode='rgb_array')\n",
        "\n",
        "n_actions = -1\n",
        "gymtype = -1\n",
        "if(type(env.action_space) == gym.spaces.box.Box):    \n",
        "    n_actions = int(env.action_space.shape[0])\n",
        "    gymtype = 'box'\n",
        "else:\n",
        "    n_actions = int(env.action_space.n)\n",
        "    gymtype = 'disc'\n",
        "\n",
        "n_input_dims = int(env.observation_space.shape[0]) # If the state space is not an 1-D vector then we need to change this\n",
        "\n",
        "agent = Agent(state_size=n_input_dims, \n",
        "              action_size=n_actions, \n",
        "              seed=420, \n",
        "              buffer_size=int(1e5), \n",
        "              batch_size=batch_size, \n",
        "              gamma=gamma, \n",
        "              tau=tau, \n",
        "              learning_rate=lr, \n",
        "              update_every=update_every, \n",
        "              low=env.observation_space.low, \n",
        "              high=env.observation_space.high, \n",
        "              gaussPerDim = gauss_per_dim, \n",
        "              model_file=model_file)\n",
        "\n",
        "scores = [] # Logged every episode\n",
        "eps_history = [] # Logged every episode\n",
        "avg_scores = [] # Logged every 10 episodes\n",
        "\n",
        "if(os.path.exists(model_file)):\n",
        "    try: \n",
        "        agent.load_models()\n",
        "    except:\n",
        "        !rm -rf model_file\n",
        "        agent.save_models()\n",
        "else:\n",
        "    agent.save_models()\n",
        "\n",
        "state = agent.qnetwork_local.state_dict()\n",
        "state[\"lif1.beta\"] = torch.tensor(0.95,dtype=torch.float).to(device)\n",
        "state[\"lif2.beta\"] = torch.tensor(0.95, dtype=torch.float).to(device)\n",
        "state[\"lif3.beta\"] = torch.tensor(0.95, dtype=torch.float).to(device)\n",
        "state[\"lif4.beta\"] = torch.tensor(1.0, dtype=torch.float).to(device)\n",
        "agent.qnetwork_local.load_state_dict(state)\n",
        "\n",
        "print('gymtype:', gymtype)\n",
        "print('input dims:', n_input_dims)\n",
        "print('action size:', n_actions)\n",
        "print('lif1 beta:', agent.qnetwork_local.lif1.beta)\n",
        "print('lif2 beta:', agent.qnetwork_local.lif2.beta)\n",
        "print('lif3 beta:', agent.qnetwork_local.lif3.beta)\n",
        "print('Action space:', env.action_space)\n",
        "print('Observation space:', env.observation_space)\n",
        "#print('High:', env.observation_space.high)\n",
        "#print('Low:', env.observation_space.low)"
      ]
    },
    {
      "cell_type": "markdown",
      "metadata": {
        "id": "Eu7TQfmXu4CA"
      },
      "source": [
        "# Train"
      ]
    },
    {
      "cell_type": "code",
      "source": [
        "scores = []\n",
        "mean_scores = []\n",
        "last_scores = deque(maxlen=mean_every)\n",
        "distances = []\n",
        "mean_distances = []\n",
        "last_distance = deque(maxlen=mean_every)\n",
        "losses_mean_episode = []\n",
        "eps_history = []\n",
        "\n",
        "ep = -1\n",
        "while ep < n_games:\n",
        "    ep += 1\n",
        "    done = False\n",
        "    state = env.reset()\n",
        "    total_reward = 0\n",
        "    total_distance = 0\n",
        "    losses = []\n",
        "    \n",
        "    while(not done):\n",
        "        # Choose action\n",
        "        action = agent.act(state, epsilon)\n",
        "        \n",
        "        # Execute action and observe environment\n",
        "        next_state, reward, done, info = env.step(action)\n",
        "        \n",
        "        # Calculate loss and learn\n",
        "        loss = agent.step(state, action, reward, next_state, done)\n",
        "        \n",
        "        state = next_state\n",
        "        \n",
        "        total_reward += reward\n",
        "\n",
        "        if(loss is not None):\n",
        "            losses.append(loss)\n",
        "\n",
        "        if(reward != -100):\n",
        "            total_distance += reward\n",
        "    \n",
        "    if epsilon > epsilon_end:\n",
        "        epsilon = epsilon * epsilon_decay\n",
        "\n",
        "    if len(losses) >= 1:\n",
        "        mean_loss = np.mean(losses)\n",
        "        losses_mean_episode.append((ep, mean_loss))\n",
        "    else:\n",
        "        mean_loss = None\n",
        "\n",
        "    # print('episode:',ep,'/',n_games,'\\t score:',total_reward,'\\t distance:',total_distance,'\\t loss:',mean_loss,'\\t epsilon:',epsilon)\n",
        "\n",
        "    scores.append(total_reward)\n",
        "    distances.append(total_distance)\n",
        "    last_scores.append(total_reward)\n",
        "    last_distance.append(total_distance)\n",
        "    mean_score = np.mean(last_scores)\n",
        "    mean_distance = np.mean(last_distance)\n",
        "    eps_history.append(epsilon)\n",
        "\n",
        "    # Record rewards dynamically\n",
        "    FILE = 'record.dat'\n",
        "    data = [ep, total_reward, total_distance, mean_loss, epsilon]\n",
        "    with open(FILE, \"ab\") as f:\n",
        "        pickle.dump(data, f)\n",
        "\n",
        "    if (mean_score >= 300):\n",
        "        print('environment solved in:',ep,'\\t mean score:',mean_score)\n",
        "        torch.save(agent.qnetwork_local.state_dict(), model_file)\n",
        "        torch.save(agent.qnetwork_target.state_dict(), model_file_target)\n",
        "        break\n",
        "\n",
        "    # Save model every mean_every episodes\n",
        "    if ((ep % mean_every) == 0):        \n",
        "        print('episode:',ep,'/',n_games,'\\t mean score:',mean_score,'\\t mean distance:',mean_distance,'\\t mean loss:',mean_loss,'\\t epsilon:',epsilon)\n",
        "\n",
        "        torch.save(agent.qnetwork_local.state_dict(), model_file)\n",
        "        torch.save(agent.qnetwork_target.state_dict(), model_file_target)\n",
        "        \n",
        "        mean_scores.append(mean_score)\n",
        "        mean_distances.append(mean_distance)\n",
        "        \n",
        "        FILE = 'record_mean.dat'\n",
        "        data = [ep, mean_score, mean_distance, mean_loss, epsilon]\n",
        "        with open(FILE, \"ab\") as f:\n",
        "            pickle.dump(data, f)\n",
        "env.close()"
      ],
      "metadata": {
        "id": "kqnqogd1cV8B",
        "colab": {
          "base_uri": "https://localhost:8080/"
        },
        "outputId": "6daaa9fb-f27d-4af7-e003-3b629d383363"
      },
      "execution_count": 11,
      "outputs": [
        {
          "output_type": "stream",
          "name": "stdout",
          "text": [
            "episode: 0 / 1000 \t mean score: -102.56575306265367 \t mean distance: -2.565753062653663 \t mean loss: 0.73049396 \t epsilon: 0.2985\n",
            "episode: 2 / 1000 \t mean score: -98.80106440419249 \t mean distance: -48.801064404192495 \t mean loss: 0.011155785 \t epsilon: 0.29552246249999997\n",
            "episode: 4 / 1000 \t mean score: -107.57539574410765 \t mean distance: -7.575395744107666 \t mean loss: 14.153338 \t epsilon: 0.29257462593656247\n",
            "episode: 6 / 1000 \t mean score: -102.90799543585598 \t mean distance: -2.9079954358559736 \t mean loss: 22.729397 \t epsilon: 0.28965619404284526\n",
            "episode: 8 / 1000 \t mean score: -109.79698199745422 \t mean distance: -9.796981997454218 \t mean loss: 22.096518 \t epsilon: 0.28676687350726787\n",
            "episode: 10 / 1000 \t mean score: -97.48937501375656 \t mean distance: 2.5106249862434367 \t mean loss: 18.238264 \t epsilon: 0.28390637394403284\n",
            "episode: 12 / 1000 \t mean score: -107.84857915310748 \t mean distance: -7.848579153107474 \t mean loss: 15.06268 \t epsilon: 0.2810744078639411\n",
            "episode: 14 / 1000 \t mean score: -112.36317244210805 \t mean distance: -62.36317244210805 \t mean loss: 19.024221 \t epsilon: 0.27827069064549825\n",
            "episode: 16 / 1000 \t mean score: -99.91758543249003 \t mean distance: 0.08241456750998122 \t mean loss: 11.5179615 \t epsilon: 0.2754949405063094\n",
            "episode: 18 / 1000 \t mean score: -125.7700952980956 \t mean distance: -25.770095298095598 \t mean loss: 19.201553 \t epsilon: 0.272746878474759\n",
            "episode: 20 / 1000 \t mean score: -101.14844845169597 \t mean distance: -1.1484484516959605 \t mean loss: 24.12233 \t epsilon: 0.27002622836197326\n",
            "episode: 22 / 1000 \t mean score: -97.1893525433026 \t mean distance: -47.189352543302604 \t mean loss: 16.305218 \t epsilon: 0.26733271673406256\n",
            "episode: 24 / 1000 \t mean score: -117.32587970960576 \t mean distance: -17.325879709605758 \t mean loss: 7.7366886 \t epsilon: 0.2646660728846403\n",
            "episode: 26 / 1000 \t mean score: -122.81704715546314 \t mean distance: -22.81704715546315 \t mean loss: 17.840073 \t epsilon: 0.26202602880761594\n",
            "episode: 28 / 1000 \t mean score: -108.46315160181621 \t mean distance: -8.463151601816218 \t mean loss: 29.568342 \t epsilon: 0.25941231917026\n",
            "episode: 30 / 1000 \t mean score: -114.07646546917317 \t mean distance: -14.076465469173163 \t mean loss: 2.9377084 \t epsilon: 0.2568246812865366\n",
            "episode: 32 / 1000 \t mean score: -58.10129349725337 \t mean distance: -58.10129349725337 \t mean loss: 8.782234 \t epsilon: 0.2542628550907034\n",
            "episode: 34 / 1000 \t mean score: -114.05628509823916 \t mean distance: -14.056285098239162 \t mean loss: 5.4134274 \t epsilon: 0.25172658311117363\n",
            "episode: 36 / 1000 \t mean score: -88.26064053850737 \t mean distance: -38.260640538507374 \t mean loss: 7.8305483 \t epsilon: 0.24921561044463966\n",
            "episode: 38 / 1000 \t mean score: -107.90218433539974 \t mean distance: -7.902184335399725 \t mean loss: 6.5501056 \t epsilon: 0.24672968473045437\n",
            "episode: 40 / 1000 \t mean score: -108.46996252995945 \t mean distance: -8.469962529959442 \t mean loss: 14.946914 \t epsilon: 0.24426855612526807\n",
            "episode: 42 / 1000 \t mean score: -111.50389266006184 \t mean distance: -11.50389266006183 \t mean loss: 9.955384 \t epsilon: 0.24183197727791853\n",
            "episode: 44 / 1000 \t mean score: -111.08870588093158 \t mean distance: -11.088705880931583 \t mean loss: 7.5691457 \t epsilon: 0.2394197033045713\n",
            "episode: 46 / 1000 \t mean score: -113.16735741492144 \t mean distance: -13.167357414921435 \t mean loss: 10.832115 \t epsilon: 0.2370314917641082\n",
            "episode: 48 / 1000 \t mean score: -112.48176589404358 \t mean distance: -12.481765894043573 \t mean loss: 10.771715 \t epsilon: 0.23466710263376123\n",
            "episode: 50 / 1000 \t mean score: -122.49658247916526 \t mean distance: -22.496582479165255 \t mean loss: 11.540243 \t epsilon: 0.23232629828498946\n",
            "episode: 52 / 1000 \t mean score: -109.59200511573566 \t mean distance: -9.592005115735656 \t mean loss: 15.371083 \t epsilon: 0.23000884345959668\n",
            "episode: 54 / 1000 \t mean score: -102.29353426668732 \t mean distance: -2.293534266687306 \t mean loss: 13.693832 \t epsilon: 0.22771450524608722\n",
            "episode: 56 / 1000 \t mean score: -120.82789643639447 \t mean distance: -20.82789643639448 \t mean loss: 12.673163 \t epsilon: 0.2254430530562575\n",
            "episode: 58 / 1000 \t mean score: -109.85405758950424 \t mean distance: -9.854057589504247 \t mean loss: 11.108142 \t epsilon: 0.22319425860202133\n",
            "episode: 60 / 1000 \t mean score: -100.18952831849643 \t mean distance: -0.18952831849642227 \t mean loss: 3.9015496 \t epsilon: 0.22096789587246615\n",
            "episode: 62 / 1000 \t mean score: -111.2535338776093 \t mean distance: -11.253533877609293 \t mean loss: 7.0491595 \t epsilon: 0.2187637411111383\n",
            "episode: 64 / 1000 \t mean score: -110.09926586513376 \t mean distance: -10.099265865133757 \t mean loss: 13.476202 \t epsilon: 0.2165815727935547\n",
            "episode: 66 / 1000 \t mean score: -118.45494968259624 \t mean distance: -68.45494968259624 \t mean loss: 12.537881 \t epsilon: 0.21442117160493898\n",
            "episode: 68 / 1000 \t mean score: -97.80437172638094 \t mean distance: -47.804371726380936 \t mean loss: 9.795688 \t epsilon: 0.2122823204181797\n",
            "episode: 70 / 1000 \t mean score: -112.0024705424147 \t mean distance: -12.00247054241471 \t mean loss: 16.20215 \t epsilon: 0.21016480427200837\n",
            "episode: 72 / 1000 \t mean score: -112.3186030708477 \t mean distance: -12.31860307084769 \t mean loss: 16.858706 \t epsilon: 0.2080684103493951\n",
            "episode: 74 / 1000 \t mean score: -106.11066187630745 \t mean distance: -6.110661876307444 \t mean loss: 9.574765 \t epsilon: 0.2059929279561599\n",
            "episode: 76 / 1000 \t mean score: -99.08832946849262 \t mean distance: -49.088329468492624 \t mean loss: 17.260382 \t epsilon: 0.2039381484997972\n",
            "episode: 78 / 1000 \t mean score: -101.28814016119391 \t mean distance: -1.2881401611939092 \t mean loss: 9.145157 \t epsilon: 0.2019038654685117\n",
            "episode: 80 / 1000 \t mean score: -116.03074050310283 \t mean distance: -16.030740503102837 \t mean loss: 21.279198 \t epsilon: 0.1998898744104633\n",
            "episode: 82 / 1000 \t mean score: -113.6698244611618 \t mean distance: -13.669824461161795 \t mean loss: 7.8452525 \t epsilon: 0.19789597291321892\n",
            "episode: 84 / 1000 \t mean score: -102.86891413840341 \t mean distance: -2.868914138403412 \t mean loss: 13.653987 \t epsilon: 0.19592196058340955\n",
            "episode: 86 / 1000 \t mean score: -100.76388003597906 \t mean distance: -0.763880035979055 \t mean loss: 13.549718 \t epsilon: 0.19396763902659003\n",
            "episode: 88 / 1000 \t mean score: -100.47160991072587 \t mean distance: -50.47160991072587 \t mean loss: 12.180345 \t epsilon: 0.1920328118272998\n",
            "episode: 90 / 1000 \t mean score: -114.61433097251413 \t mean distance: -14.614330972514123 \t mean loss: 6.199226 \t epsilon: 0.1901172845293225\n",
            "episode: 92 / 1000 \t mean score: -112.05209272646658 \t mean distance: -12.05209272646657 \t mean loss: 7.1363287 \t epsilon: 0.1882208646161425\n",
            "episode: 94 / 1000 \t mean score: -117.15974946414183 \t mean distance: -17.159749464141825 \t mean loss: 10.981496 \t epsilon: 0.18634336149159647\n",
            "episode: 96 / 1000 \t mean score: -122.55282492494084 \t mean distance: -22.55282492494085 \t mean loss: 18.4573 \t epsilon: 0.18448458646071778\n",
            "episode: 98 / 1000 \t mean score: -105.95101997800356 \t mean distance: -5.951019978003565 \t mean loss: 10.8399105 \t epsilon: 0.1826443527107721\n",
            "episode: 100 / 1000 \t mean score: -113.44715778440948 \t mean distance: -13.447157784409496 \t mean loss: 9.234872 \t epsilon: 0.18082247529248216\n",
            "episode: 102 / 1000 \t mean score: -102.51579930818235 \t mean distance: -2.515799308182362 \t mean loss: 11.525421 \t epsilon: 0.17901877110143966\n",
            "episode: 104 / 1000 \t mean score: -103.63007116755378 \t mean distance: -3.630071167553779 \t mean loss: 8.223101 \t epsilon: 0.17723305885970278\n",
            "episode: 106 / 1000 \t mean score: -125.02263862456904 \t mean distance: -125.02263862456904 \t mean loss: 11.2185545 \t epsilon: 0.17546515909757723\n",
            "episode: 108 / 1000 \t mean score: -127.20871767552471 \t mean distance: -77.20871767552471 \t mean loss: 14.824855 \t epsilon: 0.1737148941355789\n",
            "episode: 110 / 1000 \t mean score: -127.53002807541817 \t mean distance: -127.53002807541817 \t mean loss: 9.8158455 \t epsilon: 0.1719820880665765\n",
            "episode: 112 / 1000 \t mean score: -112.75665218954194 \t mean distance: -62.756652189541946 \t mean loss: 13.495326 \t epsilon: 0.1702665667381124\n",
            "episode: 114 / 1000 \t mean score: -114.8221813215784 \t mean distance: -14.822181321578395 \t mean loss: 9.973776 \t epsilon: 0.16856815773489972\n",
            "episode: 116 / 1000 \t mean score: -109.36640250233373 \t mean distance: -9.36640250233372 \t mean loss: 10.282596 \t epsilon: 0.1668866903614941\n",
            "episode: 118 / 1000 \t mean score: -113.99022177853931 \t mean distance: -13.990221778539315 \t mean loss: 5.245528 \t epsilon: 0.16522199562513817\n",
            "episode: 120 / 1000 \t mean score: -122.47179180530085 \t mean distance: -22.471791805300846 \t mean loss: 4.474958 \t epsilon: 0.16357390621877743\n",
            "episode: 122 / 1000 \t mean score: -111.97892232775997 \t mean distance: -11.978922327759978 \t mean loss: 8.806572 \t epsilon: 0.16194225650424512\n",
            "episode: 124 / 1000 \t mean score: -99.61561559702238 \t mean distance: 0.3843844029776093 \t mean loss: 0.79395056 \t epsilon: 0.16032688249561527\n",
            "episode: 126 / 1000 \t mean score: -108.56155840501873 \t mean distance: -8.561558405018722 \t mean loss: 6.4620757 \t epsilon: 0.15872762184272152\n",
            "episode: 128 / 1000 \t mean score: -116.64110432886426 \t mean distance: -16.64110432886426 \t mean loss: 1.0027124 \t epsilon: 0.15714431381484037\n",
            "episode: 130 / 1000 \t mean score: -119.47994821186488 \t mean distance: -19.47994821186488 \t mean loss: 6.2192645 \t epsilon: 0.15557679928453735\n",
            "episode: 132 / 1000 \t mean score: -117.09425172994906 \t mean distance: -17.094251729949075 \t mean loss: 18.69808 \t epsilon: 0.15402492071167412\n",
            "episode: 134 / 1000 \t mean score: -117.0591167896281 \t mean distance: -17.059116789628106 \t mean loss: 9.901714 \t epsilon: 0.15248852212757516\n",
            "episode: 136 / 1000 \t mean score: -115.24658786158233 \t mean distance: -15.246587861582325 \t mean loss: 9.119687 \t epsilon: 0.1509674491193526\n",
            "episode: 138 / 1000 \t mean score: -113.49646241256097 \t mean distance: -13.496462412560975 \t mean loss: 8.522022 \t epsilon: 0.14946154881438703\n",
            "episode: 140 / 1000 \t mean score: -101.79689205718196 \t mean distance: -1.7968920571819582 \t mean loss: 18.755974 \t epsilon: 0.14797066986496352\n",
            "episode: 142 / 1000 \t mean score: -120.12521549615201 \t mean distance: -20.125215496152013 \t mean loss: 10.530519 \t epsilon: 0.1464946624330605\n",
            "episode: 144 / 1000 \t mean score: -110.1114774050098 \t mean distance: -10.111477405009785 \t mean loss: 10.155924 \t epsilon: 0.14503337817529072\n",
            "episode: 146 / 1000 \t mean score: -108.87801548107528 \t mean distance: -8.878015481075282 \t mean loss: 4.2338257 \t epsilon: 0.14358667022799218\n",
            "episode: 148 / 1000 \t mean score: -118.32594340133295 \t mean distance: -18.325943401332964 \t mean loss: 11.896715 \t epsilon: 0.14215439319246798\n",
            "episode: 150 / 1000 \t mean score: -122.08890939291288 \t mean distance: -22.08890939291288 \t mean loss: 4.789334 \t epsilon: 0.1407364031203731\n",
            "episode: 152 / 1000 \t mean score: -111.02571334499555 \t mean distance: -11.025713344995562 \t mean loss: 13.372911 \t epsilon: 0.1393325574992474\n",
            "episode: 154 / 1000 \t mean score: -118.01598701595299 \t mean distance: -18.015987015952987 \t mean loss: 10.965239 \t epsilon: 0.13794271523819238\n",
            "episode: 156 / 1000 \t mean score: -120.42055654234969 \t mean distance: -20.420556542349683 \t mean loss: 20.66194 \t epsilon: 0.1365667366536914\n",
            "episode: 158 / 1000 \t mean score: -100.14777867428958 \t mean distance: -0.14777867428958574 \t mean loss: 6.7546544 \t epsilon: 0.13520448345557082\n",
            "episode: 160 / 1000 \t mean score: -123.24284525441035 \t mean distance: -23.242845254410362 \t mean loss: 16.739725 \t epsilon: 0.1338558187331015\n",
            "episode: 162 / 1000 \t mean score: -108.69714923984372 \t mean distance: -8.697149239843714 \t mean loss: 7.840899 \t epsilon: 0.13252060694123882\n",
            "episode: 164 / 1000 \t mean score: -112.11315618455038 \t mean distance: -12.11315618455038 \t mean loss: 9.699726 \t epsilon: 0.13119871388699997\n",
            "episode: 166 / 1000 \t mean score: -105.36986967967265 \t mean distance: -5.369869679672641 \t mean loss: 8.242033 \t epsilon: 0.12989000671597714\n",
            "episode: 168 / 1000 \t mean score: -119.55715897315677 \t mean distance: -19.557158973156774 \t mean loss: 7.0200276 \t epsilon: 0.12859435389898527\n",
            "episode: 170 / 1000 \t mean score: -119.83246033373726 \t mean distance: -19.832460333737252 \t mean loss: 33.109936 \t epsilon: 0.12731162521884287\n",
            "episode: 172 / 1000 \t mean score: -109.91967662839966 \t mean distance: -9.91967662839965 \t mean loss: 18.312723 \t epsilon: 0.1260416917572849\n",
            "episode: 174 / 1000 \t mean score: -107.5008494929454 \t mean distance: -7.500849492945411 \t mean loss: 7.534983 \t epsilon: 0.124784425882006\n",
            "episode: 176 / 1000 \t mean score: -120.65646266695268 \t mean distance: -20.656462666952677 \t mean loss: 7.439075 \t epsilon: 0.12353970123383298\n",
            "episode: 178 / 1000 \t mean score: -111.88290390512472 \t mean distance: -11.882903905124722 \t mean loss: 7.6816883 \t epsilon: 0.1223073927140255\n",
            "episode: 180 / 1000 \t mean score: -120.31066175457215 \t mean distance: -20.310661754572152 \t mean loss: 6.544617 \t epsilon: 0.1210873764717031\n",
            "episode: 182 / 1000 \t mean score: -118.54096814271647 \t mean distance: -18.540968142716462 \t mean loss: 16.615694 \t epsilon: 0.11987952989139786\n",
            "episode: 184 / 1000 \t mean score: -103.61764453148905 \t mean distance: -3.617644531489042 \t mean loss: 6.1067843 \t epsilon: 0.11868373158073116\n",
            "episode: 186 / 1000 \t mean score: -112.17281981764516 \t mean distance: -12.172819817645165 \t mean loss: 6.8982463 \t epsilon: 0.11749986135821336\n",
            "episode: 188 / 1000 \t mean score: -112.26613918305996 \t mean distance: -12.26613918305996 \t mean loss: 10.74481 \t epsilon: 0.11632780024116518\n",
            "episode: 190 / 1000 \t mean score: -110.41012446621713 \t mean distance: -10.41012446621712 \t mean loss: 12.255302 \t epsilon: 0.11516743043375956\n",
            "episode: 192 / 1000 \t mean score: -125.24339188526321 \t mean distance: -25.243391885263208 \t mean loss: 12.219714 \t epsilon: 0.1140186353151828\n",
            "episode: 194 / 1000 \t mean score: -103.84220475400674 \t mean distance: -3.8422047540067403 \t mean loss: 20.908852 \t epsilon: 0.11288129942791385\n",
            "episode: 196 / 1000 \t mean score: -113.03710064940977 \t mean distance: -63.037100649409766 \t mean loss: 13.006882 \t epsilon: 0.1117553084661204\n",
            "episode: 198 / 1000 \t mean score: -110.66674898448181 \t mean distance: -10.666748984481826 \t mean loss: 16.414827 \t epsilon: 0.11064054926417084\n",
            "episode: 200 / 1000 \t mean score: -117.32046574596255 \t mean distance: -17.32046574596255 \t mean loss: 12.758353 \t epsilon: 0.10953690978526073\n",
            "episode: 202 / 1000 \t mean score: -96.78325229750047 \t mean distance: 3.21674770249954 \t mean loss: 14.351781 \t epsilon: 0.10844427911015277\n",
            "episode: 204 / 1000 \t mean score: -100.96252360032624 \t mean distance: -0.9625236003262345 \t mean loss: 10.914939 \t epsilon: 0.10736254742602899\n",
            "episode: 206 / 1000 \t mean score: -98.23397268204607 \t mean distance: 1.7660273179539194 \t mean loss: 30.981472 \t epsilon: 0.10629160601545436\n",
            "episode: 208 / 1000 \t mean score: -98.88107811929441 \t mean distance: 1.118921880705593 \t mean loss: 9.092379 \t epsilon: 0.1052313472454502\n",
            "episode: 210 / 1000 \t mean score: -102.64360286941721 \t mean distance: -2.6436028694172107 \t mean loss: 10.3600235 \t epsilon: 0.10418166455667685\n",
            "episode: 212 / 1000 \t mean score: -121.70419154463988 \t mean distance: -21.704191544639883 \t mean loss: 15.746791 \t epsilon: 0.10314245245272399\n",
            "episode: 214 / 1000 \t mean score: -120.7434357717298 \t mean distance: -20.743435771729807 \t mean loss: 9.819657 \t epsilon: 0.10211360648950807\n",
            "episode: 216 / 1000 \t mean score: -116.15725112849009 \t mean distance: -16.157251128490095 \t mean loss: 15.973613 \t epsilon: 0.10109502326477522\n",
            "episode: 218 / 1000 \t mean score: -124.51979914370646 \t mean distance: -24.519799143706464 \t mean loss: 8.930461 \t epsilon: 0.10008660040770909\n",
            "episode: 220 / 1000 \t mean score: -108.94067530665858 \t mean distance: -8.94067530665858 \t mean loss: 10.460694 \t epsilon: 0.09908823656864219\n",
            "episode: 222 / 1000 \t mean score: -122.53859961292864 \t mean distance: -22.53859961292863 \t mean loss: 16.34557 \t epsilon: 0.09809983140886998\n",
            "episode: 224 / 1000 \t mean score: -124.16822755530879 \t mean distance: -24.168227555308793 \t mean loss: 17.673723 \t epsilon: 0.0971212855905665\n",
            "episode: 226 / 1000 \t mean score: -101.53345967438631 \t mean distance: -1.5334596743863094 \t mean loss: 8.663582 \t epsilon: 0.0961525007668006\n",
            "episode: 228 / 1000 \t mean score: -122.6064863530149 \t mean distance: -22.60648635301491 \t mean loss: 13.7116785 \t epsilon: 0.09519337957165176\n",
            "episode: 230 / 1000 \t mean score: -126.13158024016117 \t mean distance: -26.13158024016117 \t mean loss: 13.594658 \t epsilon: 0.09424382561042453\n",
            "episode: 232 / 1000 \t mean score: -105.2256992500179 \t mean distance: -55.225699250017904 \t mean loss: 17.976274 \t epsilon: 0.09330374344996055\n",
            "episode: 234 / 1000 \t mean score: -119.68599656025384 \t mean distance: -19.68599656025384 \t mean loss: 29.724276 \t epsilon: 0.09237303860904719\n",
            "episode: 236 / 1000 \t mean score: -118.26759832945531 \t mean distance: -18.26759832945531 \t mean loss: 13.925827 \t epsilon: 0.09145161754892195\n",
            "episode: 238 / 1000 \t mean score: -121.16130672184502 \t mean distance: -21.16130672184503 \t mean loss: 10.17889 \t epsilon: 0.09053938766387146\n",
            "episode: 240 / 1000 \t mean score: -103.61918855785609 \t mean distance: -3.619188557856093 \t mean loss: 13.99574 \t epsilon: 0.08963625727192434\n",
            "episode: 242 / 1000 \t mean score: -101.49629221818907 \t mean distance: -1.496292218189068 \t mean loss: 11.180428 \t epsilon: 0.0887421356056369\n",
            "episode: 244 / 1000 \t mean score: -100.5484289177886 \t mean distance: -0.5484289177885928 \t mean loss: 12.795008 \t epsilon: 0.08785693280297067\n",
            "episode: 246 / 1000 \t mean score: -110.84621468152788 \t mean distance: -10.846214681527888 \t mean loss: 12.795608 \t epsilon: 0.08698055989826103\n",
            "episode: 248 / 1000 \t mean score: -101.86410613226921 \t mean distance: -1.8641061322692158 \t mean loss: 11.090114 \t epsilon: 0.08611292881327588\n",
            "episode: 250 / 1000 \t mean score: -112.5330655188368 \t mean distance: -12.53306551883681 \t mean loss: 23.029385 \t epsilon: 0.08525395234836346\n",
            "episode: 252 / 1000 \t mean score: -120.72118277696987 \t mean distance: -20.72118277696987 \t mean loss: 9.234581 \t epsilon: 0.08440354417368853\n",
            "episode: 254 / 1000 \t mean score: -113.24912702409645 \t mean distance: -13.249127024096445 \t mean loss: 19.70793 \t epsilon: 0.08356161882055599\n",
            "episode: 256 / 1000 \t mean score: -109.89665100442184 \t mean distance: -9.896651004421834 \t mean loss: 9.14611 \t epsilon: 0.08272809167282094\n",
            "episode: 258 / 1000 \t mean score: -112.38624631915552 \t mean distance: -12.386246319155523 \t mean loss: 10.668839 \t epsilon: 0.08190287895838455\n",
            "episode: 260 / 1000 \t mean score: -123.7856928301851 \t mean distance: -23.7856928301851 \t mean loss: 13.199027 \t epsilon: 0.08108589774077467\n",
            "episode: 262 / 1000 \t mean score: -105.45867713346985 \t mean distance: -5.458677133469843 \t mean loss: 14.196202 \t epsilon: 0.08027706591081045\n",
            "episode: 264 / 1000 \t mean score: -102.92074480082096 \t mean distance: -2.920744800820948 \t mean loss: 14.136342 \t epsilon: 0.07947630217835011\n",
            "episode: 266 / 1000 \t mean score: -113.82741431024016 \t mean distance: -13.827414310240169 \t mean loss: 17.647343 \t epsilon: 0.07868352606412107\n",
            "episode: 268 / 1000 \t mean score: -114.4730435360462 \t mean distance: -14.473043536046207 \t mean loss: 13.74297 \t epsilon: 0.07789865789163146\n",
            "episode: 270 / 1000 \t mean score: -111.649174857301 \t mean distance: -11.64917485730102 \t mean loss: 13.31273 \t epsilon: 0.07712161877916243\n",
            "episode: 272 / 1000 \t mean score: -105.4300832955533 \t mean distance: -5.430083295553301 \t mean loss: 16.614027 \t epsilon: 0.07635233063184028\n",
            "episode: 274 / 1000 \t mean score: -102.54372149921116 \t mean distance: -2.5437214992111556 \t mean loss: 13.237207 \t epsilon: 0.07559071613378768\n",
            "episode: 276 / 1000 \t mean score: -108.0486340620198 \t mean distance: -8.048634062019804 \t mean loss: 14.514089 \t epsilon: 0.07483669874035313\n",
            "episode: 278 / 1000 \t mean score: -103.93316902226458 \t mean distance: -3.9331690222645816 \t mean loss: 19.950977 \t epsilon: 0.07409020267041812\n",
            "episode: 280 / 1000 \t mean score: -112.04185702662883 \t mean distance: -12.041857026628842 \t mean loss: 11.39517 \t epsilon: 0.07335115289878069\n",
            "episode: 282 / 1000 \t mean score: -102.70222815978187 \t mean distance: -2.70222815978186 \t mean loss: 17.916689 \t epsilon: 0.07261947514861535\n",
            "episode: 284 / 1000 \t mean score: -99.76128947842122 \t mean distance: 0.23871052157878847 \t mean loss: 22.87416 \t epsilon: 0.0718950958840079\n",
            "episode: 286 / 1000 \t mean score: -102.86884096664346 \t mean distance: -2.8688409666434564 \t mean loss: 16.263071 \t epsilon: 0.07117794230256491\n",
            "episode: 288 / 1000 \t mean score: -101.48444375899652 \t mean distance: -1.4844437589965178 \t mean loss: 8.365527 \t epsilon: 0.07046794232809683\n",
            "episode: 290 / 1000 \t mean score: -102.44348826115889 \t mean distance: -2.443488261158886 \t mean loss: 14.076734 \t epsilon: 0.06976502460337407\n",
            "episode: 292 / 1000 \t mean score: -126.98379357454894 \t mean distance: -26.983793574548955 \t mean loss: 19.012985 \t epsilon: 0.06906911848295541\n",
            "episode: 294 / 1000 \t mean score: -104.85179158075434 \t mean distance: -4.851791580754334 \t mean loss: 14.5705805 \t epsilon: 0.06838015402608792\n",
            "episode: 296 / 1000 \t mean score: -106.45795680011219 \t mean distance: -6.457956800112191 \t mean loss: 16.069302 \t epsilon: 0.06769806198967769\n",
            "episode: 298 / 1000 \t mean score: -103.12205849066221 \t mean distance: -3.1220584906622135 \t mean loss: 13.762931 \t epsilon: 0.06702277382133066\n",
            "episode: 300 / 1000 \t mean score: -100.58457077314301 \t mean distance: -0.5845707731430119 \t mean loss: 19.50288 \t epsilon: 0.06635422165246288\n",
            "episode: 302 / 1000 \t mean score: -104.61730579119703 \t mean distance: -4.617305791197037 \t mean loss: 17.62638 \t epsilon: 0.06569233829147957\n",
            "episode: 304 / 1000 \t mean score: -103.14215250637352 \t mean distance: -3.142152506373513 \t mean loss: 24.75189 \t epsilon: 0.06503705721702206\n",
            "episode: 306 / 1000 \t mean score: -112.56879627446457 \t mean distance: -12.568796274464571 \t mean loss: 15.74424 \t epsilon: 0.06438831257128227\n",
            "episode: 308 / 1000 \t mean score: -109.2367203469382 \t mean distance: -9.236720346938199 \t mean loss: 25.517645 \t epsilon: 0.06374603915338374\n",
            "episode: 310 / 1000 \t mean score: -100.75223760966833 \t mean distance: -0.7522376096683262 \t mean loss: 18.137415 \t epsilon: 0.06311017241282874\n",
            "episode: 312 / 1000 \t mean score: -104.01303876839827 \t mean distance: -4.013038768398267 \t mean loss: 12.438822 \t epsilon: 0.062480648443010774\n",
            "episode: 314 / 1000 \t mean score: -103.56653527788228 \t mean distance: -3.5665352778822834 \t mean loss: 10.075266 \t epsilon: 0.06185740397479174\n",
            "episode: 316 / 1000 \t mean score: -103.57570821145768 \t mean distance: -3.5757082114576706 \t mean loss: 9.344258 \t epsilon: 0.061240376370143186\n",
            "episode: 318 / 1000 \t mean score: -103.11382746764087 \t mean distance: -3.113827467640865 \t mean loss: 13.03421 \t epsilon: 0.06062950361585101\n",
            "episode: 320 / 1000 \t mean score: -100.91418837485338 \t mean distance: -0.9141883748533857 \t mean loss: 14.269291 \t epsilon: 0.060024724317282896\n",
            "episode: 322 / 1000 \t mean score: -101.06037680669439 \t mean distance: -1.0603768066943946 \t mean loss: 18.056871 \t epsilon: 0.059425977692218\n",
            "episode: 324 / 1000 \t mean score: -98.76930581152314 \t mean distance: 1.2306941884768487 \t mean loss: 11.622136 \t epsilon: 0.05883320356473813\n",
            "episode: 326 / 1000 \t mean score: -99.45613022553798 \t mean distance: 0.5438697744620327 \t mean loss: 25.609945 \t epsilon: 0.058246342359179866\n",
            "episode: 328 / 1000 \t mean score: -100.47662074559275 \t mean distance: -0.47662074559275264 \t mean loss: 14.821858 \t epsilon: 0.05766533509414704\n",
            "episode: 330 / 1000 \t mean score: -98.94397108161046 \t mean distance: 1.05602891838954 \t mean loss: 10.782751 \t epsilon: 0.057090123376582924\n",
            "episode: 332 / 1000 \t mean score: -99.4079213665876 \t mean distance: 0.5920786334124051 \t mean loss: 17.096296 \t epsilon: 0.05652064939590151\n",
            "episode: 334 / 1000 \t mean score: -102.13027283545273 \t mean distance: -2.1302728354527325 \t mean loss: 7.1074715 \t epsilon: 0.055956855918177395\n",
            "episode: 336 / 1000 \t mean score: -100.2855031256924 \t mean distance: -0.2855031256924119 \t mean loss: 13.786756 \t epsilon: 0.05539868628039357\n",
            "episode: 338 / 1000 \t mean score: -101.99021325851885 \t mean distance: -1.9902132585188406 \t mean loss: 18.532476 \t epsilon: 0.05484608438474665\n",
            "episode: 340 / 1000 \t mean score: -110.14513971240694 \t mean distance: -10.145139712406952 \t mean loss: 14.655759 \t epsilon: 0.0542989946930088\n",
            "episode: 342 / 1000 \t mean score: -102.26650101555606 \t mean distance: -2.2665010155560505 \t mean loss: 12.374788 \t epsilon: 0.053757362220946035\n",
            "episode: 344 / 1000 \t mean score: -102.79757771874282 \t mean distance: -2.797577718742817 \t mean loss: 20.650013 \t epsilon: 0.0532211325327921\n",
            "episode: 346 / 1000 \t mean score: -113.56879153966347 \t mean distance: -13.568791539663458 \t mean loss: 17.998869 \t epsilon: 0.052690251735777495\n",
            "episode: 348 / 1000 \t mean score: -100.40649348991707 \t mean distance: -0.4064934899170616 \t mean loss: 17.839172 \t epsilon: 0.052164666474713114\n",
            "episode: 350 / 1000 \t mean score: -104.26819590553083 \t mean distance: -4.26819590553083 \t mean loss: 16.563871 \t epsilon: 0.05164432392662785\n",
            "episode: 352 / 1000 \t mean score: -112.63216791508191 \t mean distance: -12.632167915081906 \t mean loss: 17.45941 \t epsilon: 0.051129171795459734\n",
            "episode: 354 / 1000 \t mean score: -102.4491131956596 \t mean distance: -2.4491131956595953 \t mean loss: 11.830452 \t epsilon: 0.05061915830680002\n",
            "episode: 356 / 1000 \t mean score: -100.37476865814875 \t mean distance: -0.37476865814874905 \t mean loss: 23.870956 \t epsilon: 0.05011423220268969\n",
            "episode: 358 / 1000 \t mean score: -104.58006916140113 \t mean distance: -4.580069161401133 \t mean loss: 18.267921 \t epsilon: 0.04961434273646786\n",
            "episode: 360 / 1000 \t mean score: -112.9274155767793 \t mean distance: -12.927415576779293 \t mean loss: 17.952024 \t epsilon: 0.04911943966767159\n",
            "episode: 362 / 1000 \t mean score: -102.33941364580579 \t mean distance: -2.339413645805795 \t mean loss: 15.70583 \t epsilon: 0.04862947325698656\n",
            "episode: 364 / 1000 \t mean score: -99.61463984325498 \t mean distance: 0.3853601567450259 \t mean loss: 18.680048 \t epsilon: 0.04814439426124812\n",
            "episode: 366 / 1000 \t mean score: -99.96142365806364 \t mean distance: 0.038576341936362946 \t mean loss: 14.593632 \t epsilon: 0.047664153928492166\n",
            "episode: 368 / 1000 \t mean score: -99.10061185535199 \t mean distance: 0.8993881446480112 \t mean loss: 16.484243 \t epsilon: 0.047188703993055456\n",
            "episode: 370 / 1000 \t mean score: -98.68884306252531 \t mean distance: 1.3111569374746934 \t mean loss: 22.957775 \t epsilon: 0.04671799667072473\n",
            "episode: 372 / 1000 \t mean score: -99.59466922385866 \t mean distance: 0.4053307761413335 \t mean loss: 18.888138 \t epsilon: 0.04625198465393425\n",
            "episode: 374 / 1000 \t mean score: -100.16417112002925 \t mean distance: -0.16417112002925593 \t mean loss: 10.680338 \t epsilon: 0.04579062110701125\n",
            "episode: 376 / 1000 \t mean score: -101.51358934740598 \t mean distance: -1.5135893474059836 \t mean loss: 15.454628 \t epsilon: 0.045333859661468814\n",
            "episode: 378 / 1000 \t mean score: -101.00637277371871 \t mean distance: -1.0063727737187143 \t mean loss: 23.251732 \t epsilon: 0.044881654411345666\n",
            "episode: 380 / 1000 \t mean score: -100.30555251699003 \t mean distance: -0.3055525169900333 \t mean loss: 23.037325 \t epsilon: 0.044433959908592495\n",
            "episode: 382 / 1000 \t mean score: -100.92921770050377 \t mean distance: -0.9292177005037695 \t mean loss: 11.156898 \t epsilon: 0.043990731158504284\n",
            "episode: 384 / 1000 \t mean score: -102.68389072941306 \t mean distance: -2.68389072941306 \t mean loss: 13.900418 \t epsilon: 0.043551923615198204\n",
            "episode: 386 / 1000 \t mean score: -105.25426601212658 \t mean distance: -5.254266012126583 \t mean loss: 23.048538 \t epsilon: 0.043117493177136604\n",
            "episode: 388 / 1000 \t mean score: -105.48483790748008 \t mean distance: -5.484837907480079 \t mean loss: 18.00734 \t epsilon: 0.04268739618269467\n",
            "episode: 390 / 1000 \t mean score: -100.8787125470663 \t mean distance: -0.8787125470663125 \t mean loss: 15.378409 \t epsilon: 0.042261589405772286\n",
            "episode: 392 / 1000 \t mean score: -107.63627034342102 \t mean distance: -7.636270343421028 \t mean loss: 17.30619 \t epsilon: 0.04184003005144971\n",
            "episode: 394 / 1000 \t mean score: -106.13613562229276 \t mean distance: -6.136135622292757 \t mean loss: 20.861834 \t epsilon: 0.0414226757516865\n",
            "episode: 396 / 1000 \t mean score: -110.41112662453297 \t mean distance: -10.41112662453297 \t mean loss: 22.11346 \t epsilon: 0.041009484561063424\n",
            "episode: 398 / 1000 \t mean score: -107.42975550939795 \t mean distance: -7.429755509397943 \t mean loss: 19.3039 \t epsilon: 0.04060041495256681\n",
            "episode: 400 / 1000 \t mean score: -125.44904855801973 \t mean distance: -25.449048558019726 \t mean loss: 18.505066 \t epsilon: 0.04019542581341495\n",
            "episode: 402 / 1000 \t mean score: -113.92718701614595 \t mean distance: -13.92718701614595 \t mean loss: 28.645308 \t epsilon: 0.03979447644092614\n",
            "episode: 404 / 1000 \t mean score: -112.04510295273735 \t mean distance: -12.045102952737356 \t mean loss: 12.654155 \t epsilon: 0.0393975265384279\n",
            "episode: 406 / 1000 \t mean score: -112.4332237162497 \t mean distance: -12.4332237162497 \t mean loss: 17.24392 \t epsilon: 0.039004536211207086\n",
            "episode: 408 / 1000 \t mean score: -98.2491545298112 \t mean distance: 1.750845470188804 \t mean loss: 20.063484 \t epsilon: 0.038615465962500296\n",
            "episode: 410 / 1000 \t mean score: -103.3305598628971 \t mean distance: -3.330559862897111 \t mean loss: 13.766862 \t epsilon: 0.038230276689524355\n",
            "episode: 412 / 1000 \t mean score: -102.90244459805763 \t mean distance: -2.9024445980576177 \t mean loss: 21.33334 \t epsilon: 0.037848929679546346\n",
            "episode: 414 / 1000 \t mean score: -121.78912436889453 \t mean distance: -21.78912436889454 \t mean loss: 23.85355 \t epsilon: 0.037471386605992876\n",
            "episode: 416 / 1000 \t mean score: -123.92540931012729 \t mean distance: -23.925409310127286 \t mean loss: 16.2783 \t epsilon: 0.0370976095245981\n",
            "episode: 418 / 1000 \t mean score: -121.76395733788733 \t mean distance: -21.763957337887334 \t mean loss: 20.939182 \t epsilon: 0.036727560869590226\n",
            "episode: 420 / 1000 \t mean score: -124.09173771783213 \t mean distance: -24.09173771783214 \t mean loss: 8.404733 \t epsilon: 0.036361203449916064\n",
            "episode: 422 / 1000 \t mean score: -117.45425778101324 \t mean distance: -17.454257781013236 \t mean loss: 14.745016 \t epsilon: 0.03599850044550315\n",
            "episode: 424 / 1000 \t mean score: -121.97017284796853 \t mean distance: -21.970172847968524 \t mean loss: 16.048702 \t epsilon: 0.035639415403559256\n",
            "episode: 426 / 1000 \t mean score: -115.33519404202295 \t mean distance: -15.335194042022959 \t mean loss: 14.458663 \t epsilon: 0.035283912234908746\n",
            "episode: 428 / 1000 \t mean score: -121.92810017758079 \t mean distance: -21.928100177580788 \t mean loss: 11.254085 \t epsilon: 0.03493195521036553\n",
            "episode: 430 / 1000 \t mean score: -122.00434234783363 \t mean distance: -22.004342347833628 \t mean loss: 25.7237 \t epsilon: 0.034583508957142135\n",
            "episode: 432 / 1000 \t mean score: -120.18373771349218 \t mean distance: -20.183737713492178 \t mean loss: 18.035732 \t epsilon: 0.03423853845529464\n",
            "episode: 434 / 1000 \t mean score: -111.09956153604294 \t mean distance: -11.099561536042945 \t mean loss: 15.747732 \t epsilon: 0.03389700903420308\n",
            "episode: 436 / 1000 \t mean score: -123.60936993196046 \t mean distance: -23.609369931960458 \t mean loss: 16.813684 \t epsilon: 0.033558886369086896\n",
            "episode: 438 / 1000 \t mean score: -121.21680237099343 \t mean distance: -21.216802370993427 \t mean loss: 16.632881 \t epsilon: 0.033224136477555254\n",
            "episode: 440 / 1000 \t mean score: -123.18192651172913 \t mean distance: -23.181926511729127 \t mean loss: 16.601126 \t epsilon: 0.03289272571619164\n",
            "episode: 442 / 1000 \t mean score: -111.510086039197 \t mean distance: -11.510086039197002 \t mean loss: 15.895778 \t epsilon: 0.03256462077717262\n",
            "episode: 444 / 1000 \t mean score: -102.6290439151156 \t mean distance: -2.6290439151156093 \t mean loss: 10.212387 \t epsilon: 0.03223978868492032\n",
            "episode: 446 / 1000 \t mean score: -97.61001651575168 \t mean distance: 2.3899834842483187 \t mean loss: 13.792595 \t epsilon: 0.03191819679278824\n",
            "episode: 448 / 1000 \t mean score: -99.34185505828168 \t mean distance: 0.6581449417183156 \t mean loss: 17.212294 \t epsilon: 0.03159981277978018\n",
            "episode: 450 / 1000 \t mean score: -97.55206978153313 \t mean distance: 2.4479302184668663 \t mean loss: 8.527499 \t epsilon: 0.03128460464730188\n",
            "episode: 452 / 1000 \t mean score: -98.94548440544494 \t mean distance: 1.0545155945550644 \t mean loss: 8.238302 \t epsilon: 0.030972540715945043\n",
            "episode: 454 / 1000 \t mean score: -111.10232305482278 \t mean distance: -11.102323054822778 \t mean loss: 24.094143 \t epsilon: 0.03066358962230349\n",
            "episode: 456 / 1000 \t mean score: -122.49853164124457 \t mean distance: -22.498531641244565 \t mean loss: 30.128183 \t epsilon: 0.030357720315821016\n",
            "episode: 458 / 1000 \t mean score: -124.86175809520049 \t mean distance: -24.86175809520047 \t mean loss: 18.175444 \t epsilon: 0.030054902055670702\n",
            "episode: 460 / 1000 \t mean score: -121.30262450832376 \t mean distance: -21.302624508323767 \t mean loss: 6.5508995 \t epsilon: 0.02975510440766539\n",
            "episode: 462 / 1000 \t mean score: -122.33129418523329 \t mean distance: -22.331294185233293 \t mean loss: 10.849243 \t epsilon: 0.029458297241198927\n",
            "episode: 464 / 1000 \t mean score: -118.22159078802511 \t mean distance: -18.221590788025107 \t mean loss: 31.661453 \t epsilon: 0.029164450726217966\n",
            "episode: 466 / 1000 \t mean score: -119.54626108988901 \t mean distance: -19.54626108988901 \t mean loss: 23.340965 \t epsilon: 0.028873535330223944\n",
            "episode: 468 / 1000 \t mean score: -121.68199018577019 \t mean distance: -21.681990185770204 \t mean loss: 22.032299 \t epsilon: 0.02858552181530496\n",
            "episode: 470 / 1000 \t mean score: -121.73857140049248 \t mean distance: -21.73857140049246 \t mean loss: 17.636456 \t epsilon: 0.02830038123519729\n",
            "episode: 472 / 1000 \t mean score: -117.95678627546104 \t mean distance: -17.956786275461027 \t mean loss: 16.08699 \t epsilon: 0.0280180849323762\n",
            "episode: 474 / 1000 \t mean score: -116.40058747788083 \t mean distance: -16.400587477880837 \t mean loss: 18.593342 \t epsilon: 0.027738604535175748\n",
            "episode: 476 / 1000 \t mean score: -108.90677432272801 \t mean distance: -8.90677432272802 \t mean loss: 17.117636 \t epsilon: 0.02746191195493737\n",
            "episode: 478 / 1000 \t mean score: -121.45882521320135 \t mean distance: -21.458825213201358 \t mean loss: 13.387067 \t epsilon: 0.02718797938318687\n",
            "episode: 480 / 1000 \t mean score: -121.65310483560215 \t mean distance: -21.653104835602157 \t mean loss: 20.939114 \t epsilon: 0.02691677928883958\n",
            "episode: 482 / 1000 \t mean score: -109.71665417535138 \t mean distance: -9.716654175351373 \t mean loss: 15.987714 \t epsilon: 0.026648284415433404\n",
            "episode: 484 / 1000 \t mean score: -98.09937411539474 \t mean distance: 1.9006258846052606 \t mean loss: 15.278666 \t epsilon: 0.026382467778389457\n",
            "episode: 486 / 1000 \t mean score: -101.98538086688892 \t mean distance: -1.9853808668889124 \t mean loss: 17.65641 \t epsilon: 0.02611930266230002\n",
            "episode: 488 / 1000 \t mean score: -97.74007716902004 \t mean distance: 2.259922830979962 \t mean loss: 21.859932 \t epsilon: 0.02585876261824358\n",
            "episode: 490 / 1000 \t mean score: -98.9941090584596 \t mean distance: 1.0058909415403978 \t mean loss: 15.574405 \t epsilon: 0.025600821461126598\n",
            "episode: 492 / 1000 \t mean score: -101.30838270521227 \t mean distance: -1.3083827052122587 \t mean loss: 18.741808 \t epsilon: 0.02534545326705186\n",
            "episode: 494 / 1000 \t mean score: -100.26781187139296 \t mean distance: -0.26781187139296536 \t mean loss: 19.89688 \t epsilon: 0.025092632370713016\n",
            "episode: 496 / 1000 \t mean score: -121.63591634873518 \t mean distance: -21.635916348735186 \t mean loss: 4.2609177 \t epsilon: 0.024842333362815154\n",
            "episode: 498 / 1000 \t mean score: -109.4220647478858 \t mean distance: -9.422064747885793 \t mean loss: 18.559687 \t epsilon: 0.024594531087521073\n",
            "episode: 500 / 1000 \t mean score: -121.28026878258896 \t mean distance: -21.280268782588966 \t mean loss: 21.490788 \t epsilon: 0.02434920063992305\n",
            "episode: 502 / 1000 \t mean score: -121.27601745979177 \t mean distance: -21.276017459791774 \t mean loss: 11.346795 \t epsilon: 0.024106317363539815\n",
            "episode: 504 / 1000 \t mean score: -122.55818501331937 \t mean distance: -22.55818501331937 \t mean loss: 13.943468 \t epsilon: 0.023865856847838506\n",
            "episode: 506 / 1000 \t mean score: -121.98494003710618 \t mean distance: -21.984940037106178 \t mean loss: 24.478645 \t epsilon: 0.023627794925781317\n",
            "episode: 508 / 1000 \t mean score: -120.0360370788922 \t mean distance: -20.036037078892207 \t mean loss: 9.978274 \t epsilon: 0.02339210767139665\n",
            "episode: 510 / 1000 \t mean score: -122.77732204183191 \t mean distance: -22.777322041831916 \t mean loss: 21.792961 \t epsilon: 0.02315877139737447\n",
            "episode: 512 / 1000 \t mean score: -125.36990510826124 \t mean distance: -25.36990510826123 \t mean loss: 15.870033 \t epsilon: 0.022927762652685656\n",
            "episode: 514 / 1000 \t mean score: -123.75595744522818 \t mean distance: -23.75595744522817 \t mean loss: 20.494274 \t epsilon: 0.022699058220225117\n",
            "episode: 516 / 1000 \t mean score: -124.07089443405471 \t mean distance: -24.0708944340547 \t mean loss: 15.232838 \t epsilon: 0.022472635114478372\n",
            "episode: 518 / 1000 \t mean score: -119.11456027038118 \t mean distance: -19.114560270381176 \t mean loss: 22.998158 \t epsilon: 0.022248470579211452\n",
            "episode: 520 / 1000 \t mean score: -122.35375873705465 \t mean distance: -22.353758737054655 \t mean loss: 17.583826 \t epsilon: 0.022026542085183818\n",
            "episode: 522 / 1000 \t mean score: -123.72580904398205 \t mean distance: -23.725809043982053 \t mean loss: 20.748234 \t epsilon: 0.02180682732788411\n",
            "episode: 524 / 1000 \t mean score: -112.0630849697146 \t mean distance: -12.063084969714595 \t mean loss: 20.3836 \t epsilon: 0.021589304225288465\n",
            "episode: 526 / 1000 \t mean score: -109.82690833024277 \t mean distance: -9.826908330242773 \t mean loss: 21.172665 \t epsilon: 0.021373950915641215\n",
            "episode: 528 / 1000 \t mean score: -100.85193746208058 \t mean distance: -0.8519374620805809 \t mean loss: 25.343027 \t epsilon: 0.021160745755257695\n",
            "episode: 530 / 1000 \t mean score: -111.09346023674246 \t mean distance: -11.093460236742464 \t mean loss: 16.082851 \t epsilon: 0.020949667316349\n",
            "episode: 532 / 1000 \t mean score: -102.15026832873963 \t mean distance: -2.1502683287396387 \t mean loss: 28.862532 \t epsilon: 0.020740694384868422\n",
            "episode: 534 / 1000 \t mean score: -100.32622628373217 \t mean distance: -0.3262262837321668 \t mean loss: 20.264374 \t epsilon: 0.020533805958379357\n",
            "episode: 536 / 1000 \t mean score: -113.4819722926241 \t mean distance: -13.481972292624109 \t mean loss: 12.0683365 \t epsilon: 0.020328981243944524\n",
            "episode: 538 / 1000 \t mean score: -116.55558881334773 \t mean distance: -16.55558881334774 \t mean loss: 23.082438 \t epsilon: 0.020126199656036178\n",
            "episode: 540 / 1000 \t mean score: -120.89119514379838 \t mean distance: -20.89119514379838 \t mean loss: 12.940784 \t epsilon: 0.019925440814467215\n",
            "episode: 542 / 1000 \t mean score: -123.28239999204037 \t mean distance: -23.282399992040368 \t mean loss: 22.955973 \t epsilon: 0.019726684542342904\n",
            "episode: 544 / 1000 \t mean score: -122.1669135788496 \t mean distance: -22.166913578849602 \t mean loss: 17.30202 \t epsilon: 0.019529910864033034\n",
            "episode: 546 / 1000 \t mean score: -122.9254179734175 \t mean distance: -22.92541797341749 \t mean loss: 15.398776 \t epsilon: 0.019335100003164307\n",
            "episode: 548 / 1000 \t mean score: -121.78669078072565 \t mean distance: -21.78669078072565 \t mean loss: 16.779272 \t epsilon: 0.019142232380632743\n",
            "episode: 550 / 1000 \t mean score: -122.27630230754986 \t mean distance: -22.276302307549855 \t mean loss: 16.245632 \t epsilon: 0.01895128861263593\n",
            "episode: 552 / 1000 \t mean score: -120.47562611592531 \t mean distance: -20.475626115925316 \t mean loss: 17.638134 \t epsilon: 0.018762249508724887\n",
            "episode: 554 / 1000 \t mean score: -125.1406253537933 \t mean distance: -25.140625353793304 \t mean loss: 23.504026 \t epsilon: 0.018575096069875358\n",
            "episode: 556 / 1000 \t mean score: -122.77769976220499 \t mean distance: -22.77769976220499 \t mean loss: 16.063559 \t epsilon: 0.01838980948657835\n",
            "episode: 558 / 1000 \t mean score: -122.4434067954294 \t mean distance: -22.443406795429397 \t mean loss: 20.065088 \t epsilon: 0.018206371136949732\n",
            "episode: 560 / 1000 \t mean score: -123.35533334772632 \t mean distance: -23.355333347726315 \t mean loss: 28.456104 \t epsilon: 0.01802476258485866\n",
            "episode: 562 / 1000 \t mean score: -112.2849219997519 \t mean distance: -12.284921999751893 \t mean loss: 22.834066 \t epsilon: 0.017844965578074693\n",
            "episode: 564 / 1000 \t mean score: -101.1811322699661 \t mean distance: -1.1811322699660929 \t mean loss: 11.838898 \t epsilon: 0.017666962046433397\n",
            "episode: 566 / 1000 \t mean score: -98.89260485271613 \t mean distance: 1.1073951472838686 \t mean loss: 10.725548 \t epsilon: 0.017490734100020222\n",
            "episode: 568 / 1000 \t mean score: -99.60136233472824 \t mean distance: 0.39863766527175726 \t mean loss: 27.339664 \t epsilon: 0.01731626402737252\n",
            "episode: 570 / 1000 \t mean score: -112.22361954544982 \t mean distance: -12.223619545449822 \t mean loss: 25.566635 \t epsilon: 0.017143534293699476\n",
            "episode: 572 / 1000 \t mean score: -98.90537898989115 \t mean distance: 1.0946210101088485 \t mean loss: 16.904488 \t epsilon: 0.016972527539119823\n",
            "episode: 574 / 1000 \t mean score: -98.97874783647805 \t mean distance: 1.021252163521945 \t mean loss: 13.820655 \t epsilon: 0.016803226576917102\n",
            "episode: 576 / 1000 \t mean score: -99.68874237716696 \t mean distance: 0.31125762283305114 \t mean loss: 15.192459 \t epsilon: 0.016635614391812353\n",
            "episode: 578 / 1000 \t mean score: -102.70484379882055 \t mean distance: -2.7048437988205523 \t mean loss: 18.504042 \t epsilon: 0.016469674138254023\n",
            "episode: 580 / 1000 \t mean score: -102.54828459581981 \t mean distance: -2.548284595819814 \t mean loss: 23.554085 \t epsilon: 0.01630538913872494\n",
            "episode: 582 / 1000 \t mean score: -103.12635652601844 \t mean distance: -3.1263565260184314 \t mean loss: 23.748232 \t epsilon: 0.016142742882066158\n",
            "episode: 584 / 1000 \t mean score: -102.65779287005898 \t mean distance: -2.657792870058989 \t mean loss: 11.1774435 \t epsilon: 0.015981719021817546\n",
            "episode: 586 / 1000 \t mean score: -101.97013395678655 \t mean distance: -1.9701339567865581 \t mean loss: 15.568348 \t epsilon: 0.015822301374574917\n",
            "episode: 588 / 1000 \t mean score: -102.33761228651926 \t mean distance: -2.3376122865192617 \t mean loss: 30.301468 \t epsilon: 0.015664473918363533\n",
            "episode: 590 / 1000 \t mean score: -101.61367382448353 \t mean distance: -1.6136738244835311 \t mean loss: 13.699096 \t epsilon: 0.015508220791027856\n",
            "episode: 592 / 1000 \t mean score: -97.83158291802276 \t mean distance: 2.168417081977238 \t mean loss: 19.832582 \t epsilon: 0.015353526288637351\n",
            "episode: 594 / 1000 \t mean score: -99.23091255171474 \t mean distance: 0.7690874482852699 \t mean loss: 16.770971 \t epsilon: 0.015200374863908194\n",
            "episode: 596 / 1000 \t mean score: -99.97105274992063 \t mean distance: 0.02894725007936083 \t mean loss: 17.407267 \t epsilon: 0.01504875112464071\n",
            "episode: 598 / 1000 \t mean score: -103.37695197884335 \t mean distance: -3.3769519788433504 \t mean loss: 18.802366 \t epsilon: 0.01489863983217242\n",
            "episode: 600 / 1000 \t mean score: -113.31403704820573 \t mean distance: -13.314037048205728 \t mean loss: 15.209071 \t epsilon: 0.0147500258998465\n",
            "episode: 602 / 1000 \t mean score: -99.1903142041713 \t mean distance: 0.8096857958286977 \t mean loss: 22.99174 \t epsilon: 0.01460289439149553\n",
            "episode: 604 / 1000 \t mean score: -98.88235416720187 \t mean distance: 1.1176458327981305 \t mean loss: 13.865811 \t epsilon: 0.014457230519940361\n",
            "episode: 606 / 1000 \t mean score: -101.43655771098162 \t mean distance: -1.4365577109816186 \t mean loss: 19.163445 \t epsilon: 0.014313019645503957\n",
            "episode: 608 / 1000 \t mean score: -99.482280947693 \t mean distance: 0.5177190523069946 \t mean loss: 14.575813 \t epsilon: 0.014170247274540056\n",
            "episode: 610 / 1000 \t mean score: -99.82055336934172 \t mean distance: 0.17944663065827077 \t mean loss: 22.324036 \t epsilon: 0.014028899057976519\n",
            "episode: 612 / 1000 \t mean score: -99.87769364442987 \t mean distance: 0.12230635557013023 \t mean loss: 26.975317 \t epsilon: 0.013888960789873202\n",
            "episode: 614 / 1000 \t mean score: -98.75911860559913 \t mean distance: 1.2408813944008794 \t mean loss: 21.009441 \t epsilon: 0.013750418405994218\n",
            "episode: 616 / 1000 \t mean score: -98.90176367537802 \t mean distance: 1.0982363246219826 \t mean loss: 14.780488 \t epsilon: 0.013613257982394426\n",
            "episode: 618 / 1000 \t mean score: -102.0708698920592 \t mean distance: -2.070869892059207 \t mean loss: 18.370623 \t epsilon: 0.013477465734020042\n",
            "episode: 620 / 1000 \t mean score: -99.11144965398219 \t mean distance: 0.8885503460178139 \t mean loss: 15.3482 \t epsilon: 0.013343028013323191\n",
            "episode: 622 / 1000 \t mean score: -102.1052389382422 \t mean distance: -2.1052389382421994 \t mean loss: 10.829614 \t epsilon: 0.013209931308890291\n",
            "episode: 624 / 1000 \t mean score: -100.61578931077167 \t mean distance: -0.615789310771666 \t mean loss: 21.067533 \t epsilon: 0.013078162244084111\n",
            "episode: 626 / 1000 \t mean score: -98.6930098180004 \t mean distance: 1.306990181999587 \t mean loss: 24.688143 \t epsilon: 0.012947707575699371\n",
            "episode: 628 / 1000 \t mean score: -99.91933092788793 \t mean distance: 0.08066907211206553 \t mean loss: 29.54483 \t epsilon: 0.01281855419263177\n",
            "episode: 630 / 1000 \t mean score: -99.33513399537466 \t mean distance: 0.6648660046253344 \t mean loss: 24.132835 \t epsilon: 0.012690689114560267\n",
            "episode: 632 / 1000 \t mean score: -98.74430836509231 \t mean distance: 1.2556916349076945 \t mean loss: 17.437698 \t epsilon: 0.012564099490642529\n",
            "episode: 634 / 1000 \t mean score: -98.62412218561272 \t mean distance: 1.3758778143872785 \t mean loss: 24.267687 \t epsilon: 0.012438772598223369\n",
            "episode: 636 / 1000 \t mean score: -98.62888395242611 \t mean distance: 1.3711160475738926 \t mean loss: 14.549136 \t epsilon: 0.012314695841556091\n",
            "episode: 638 / 1000 \t mean score: -99.50610432983842 \t mean distance: 0.4938956701615797 \t mean loss: 21.868208 \t epsilon: 0.01219185675053657\n",
            "episode: 640 / 1000 \t mean score: -98.63409043444011 \t mean distance: 1.3659095655598956 \t mean loss: 17.984531 \t epsilon: 0.012070242979449967\n",
            "episode: 642 / 1000 \t mean score: -98.98814805510702 \t mean distance: 1.0118519448929735 \t mean loss: 23.026978 \t epsilon: 0.011949842305729954\n",
            "episode: 644 / 1000 \t mean score: -99.01016255319087 \t mean distance: 0.9898374468091253 \t mean loss: 28.69184 \t epsilon: 0.011830642628730298\n",
            "episode: 646 / 1000 \t mean score: -112.12917815385511 \t mean distance: -12.129178153855111 \t mean loss: 24.302713 \t epsilon: 0.011712631968508714\n",
            "episode: 648 / 1000 \t mean score: -98.9164259366244 \t mean distance: 1.083574063375588 \t mean loss: 7.307025 \t epsilon: 0.01159579846462284\n",
            "episode: 650 / 1000 \t mean score: -98.89060519283078 \t mean distance: 1.1093948071692132 \t mean loss: 27.552402 \t epsilon: 0.011480130374938226\n",
            "episode: 652 / 1000 \t mean score: -99.2726497221915 \t mean distance: 0.7273502778084945 \t mean loss: 20.319736 \t epsilon: 0.011365616074448219\n",
            "episode: 654 / 1000 \t mean score: -99.19210780154603 \t mean distance: 0.8078921984539662 \t mean loss: 13.603681 \t epsilon: 0.011252244054105597\n",
            "episode: 656 / 1000 \t mean score: -98.85580454806083 \t mean distance: 1.144195451939165 \t mean loss: 8.684131 \t epsilon: 0.011140002919665893\n",
            "episode: 658 / 1000 \t mean score: -98.8582748779251 \t mean distance: 1.1417251220749054 \t mean loss: 8.9799185 \t epsilon: 0.011028881390542226\n",
            "episode: 660 / 1000 \t mean score: -98.56614361740029 \t mean distance: 1.433856382599719 \t mean loss: 11.491613 \t epsilon: 0.010918868298671567\n",
            "episode: 662 / 1000 \t mean score: -98.60309315090907 \t mean distance: 1.3969068490909378 \t mean loss: 15.758373 \t epsilon: 0.010809952587392318\n",
            "episode: 664 / 1000 \t mean score: -98.57243082108752 \t mean distance: 1.4275691789124738 \t mean loss: 12.791427 \t epsilon: 0.01070212331033308\n",
            "episode: 666 / 1000 \t mean score: -99.43604056744154 \t mean distance: 0.5639594325584646 \t mean loss: 22.522541 \t epsilon: 0.010595369630312507\n",
            "episode: 668 / 1000 \t mean score: -100.12844965482317 \t mean distance: -0.1284496548231705 \t mean loss: 21.403658 \t epsilon: 0.01048968081825014\n",
            "episode: 670 / 1000 \t mean score: -98.93283351404563 \t mean distance: 1.0671664859543812 \t mean loss: 18.935806 \t epsilon: 0.010385046252088095\n",
            "episode: 672 / 1000 \t mean score: -98.49421803181525 \t mean distance: 1.5057819681847415 \t mean loss: 15.492613 \t epsilon: 0.010281455415723516\n",
            "episode: 674 / 1000 \t mean score: -98.63239106080434 \t mean distance: 1.3676089391956683 \t mean loss: 11.076241 \t epsilon: 0.010178897897951676\n",
            "episode: 676 / 1000 \t mean score: -111.17666747564576 \t mean distance: -11.176667475645747 \t mean loss: 23.619968 \t epsilon: 0.010077363391419607\n",
            "episode: 678 / 1000 \t mean score: -98.68691284366076 \t mean distance: 1.3130871563392357 \t mean loss: 21.926565 \t epsilon: 0.009976841691590197\n",
            "episode: 680 / 1000 \t mean score: -98.6030406550849 \t mean distance: 1.3969593449151105 \t mean loss: 17.02082 \t epsilon: 0.009877322695716584\n",
            "episode: 682 / 1000 \t mean score: -98.6548850897681 \t mean distance: 1.345114910231902 \t mean loss: 11.508209 \t epsilon: 0.009778796401826812\n",
            "episode: 684 / 1000 \t mean score: -98.95215359711182 \t mean distance: 1.047846402888184 \t mean loss: 21.836819 \t epsilon: 0.009681252907718589\n",
            "episode: 686 / 1000 \t mean score: -98.90081311674851 \t mean distance: 1.0991868832514915 \t mean loss: 16.162298 \t epsilon: 0.009584682409964096\n",
            "episode: 688 / 1000 \t mean score: -99.30412615408284 \t mean distance: 0.6958738459171705 \t mean loss: 32.135456 \t epsilon: 0.009489075202924704\n",
            "episode: 690 / 1000 \t mean score: -99.0375887148725 \t mean distance: 0.9624112851275106 \t mean loss: 13.39738 \t epsilon: 0.00939442167777553\n",
            "episode: 692 / 1000 \t mean score: -99.13627845078707 \t mean distance: 0.8637215492129287 \t mean loss: 20.014791 \t epsilon: 0.00930071232153972\n",
            "episode: 694 / 1000 \t mean score: -98.87277123856947 \t mean distance: 1.1272287614305183 \t mean loss: 21.713158 \t epsilon: 0.00920793771613236\n",
            "episode: 696 / 1000 \t mean score: -99.18663059035131 \t mean distance: 0.8133694096486976 \t mean loss: 27.67712 \t epsilon: 0.009116088537413938\n",
            "episode: 698 / 1000 \t mean score: -98.92600744074056 \t mean distance: 1.0739925592594457 \t mean loss: 29.564358 \t epsilon: 0.009025155554253234\n",
            "episode: 700 / 1000 \t mean score: -98.78800671496211 \t mean distance: 1.2119932850378852 \t mean loss: 18.861263 \t epsilon: 0.008935129627599557\n",
            "episode: 702 / 1000 \t mean score: -99.28723493059786 \t mean distance: 0.712765069402129 \t mean loss: 13.336186 \t epsilon: 0.008846001709564252\n",
            "episode: 704 / 1000 \t mean score: -98.68139228067548 \t mean distance: 1.3186077193245256 \t mean loss: 23.540888 \t epsilon: 0.008757762842511348\n",
            "episode: 706 / 1000 \t mean score: -98.56290319357814 \t mean distance: 1.4370968064218723 \t mean loss: 24.53184 \t epsilon: 0.008670404158157298\n",
            "episode: 708 / 1000 \t mean score: -98.67106506528427 \t mean distance: 1.3289349347157369 \t mean loss: 22.685965 \t epsilon: 0.008583916876679679\n",
            "episode: 710 / 1000 \t mean score: -98.55727991271019 \t mean distance: 1.4427200872898067 \t mean loss: 41.682045 \t epsilon: 0.0084982923058348\n",
            "episode: 712 / 1000 \t mean score: -99.56775361608123 \t mean distance: 0.43224638391875747 \t mean loss: 28.9286 \t epsilon: 0.008413521840084096\n",
            "episode: 714 / 1000 \t mean score: -98.49929841270671 \t mean distance: 1.5007015872932918 \t mean loss: 23.305372 \t epsilon: 0.008329596959729258\n",
            "episode: 716 / 1000 \t mean score: -98.59212752999366 \t mean distance: 1.4078724700063432 \t mean loss: 23.059242 \t epsilon: 0.00824650923005596\n",
            "episode: 718 / 1000 \t mean score: -100.54939188117534 \t mean distance: -0.5493918811753422 \t mean loss: 16.572172 \t epsilon: 0.008164250300486151\n",
            "episode: 720 / 1000 \t mean score: -99.08030264784179 \t mean distance: 0.9196973521582116 \t mean loss: 26.192228 \t epsilon: 0.008082811903738801\n",
            "episode: 722 / 1000 \t mean score: -98.66037326918574 \t mean distance: 1.3396267308142606 \t mean loss: 24.944363 \t epsilon: 0.008002185854999006\n",
            "episode: 724 / 1000 \t mean score: -99.4354207350618 \t mean distance: 0.5645792649382089 \t mean loss: 25.921337 \t epsilon: 0.00792236405109539\n",
            "episode: 726 / 1000 \t mean score: -98.91155228514225 \t mean distance: 1.088447714857755 \t mean loss: 24.365963 \t epsilon: 0.007843338469685714\n",
            "episode: 728 / 1000 \t mean score: -98.93352390977617 \t mean distance: 1.0664760902238373 \t mean loss: 21.138763 \t epsilon: 0.007765101168450599\n",
            "episode: 730 / 1000 \t mean score: -98.96949421793254 \t mean distance: 1.0305057820674641 \t mean loss: 18.984278 \t epsilon: 0.007687644284295305\n",
            "episode: 732 / 1000 \t mean score: -99.27643317767325 \t mean distance: 0.72356682232674 \t mean loss: 19.464117 \t epsilon: 0.0076109600325594585\n",
            "episode: 734 / 1000 \t mean score: -98.70007347776617 \t mean distance: 1.2999265222338323 \t mean loss: 30.915438 \t epsilon: 0.007535040706234678\n",
            "episode: 736 / 1000 \t mean score: -98.85159869709705 \t mean distance: 1.1484013029029554 \t mean loss: 16.788046 \t epsilon: 0.007459878675189987\n",
            "episode: 738 / 1000 \t mean score: -99.19789623340344 \t mean distance: 0.8021037665965645 \t mean loss: 20.372614 \t epsilon: 0.007385466385404967\n",
            "episode: 740 / 1000 \t mean score: -99.36822890204719 \t mean distance: 0.6317710979528108 \t mean loss: 17.656574 \t epsilon: 0.007311796358210552\n",
            "episode: 742 / 1000 \t mean score: -98.70340556457793 \t mean distance: 1.2965944354220573 \t mean loss: 30.384161 \t epsilon: 0.0072388611895374015\n",
            "episode: 744 / 1000 \t mean score: -98.61930141998145 \t mean distance: 1.3806985800185505 \t mean loss: 17.675282 \t epsilon: 0.007166653549171766\n",
            "episode: 746 / 1000 \t mean score: -98.7288079209933 \t mean distance: 1.2711920790066908 \t mean loss: 13.992983 \t epsilon: 0.007095166180018777\n",
            "episode: 748 / 1000 \t mean score: -98.58841935284437 \t mean distance: 1.4115806471556391 \t mean loss: 28.304752 \t epsilon: 0.0070243918973730895\n",
            "episode: 750 / 1000 \t mean score: -98.69985888017963 \t mean distance: 1.3001411198203732 \t mean loss: 23.72248 \t epsilon: 0.006954323588196793\n",
            "episode: 752 / 1000 \t mean score: -99.14402620743465 \t mean distance: 0.8559737925653619 \t mean loss: 18.7091 \t epsilon: 0.006884954210404529\n",
            "episode: 754 / 1000 \t mean score: -99.12743088051181 \t mean distance: 0.8725691194881955 \t mean loss: 30.486494 \t epsilon: 0.006816276792155744\n",
            "episode: 756 / 1000 \t mean score: -98.6020030640432 \t mean distance: 1.397996935956797 \t mean loss: 19.703884 \t epsilon: 0.00674828443115399\n",
            "episode: 758 / 1000 \t mean score: -98.8324870480656 \t mean distance: 1.1675129519343976 \t mean loss: 17.386913 \t epsilon: 0.006680970293953229\n",
            "episode: 760 / 1000 \t mean score: -98.71230637028255 \t mean distance: 1.2876936297174508 \t mean loss: 22.733738 \t epsilon: 0.006614327615271046\n",
            "episode: 762 / 1000 \t mean score: -98.70483327518932 \t mean distance: 1.295166724810683 \t mean loss: 26.591846 \t epsilon: 0.006548349697308716\n",
            "episode: 764 / 1000 \t mean score: -98.93332157812112 \t mean distance: 1.0666784218788739 \t mean loss: 8.519152 \t epsilon: 0.0064830299090780615\n",
            "episode: 766 / 1000 \t mean score: -99.13621754467363 \t mean distance: 0.8637824553263667 \t mean loss: 14.602015 \t epsilon: 0.006418361685735008\n",
            "episode: 768 / 1000 \t mean score: -98.98578154710184 \t mean distance: 1.0142184528981628 \t mean loss: 20.241264 \t epsilon: 0.006354338527919801\n",
            "episode: 770 / 1000 \t mean score: -99.04645420561856 \t mean distance: 0.9535457943814468 \t mean loss: 15.836237 \t epsilon: 0.006290954001103801\n",
            "episode: 772 / 1000 \t mean score: -99.24282663670058 \t mean distance: 0.7571733632994162 \t mean loss: 22.602242 \t epsilon: 0.006228201734942791\n",
            "episode: 774 / 1000 \t mean score: -98.98884454732357 \t mean distance: 1.0111554526764246 \t mean loss: 22.249607 \t epsilon: 0.006166075422636736\n",
            "episode: 776 / 1000 \t mean score: -98.89325332875488 \t mean distance: 1.10674667124512 \t mean loss: 14.324584 \t epsilon: 0.006104568820295935\n",
            "episode: 778 / 1000 \t mean score: -98.87350312854288 \t mean distance: 1.1264968714571235 \t mean loss: 19.565151 \t epsilon: 0.006043675746313483\n",
            "episode: 780 / 1000 \t mean score: -98.98180277199143 \t mean distance: 1.0181972280085678 \t mean loss: 16.11481 \t epsilon: 0.005983390080744007\n",
            "episode: 782 / 1000 \t mean score: -98.78352333833588 \t mean distance: 1.2164766616641196 \t mean loss: 15.731323 \t epsilon: 0.0059237057646885855\n",
            "episode: 784 / 1000 \t mean score: -98.64916454480061 \t mean distance: 1.3508354551993889 \t mean loss: 26.726135 \t epsilon: 0.005864616799685817\n",
            "episode: 786 / 1000 \t mean score: -98.57721102306247 \t mean distance: 1.4227889769375288 \t mean loss: 15.559412 \t epsilon: 0.005806117247108951\n",
            "episode: 788 / 1000 \t mean score: -98.74919260412952 \t mean distance: 1.2508073958704828 \t mean loss: 18.598423 \t epsilon: 0.005748201227569039\n",
            "episode: 790 / 1000 \t mean score: -99.48775843590064 \t mean distance: 0.5122415640993626 \t mean loss: 13.744121 \t epsilon: 0.005690862920324038\n",
            "episode: 792 / 1000 \t mean score: -98.6176043720857 \t mean distance: 1.382395627914304 \t mean loss: 20.089329 \t epsilon: 0.0056340965626938055\n",
            "episode: 794 / 1000 \t mean score: -98.5108514314803 \t mean distance: 1.489148568519697 \t mean loss: 18.350912 \t epsilon: 0.005577896449480935\n",
            "episode: 796 / 1000 \t mean score: -99.44310156637586 \t mean distance: 0.5568984336241434 \t mean loss: 24.489075 \t epsilon: 0.005522256932397362\n",
            "episode: 798 / 1000 \t mean score: -98.6162640109888 \t mean distance: 1.3837359890112004 \t mean loss: 28.399115 \t epsilon: 0.005467172419496698\n",
            "episode: 800 / 1000 \t mean score: -98.67752443171915 \t mean distance: 1.322475568280861 \t mean loss: 23.301405 \t epsilon: 0.0054126373746122185\n",
            "episode: 802 / 1000 \t mean score: -98.68212918084426 \t mean distance: 1.317870819155746 \t mean loss: 18.375633 \t epsilon: 0.005358646316800462\n",
            "episode: 804 / 1000 \t mean score: -98.89666878255643 \t mean distance: 1.1033312174435683 \t mean loss: 13.522392 \t epsilon: 0.005305193819790377\n",
            "episode: 806 / 1000 \t mean score: -99.29207510183286 \t mean distance: 0.7079248981671384 \t mean loss: 15.255013 \t epsilon: 0.005252274511437968\n",
            "episode: 808 / 1000 \t mean score: -98.90376222398908 \t mean distance: 1.0962377760109152 \t mean loss: 31.753296 \t epsilon: 0.005199883073186374\n",
            "episode: 810 / 1000 \t mean score: -99.04488413438729 \t mean distance: 0.9551158656127096 \t mean loss: 12.158178 \t epsilon: 0.0051480142395313394\n",
            "episode: 812 / 1000 \t mean score: -98.94764262000191 \t mean distance: 1.052357379998078 \t mean loss: 11.1135025 \t epsilon: 0.005096662797492014\n",
            "episode: 814 / 1000 \t mean score: -99.03631372038959 \t mean distance: 0.9636862796104191 \t mean loss: 12.52335 \t epsilon: 0.005045823586087032\n",
            "episode: 816 / 1000 \t mean score: -98.98984327582829 \t mean distance: 1.0101567241717109 \t mean loss: 12.334974 \t epsilon: 0.004995491495815813\n",
            "episode: 818 / 1000 \t mean score: -98.90069940571207 \t mean distance: 1.0993005942879241 \t mean loss: 19.031027 \t epsilon: 0.004945661468145051\n",
            "episode: 820 / 1000 \t mean score: -98.9266146385766 \t mean distance: 1.0733853614234046 \t mean loss: 24.157478 \t epsilon: 0.004896328495000304\n",
            "episode: 822 / 1000 \t mean score: -98.87442189165391 \t mean distance: 1.1255781083460876 \t mean loss: 19.48452 \t epsilon: 0.004847487618262676\n",
            "episode: 824 / 1000 \t mean score: -100.2709303335771 \t mean distance: -0.2709303335771014 \t mean loss: 13.17858 \t epsilon: 0.004799133929270506\n",
            "episode: 826 / 1000 \t mean score: -98.6247466899585 \t mean distance: 1.3752533100415005 \t mean loss: 16.990038 \t epsilon: 0.004751262568326032\n",
            "episode: 828 / 1000 \t mean score: -99.83718850608015 \t mean distance: 0.16281149391984823 \t mean loss: 21.727987 \t epsilon: 0.00470386872420698\n",
            "episode: 830 / 1000 \t mean score: -99.2215376990155 \t mean distance: 0.7784623009844968 \t mean loss: 19.393106 \t epsilon: 0.004656947633683016\n",
            "episode: 832 / 1000 \t mean score: -98.6158172111179 \t mean distance: 1.3841827888820917 \t mean loss: 25.406681 \t epsilon: 0.004610494581037027\n",
            "episode: 834 / 1000 \t mean score: -98.57638225019102 \t mean distance: 1.4236177498089728 \t mean loss: 15.324216 \t epsilon: 0.004564504897591182\n",
            "episode: 836 / 1000 \t mean score: -98.58285274541564 \t mean distance: 1.4171472545843555 \t mean loss: 36.443916 \t epsilon: 0.00451897396123771\n",
            "episode: 838 / 1000 \t mean score: -98.62767188874477 \t mean distance: 1.372328111255227 \t mean loss: 31.945139 \t epsilon: 0.004473897195974364\n",
            "episode: 840 / 1000 \t mean score: -99.5934445115598 \t mean distance: 0.4065554884402053 \t mean loss: 23.632751 \t epsilon: 0.004429270071444519\n",
            "episode: 842 / 1000 \t mean score: -98.79541948171395 \t mean distance: 1.204580518286052 \t mean loss: 20.550606 \t epsilon: 0.00438508810248186\n",
            "episode: 844 / 1000 \t mean score: -98.95175057882784 \t mean distance: 1.0482494211721527 \t mean loss: 22.666912 \t epsilon: 0.004341346848659604\n",
            "episode: 846 / 1000 \t mean score: -98.82636637793264 \t mean distance: 1.1736336220673578 \t mean loss: 18.393541 \t epsilon: 0.004298041913844224\n",
            "episode: 848 / 1000 \t mean score: -98.9594366864801 \t mean distance: 1.0405633135198908 \t mean loss: 17.661703 \t epsilon: 0.0042551689457536275\n",
            "episode: 850 / 1000 \t mean score: -99.00489925390637 \t mean distance: 0.9951007460936248 \t mean loss: 14.458421 \t epsilon: 0.004212723635519735\n",
            "episode: 852 / 1000 \t mean score: -98.9844737623722 \t mean distance: 1.0155262376278 \t mean loss: 16.380274 \t epsilon: 0.004170701717255426\n",
            "episode: 854 / 1000 \t mean score: -98.93178472919452 \t mean distance: 1.0682152708054815 \t mean loss: 24.445557 \t epsilon: 0.004129098967625804\n",
            "episode: 856 / 1000 \t mean score: -98.8987075759548 \t mean distance: 1.10129242404519 \t mean loss: 22.079714 \t epsilon: 0.004087911205423736\n",
            "episode: 858 / 1000 \t mean score: -98.9535904225617 \t mean distance: 1.0464095774382947 \t mean loss: 22.185081 \t epsilon: 0.004047134291149634\n",
            "episode: 860 / 1000 \t mean score: -98.95863741539605 \t mean distance: 1.0413625846039483 \t mean loss: 17.47151 \t epsilon: 0.004006764126595416\n",
            "episode: 862 / 1000 \t mean score: -98.95144409418913 \t mean distance: 1.048555905810866 \t mean loss: 27.64841 \t epsilon: 0.003966796654432626\n",
            "episode: 864 / 1000 \t mean score: -98.81052416458664 \t mean distance: 1.1894758354133599 \t mean loss: 23.985611 \t epsilon: 0.003927227857804661\n",
            "episode: 866 / 1000 \t mean score: -111.80933505769323 \t mean distance: -11.80933505769323 \t mean loss: 12.301916 \t epsilon: 0.0038880537599230596\n",
            "episode: 868 / 1000 \t mean score: -98.63624753318416 \t mean distance: 1.3637524668158312 \t mean loss: 23.363234 \t epsilon: 0.003849270423667827\n",
            "episode: 870 / 1000 \t mean score: -98.438640272613 \t mean distance: 1.5613597273870035 \t mean loss: 29.072992 \t epsilon: 0.00381087395119174\n",
            "episode: 872 / 1000 \t mean score: -98.5910002155748 \t mean distance: 1.408999784425207 \t mean loss: 20.383656 \t epsilon: 0.003772860483528603\n",
            "episode: 874 / 1000 \t mean score: -99.49060264076354 \t mean distance: 0.5093973592364504 \t mean loss: 19.41602 \t epsilon: 0.003735226200205405\n",
            "episode: 876 / 1000 \t mean score: -100.26803056481418 \t mean distance: -0.2680305648141884 \t mean loss: 22.439304 \t epsilon: 0.0036979673188583563\n",
            "episode: 878 / 1000 \t mean score: -98.53390230643998 \t mean distance: 1.4660976935600203 \t mean loss: 39.336433 \t epsilon: 0.0036610800948527443\n",
            "episode: 880 / 1000 \t mean score: -103.14076103860731 \t mean distance: -3.140761038607299 \t mean loss: 19.50287 \t epsilon: 0.003624560820906588\n",
            "episode: 882 / 1000 \t mean score: -101.17119723077056 \t mean distance: -1.1711972307705658 \t mean loss: 18.024141 \t epsilon: 0.0035884058267180445\n",
            "episode: 884 / 1000 \t mean score: -98.84703308567529 \t mean distance: 1.1529669143247099 \t mean loss: 21.415525 \t epsilon: 0.0035526114785965324\n",
            "episode: 886 / 1000 \t mean score: -101.82316889440952 \t mean distance: -1.823168894409513 \t mean loss: 25.311243 \t epsilon: 0.003517174179097532\n",
            "episode: 888 / 1000 \t mean score: -99.25731339311444 \t mean distance: 0.742686606885554 \t mean loss: 8.128794 \t epsilon: 0.003482090366661034\n",
            "episode: 890 / 1000 \t mean score: -99.00018357155503 \t mean distance: 0.9998164284449662 \t mean loss: 29.279442 \t epsilon: 0.00344735651525359\n",
            "episode: 892 / 1000 \t mean score: -98.83412271213282 \t mean distance: 1.165877287867166 \t mean loss: 17.305084 \t epsilon: 0.0034129691340139354\n",
            "episode: 894 / 1000 \t mean score: -99.88832666518167 \t mean distance: 0.11167333481833153 \t mean loss: 27.000896 \t epsilon: 0.003378924766902146\n",
            "episode: 896 / 1000 \t mean score: -98.9431568639207 \t mean distance: 1.056843136079296 \t mean loss: 25.531551 \t epsilon: 0.003345219992352297\n",
            "episode: 898 / 1000 \t mean score: -98.96659735703096 \t mean distance: 1.03340264296904 \t mean loss: 22.732506 \t epsilon: 0.003311851422928583\n",
            "episode: 900 / 1000 \t mean score: -98.91159421284527 \t mean distance: 1.088405787154719 \t mean loss: 18.732225 \t epsilon: 0.00327881570498487\n",
            "episode: 902 / 1000 \t mean score: -98.91491520786502 \t mean distance: 1.0850847921349718 \t mean loss: 16.50622 \t epsilon: 0.003246109518327646\n",
            "episode: 904 / 1000 \t mean score: -98.91312292677506 \t mean distance: 1.086877073224941 \t mean loss: 25.959959 \t epsilon: 0.0032137295758823277\n",
            "episode: 906 / 1000 \t mean score: -98.60822303513189 \t mean distance: 1.391776964868106 \t mean loss: 33.662937 \t epsilon: 0.003181672623362901\n",
            "episode: 908 / 1000 \t mean score: -98.74215896621067 \t mean distance: 1.2578410337893275 \t mean loss: 26.761457 \t epsilon: 0.003149935438944856\n",
            "episode: 910 / 1000 \t mean score: -99.38553406219557 \t mean distance: 0.6144659378044265 \t mean loss: 25.960728 \t epsilon: 0.0031185148329413814\n",
            "episode: 912 / 1000 \t mean score: -98.71661399496533 \t mean distance: 1.2833860050346668 \t mean loss: 17.02992 \t epsilon: 0.003087407647482791\n",
            "episode: 914 / 1000 \t mean score: -98.70223776547518 \t mean distance: 1.2977622345248203 \t mean loss: 19.661472 \t epsilon: 0.00305661075619915\n",
            "episode: 916 / 1000 \t mean score: -98.62241361925317 \t mean distance: 1.3775863807468325 \t mean loss: 27.238058 \t epsilon: 0.0030261210639060637\n",
            "episode: 918 / 1000 \t mean score: -98.60222369596953 \t mean distance: 1.3977763040304783 \t mean loss: 20.001299 \t epsilon: 0.0029959355062936007\n",
            "episode: 920 / 1000 \t mean score: -98.61987523185059 \t mean distance: 1.380124768149415 \t mean loss: 20.672085 \t epsilon: 0.002966051049618322\n",
            "episode: 922 / 1000 \t mean score: -98.79739096461299 \t mean distance: 1.2026090353870103 \t mean loss: 24.108227 \t epsilon: 0.0029364646903983793\n",
            "episode: 924 / 1000 \t mean score: -99.02148696743511 \t mean distance: 0.978513032564891 \t mean loss: 29.071363 \t epsilon: 0.0029071734551116553\n",
            "episode: 926 / 1000 \t mean score: -98.95502699322098 \t mean distance: 1.0449730067790166 \t mean loss: 22.50546 \t epsilon: 0.0028781743998969166\n",
            "episode: 928 / 1000 \t mean score: -98.96294835978529 \t mean distance: 1.0370516402147054 \t mean loss: 26.411001 \t epsilon: 0.0028494646102579448\n",
            "episode: 930 / 1000 \t mean score: -99.01020494539446 \t mean distance: 0.9897950546055394 \t mean loss: 24.185211 \t epsilon: 0.0028210412007706217\n",
            "episode: 932 / 1000 \t mean score: -99.2535495808466 \t mean distance: 0.746450419153394 \t mean loss: 13.315208 \t epsilon: 0.0027929013147929348\n",
            "episode: 934 / 1000 \t mean score: -99.01996692913491 \t mean distance: 0.9800330708650848 \t mean loss: 32.04146 \t epsilon: 0.002765042124177875\n",
            "episode: 936 / 1000 \t mean score: -98.93009803560903 \t mean distance: 1.0699019643909593 \t mean loss: 17.795967 \t epsilon: 0.002737460828989201\n",
            "episode: 938 / 1000 \t mean score: -98.96520341645957 \t mean distance: 1.0347965835404243 \t mean loss: 21.34254 \t epsilon: 0.002710154657220034\n",
            "episode: 940 / 1000 \t mean score: -99.01722939823972 \t mean distance: 0.9827706017602844 \t mean loss: 12.268957 \t epsilon: 0.0026831208645142638\n",
            "episode: 942 / 1000 \t mean score: -99.2115747120995 \t mean distance: 0.7884252879004904 \t mean loss: 23.701899 \t epsilon: 0.002656356733890734\n",
            "episode: 944 / 1000 \t mean score: -98.90738338167469 \t mean distance: 1.0926166183253114 \t mean loss: 16.156473 \t epsilon: 0.002629859575470174\n",
            "episode: 946 / 1000 \t mean score: -98.76994362249877 \t mean distance: 1.2300563775012239 \t mean loss: 24.246971 \t epsilon: 0.002603626726204859\n",
            "episode: 948 / 1000 \t mean score: -98.62358794340648 \t mean distance: 1.3764120565935303 \t mean loss: 23.873442 \t epsilon: 0.0025776555496109656\n",
            "episode: 950 / 1000 \t mean score: -98.64071605745889 \t mean distance: 1.3592839425411039 \t mean loss: 30.476614 \t epsilon: 0.002551943435503596\n",
            "episode: 952 / 1000 \t mean score: -98.63030925205535 \t mean distance: 1.3696907479446345 \t mean loss: 18.805008 \t epsilon: 0.0025264877997344475\n",
            "episode: 954 / 1000 \t mean score: -98.62383641513654 \t mean distance: 1.3761635848634524 \t mean loss: 18.177288 \t epsilon: 0.002501286083932096\n",
            "episode: 956 / 1000 \t mean score: -98.64251058269045 \t mean distance: 1.3574894173095602 \t mean loss: 15.723201 \t epsilon: 0.0024763357552448732\n",
            "episode: 958 / 1000 \t mean score: -99.37536684777433 \t mean distance: 0.6246331522256741 \t mean loss: 24.813656 \t epsilon: 0.0024516343060863055\n",
            "episode: 960 / 1000 \t mean score: -98.66385129455477 \t mean distance: 1.3361487054452266 \t mean loss: 18.412308 \t epsilon: 0.0024271792538830945\n",
            "episode: 962 / 1000 \t mean score: -98.88843929929939 \t mean distance: 1.1115607007006154 \t mean loss: 11.10931 \t epsilon: 0.002402968140825611\n",
            "episode: 964 / 1000 \t mean score: -98.88070110851805 \t mean distance: 1.1192988914819413 \t mean loss: 30.309654 \t epsilon: 0.002378998533620875\n",
            "episode: 966 / 1000 \t mean score: -98.98077999996767 \t mean distance: 1.019220000032333 \t mean loss: 21.662868 \t epsilon: 0.0023552680232480066\n",
            "episode: 968 / 1000 \t mean score: -98.92495258608616 \t mean distance: 1.07504741391384 \t mean loss: 16.148048 \t epsilon: 0.0023317742247161077\n",
            "episode: 970 / 1000 \t mean score: -98.99883390985647 \t mean distance: 1.0011660901435313 \t mean loss: 18.65289 \t epsilon: 0.0023085147768245645\n",
            "episode: 972 / 1000 \t mean score: -98.9370483623386 \t mean distance: 1.0629516376613934 \t mean loss: 19.708235 \t epsilon: 0.0022854873419257396\n",
            "episode: 974 / 1000 \t mean score: -98.9636802256185 \t mean distance: 1.036319774381503 \t mean loss: 22.472643 \t epsilon: 0.0022626896056900303\n",
            "episode: 976 / 1000 \t mean score: -98.84605041063732 \t mean distance: 1.1539495893626786 \t mean loss: 37.623444 \t epsilon: 0.002240119276873272\n",
            "episode: 978 / 1000 \t mean score: -98.9179716812037 \t mean distance: 1.0820283187963047 \t mean loss: 22.229507 \t epsilon: 0.0022177740870864614\n",
            "episode: 980 / 1000 \t mean score: -98.80816439257003 \t mean distance: 1.1918356074299636 \t mean loss: 24.682928 \t epsilon: 0.002195651790567774\n",
            "episode: 982 / 1000 \t mean score: -98.97448056782812 \t mean distance: 1.025519432171864 \t mean loss: 26.696869 \t epsilon: 0.0021737501639568606\n",
            "episode: 984 / 1000 \t mean score: -98.8584033849289 \t mean distance: 1.141596615071095 \t mean loss: 28.054062 \t epsilon: 0.002152067006071391\n",
            "episode: 986 / 1000 \t mean score: -98.86155567014808 \t mean distance: 1.1384443298519251 \t mean loss: 13.498698 \t epsilon: 0.0021306001376858287\n",
            "episode: 988 / 1000 \t mean score: -98.5012299176141 \t mean distance: 1.498770082385896 \t mean loss: 21.021418 \t epsilon: 0.0021093474013124127\n",
            "episode: 990 / 1000 \t mean score: -98.60607701534468 \t mean distance: 1.3939229846553207 \t mean loss: 31.371632 \t epsilon: 0.002088306660984321\n",
            "episode: 992 / 1000 \t mean score: -98.68072443831278 \t mean distance: 1.3192755616872238 \t mean loss: 24.35595 \t epsilon: 0.0020674758020410027\n",
            "episode: 994 / 1000 \t mean score: -100.30401529230147 \t mean distance: -0.30401529230146596 \t mean loss: 28.1724 \t epsilon: 0.0020468527309156436\n",
            "episode: 996 / 1000 \t mean score: -98.65210683670733 \t mean distance: 1.3478931632926654 \t mean loss: 11.31753 \t epsilon: 0.00202643537492476\n",
            "episode: 998 / 1000 \t mean score: -98.6301721013269 \t mean distance: 1.3698278986730892 \t mean loss: 16.791996 \t epsilon: 0.0020062216820598854\n",
            "episode: 1000 / 1000 \t mean score: -98.59323863987221 \t mean distance: 1.4067613601277864 \t mean loss: 18.685736 \t epsilon: 0.001986209620781338\n"
          ]
        }
      ]
    },
    {
      "cell_type": "markdown",
      "metadata": {
        "id": "aoRFdJH1u4CC"
      },
      "source": [
        "# Plot"
      ]
    },
    {
      "cell_type": "code",
      "execution_count": 12,
      "metadata": {
        "id": "NXe3NShru4CD",
        "colab": {
          "base_uri": "https://localhost:8080/",
          "height": 476
        },
        "outputId": "80c39422-9934-436d-bb63-54b69591a07c"
      },
      "outputs": [
        {
          "output_type": "stream",
          "name": "stdout",
          "text": [
            "Total time:  6367.963983297348\n",
            "Saving figure bipedalwalker_v3_2022_11_23_09_49_07_scores.png\n"
          ]
        },
        {
          "output_type": "display_data",
          "data": {
            "text/plain": [
              "<Figure size 432x432 with 1 Axes>"
            ],
            "image/png": "[encoded data removed]"
          },
          "metadata": {
            "needs_background": "light"
          }
        }
      ],
      "source": [
        "print(\"Total time: \", time.time() - stime)\n",
        "\n",
        "x = [idx + 1 for idx in range(len(scores))]\n",
        "\n",
        "plt.figure(figsize=(6,6))\n",
        "plt.plot(x, scores)\n",
        "plt.title('Scores [' + env_name + ']')\n",
        "plt.grid()\n",
        "save_fig(scorefigname)\n",
        "plt.show()"
      ]
    },
    {
      "cell_type": "code",
      "execution_count": 13,
      "metadata": {
        "id": "y4tPHG0saO2D",
        "colab": {
          "base_uri": "https://localhost:8080/",
          "height": 458
        },
        "outputId": "9ff83040-1452-47b7-e1d5-b493b7b2c489"
      },
      "outputs": [
        {
          "output_type": "stream",
          "name": "stdout",
          "text": [
            "Saving figure bipedalwalker_v3_2022_11_23_09_49_07_cumulated_reward.png\n"
          ]
        },
        {
          "output_type": "display_data",
          "data": {
            "text/plain": [
              "<Figure size 432x432 with 1 Axes>"
            ],
            "image/png": "[encoded data removed]"
          },
          "metadata": {
            "needs_background": "light"
          }
        }
      ],
      "source": [
        "c_reward = np.cumsum(scores)\n",
        "c_indices = np.arange(len(c_reward))\n",
        "rolling_avg = c_reward / c_indices\n",
        "\n",
        "plt.figure(figsize=(6,6))\n",
        "plt.plot(x, rolling_avg)\n",
        "plt.title('Average reward [' + env_name + ']')\n",
        "plt.grid()\n",
        "save_fig(cumfigname)\n",
        "plt.show()"
      ]
    },
    {
      "cell_type": "code",
      "execution_count": 14,
      "metadata": {
        "id": "ByFXvH2Mu4CE",
        "colab": {
          "base_uri": "https://localhost:8080/",
          "height": 458
        },
        "outputId": "f8316880-6d92-44a1-c1b6-49010be3f98a"
      },
      "outputs": [
        {
          "output_type": "stream",
          "name": "stdout",
          "text": [
            "Saving figure bipedalwalker_v3_2022_11_23_09_49_07_eps_history.png\n"
          ]
        },
        {
          "output_type": "display_data",
          "data": {
            "text/plain": [
              "<Figure size 432x432 with 1 Axes>"
            ],
            "image/png": "[encoded data removed]"
          },
          "metadata": {
            "needs_background": "light"
          }
        }
      ],
      "source": [
        "plt.figure(figsize=(6,6))\n",
        "plt.plot(x, eps_history)\n",
        "plt.title('Epsilon history [' + env_name + ']')\n",
        "plt.grid()\n",
        "save_fig(epsfigname)\n",
        "plt.show()"
      ]
    },
    {
      "cell_type": "code",
      "source": [
        "plt.figure(figsize=(6,6))\n",
        "plt.plot(np.arange(len(distances)), distances)\n",
        "plt.title('Distances [' + env_name + ']')\n",
        "plt.grid()\n",
        "save_fig(distfigname)\n",
        "plt.show()"
      ],
      "metadata": {
        "id": "hs-oS5UrE8sQ",
        "colab": {
          "base_uri": "https://localhost:8080/",
          "height": 458
        },
        "outputId": "277066c9-dc6a-4170-ff54-77f146a74f9b"
      },
      "execution_count": 15,
      "outputs": [
        {
          "output_type": "stream",
          "name": "stdout",
          "text": [
            "Saving figure bipedalwalker_v3_2022_11_23_09_49_07_distances.png\n"
          ]
        },
        {
          "output_type": "display_data",
          "data": {
            "text/plain": [
              "<Figure size 432x432 with 1 Axes>"
            ],
            "image/png": "[encoded data removed]"
          },
          "metadata": {
            "needs_background": "light"
          }
        }
      ]
    },
    {
      "cell_type": "code",
      "source": [
        "c_distances = np.cumsum(distances)\n",
        "c_indices_distances = np.arange(len(c_distances))\n",
        "rolling_avg_distances = c_distances / c_indices_distances\n",
        "\n",
        "plt.figure(figsize=(6,6))\n",
        "plt.plot(x, rolling_avg_distances)\n",
        "plt.title('Mean distance [' + env_name + ']')\n",
        "plt.grid()\n",
        "save_fig(meandistfigname)\n",
        "plt.show()"
      ],
      "metadata": {
        "id": "a3NPuueUFRPI",
        "colab": {
          "base_uri": "https://localhost:8080/",
          "height": 458
        },
        "outputId": "b73e17a3-c839-44b6-f4be-3a16884fadbe"
      },
      "execution_count": 16,
      "outputs": [
        {
          "output_type": "stream",
          "name": "stdout",
          "text": [
            "Saving figure bipedalwalker_v3_2022_11_23_09_49_07_mean_distances.png\n"
          ]
        },
        {
          "output_type": "display_data",
          "data": {
            "text/plain": [
              "<Figure size 432x432 with 1 Axes>"
            ],
            "image/png": "[encoded data removed]"
          },
          "metadata": {
            "needs_background": "light"
          }
        }
      ]
    },
    {
      "cell_type": "markdown",
      "metadata": {
        "id": "aHnAgjMGu4CE"
      },
      "source": [
        "# Log"
      ]
    },
    {
      "cell_type": "code",
      "execution_count": 17,
      "metadata": {
        "id": "UU1BATVPu4CF",
        "colab": {
          "base_uri": "https://localhost:8080/"
        },
        "outputId": "fe841f19-6f95-4d0b-c3d9-397e60111479"
      },
      "outputs": [
        {
          "output_type": "stream",
          "name": "stdout",
          "text": [
            "Done logging results\n"
          ]
        }
      ],
      "source": [
        "dfname = datename + '_runlogs'\n",
        "df_path = 'logs/' + env_name_clean + '_' + dfname + '.csv'\n",
        "df_avg_path = 'logs/' + env_name_clean + '_' + dfname + '_avg.csv'\n",
        "df_dist_path = 'logs/' + env_name_clean + '_' + dfname + '_distances.csv'\n",
        "\n",
        "df = pd.DataFrame({'score': scores, 'Epsilon': eps_history})\n",
        "df_avg = pd.DataFrame({'avg_score': avg_scores})\n",
        "df_dist = pd.DataFrame({'distances': distances})\n",
        "\n",
        "df.to_csv(df_path, sep = ';', header = True, index = False)\n",
        "df_avg.to_csv(df_avg_path, sep = ';', header = True, index = False)\n",
        "df_dist.to_csv(df_dist_path, sep = ';', header = True, index = False)\n",
        "\n",
        "print(\"Done logging results\")"
      ]
    },
    {
      "cell_type": "markdown",
      "metadata": {
        "id": "76pGlcaiu4CH"
      },
      "source": [
        "# Eval"
      ]
    },
    {
      "cell_type": "code",
      "execution_count": 18,
      "metadata": {
        "id": "UTEKGkC6u4CI",
        "colab": {
          "base_uri": "https://localhost:8080/"
        },
        "outputId": "57957b44-fff0-475f-858b-3ce7a13d1d28"
      },
      "outputs": [
        {
          "output_type": "stream",
          "name": "stdout",
          "text": [
            "Starting competitive trials...\n",
            "epsilon 0.001986209620781338\n"
          ]
        }
      ],
      "source": [
        "print('Starting competitive trials...')\n",
        "compscores = 0\n",
        "agent.load_models()\n",
        "print('epsilon', epsilon)"
      ]
    },
    {
      "cell_type": "code",
      "execution_count": 19,
      "metadata": {
        "id": "vjCoTRAtu4CI",
        "colab": {
          "base_uri": "https://localhost:8080/"
        },
        "outputId": "6913fffe-9831-4ed6-e1aa-4fbb106c14f9"
      },
      "outputs": [
        {
          "output_type": "stream",
          "name": "stdout",
          "text": [
            "Competitive round  1  Overall score  -98.6152885943049\n",
            "Competitive round  2  Overall score  -197.5226654820225\n",
            "Competitive round  3  Overall score  -296.4329490780197\n",
            "Competitive round  4  Overall score  -395.44745845434505\n",
            "Competitive round  5  Overall score  -494.35503002930375\n"
          ]
        }
      ],
      "source": [
        "for i in range(n_rounds):\n",
        "    done = False\n",
        "    state = env.reset()\n",
        "    score = 0\n",
        "\n",
        "    while not done:\n",
        "        env.render()\n",
        "        \n",
        "        action = agent.act(state, epsilon)\n",
        "        \n",
        "        next_state, reward, done, info = env.step(action)\n",
        "\n",
        "        agent.memory.add(state, action, reward, next_state, done)\n",
        "        \n",
        "        state = next_state\n",
        "        score += reward\n",
        "    \n",
        "    compscores += score\n",
        "    print(\"Competitive round \", i + 1, \" Overall score \", compscores)"
      ]
    },
    {
      "cell_type": "markdown",
      "metadata": {
        "id": "Lzg3fZnYu4CI"
      },
      "source": [
        "# Score"
      ]
    },
    {
      "cell_type": "code",
      "execution_count": 20,
      "metadata": {
        "id": "kdr_4ZppOJs3"
      },
      "outputs": [],
      "source": [
        "with open(outfilename, \"w\") as f:\n",
        "    f.writelines(\"%s: %i\\n\" % (env_name_clean, compscores))"
      ]
    },
    {
      "cell_type": "code",
      "execution_count": 21,
      "metadata": {
        "id": "SqaiDFmKOJWg",
        "colab": {
          "base_uri": "https://localhost:8080/",
          "height": 17
        },
        "outputId": "931315cb-ca61-4858-e443-ad89d4a594e0"
      },
      "outputs": [
        {
          "output_type": "display_data",
          "data": {
            "text/plain": [
              "<IPython.core.display.Javascript object>"
            ],
            "application/javascript": [
              "\n",
              "    async function download(id, filename, size) {\n",
              "      if (!google.colab.kernel.accessAllowed) {\n",
              "        return;\n",
              "      }\n",
              "      const div = document.createElement('div');\n",
              "      const label = document.createElement('label');\n",
              "      label.textContent = `Downloading \"${filename}\": `;\n",
              "      div.appendChild(label);\n",
              "      const progress = document.createElement('progress');\n",
              "      progress.max = size;\n",
              "      div.appendChild(progress);\n",
              "      document.body.appendChild(div);\n",
              "\n",
              "      const buffers = [];\n",
              "      let downloaded = 0;\n",
              "\n",
              "      const channel = await google.colab.kernel.comms.open(id);\n",
              "      // Send a message to notify the kernel that we're ready.\n",
              "      channel.send({})\n",
              "\n",
              "      for await (const message of channel.messages) {\n",
              "        // Send a message to notify the kernel that we're ready.\n",
              "        channel.send({})\n",
              "        if (message.buffers) {\n",
              "          for (const buffer of message.buffers) {\n",
              "            buffers.push(buffer);\n",
              "            downloaded += buffer.byteLength;\n",
              "            progress.value = downloaded;\n",
              "          }\n",
              "        }\n",
              "      }\n",
              "      const blob = new Blob(buffers, {type: 'application/binary'});\n",
              "      const a = document.createElement('a');\n",
              "      a.href = window.URL.createObjectURL(blob);\n",
              "      a.download = filename;\n",
              "      div.appendChild(a);\n",
              "      a.click();\n",
              "      div.remove();\n",
              "    }\n",
              "  "
            ]
          },
          "metadata": {}
        },
        {
          "output_type": "display_data",
          "data": {
            "text/plain": [
              "<IPython.core.display.Javascript object>"
            ],
            "application/javascript": [
              "download(\"download_04a20ee3-3b0a-4eb2-9a8d-e36e6432d9ab\", \"bipedalwalker_v3_dict9\", 1145129)"
            ]
          },
          "metadata": {}
        },
        {
          "output_type": "display_data",
          "data": {
            "text/plain": [
              "<IPython.core.display.Javascript object>"
            ],
            "application/javascript": [
              "\n",
              "    async function download(id, filename, size) {\n",
              "      if (!google.colab.kernel.accessAllowed) {\n",
              "        return;\n",
              "      }\n",
              "      const div = document.createElement('div');\n",
              "      const label = document.createElement('label');\n",
              "      label.textContent = `Downloading \"${filename}\": `;\n",
              "      div.appendChild(label);\n",
              "      const progress = document.createElement('progress');\n",
              "      progress.max = size;\n",
              "      div.appendChild(progress);\n",
              "      document.body.appendChild(div);\n",
              "\n",
              "      const buffers = [];\n",
              "      let downloaded = 0;\n",
              "\n",
              "      const channel = await google.colab.kernel.comms.open(id);\n",
              "      // Send a message to notify the kernel that we're ready.\n",
              "      channel.send({})\n",
              "\n",
              "      for await (const message of channel.messages) {\n",
              "        // Send a message to notify the kernel that we're ready.\n",
              "        channel.send({})\n",
              "        if (message.buffers) {\n",
              "          for (const buffer of message.buffers) {\n",
              "            buffers.push(buffer);\n",
              "            downloaded += buffer.byteLength;\n",
              "            progress.value = downloaded;\n",
              "          }\n",
              "        }\n",
              "      }\n",
              "      const blob = new Blob(buffers, {type: 'application/binary'});\n",
              "      const a = document.createElement('a');\n",
              "      a.href = window.URL.createObjectURL(blob);\n",
              "      a.download = filename;\n",
              "      div.appendChild(a);\n",
              "      a.click();\n",
              "      div.remove();\n",
              "    }\n",
              "  "
            ]
          },
          "metadata": {}
        },
        {
          "output_type": "display_data",
          "data": {
            "text/plain": [
              "<IPython.core.display.Javascript object>"
            ],
            "application/javascript": [
              "download(\"download_88873c83-b6ab-4fbf-b5a5-49346e9cffe3\", \"bipedalwalker_v3_dict9_target\", 1145129)"
            ]
          },
          "metadata": {}
        },
        {
          "output_type": "display_data",
          "data": {
            "text/plain": [
              "<IPython.core.display.Javascript object>"
            ],
            "application/javascript": [
              "\n",
              "    async function download(id, filename, size) {\n",
              "      if (!google.colab.kernel.accessAllowed) {\n",
              "        return;\n",
              "      }\n",
              "      const div = document.createElement('div');\n",
              "      const label = document.createElement('label');\n",
              "      label.textContent = `Downloading \"${filename}\": `;\n",
              "      div.appendChild(label);\n",
              "      const progress = document.createElement('progress');\n",
              "      progress.max = size;\n",
              "      div.appendChild(progress);\n",
              "      document.body.appendChild(div);\n",
              "\n",
              "      const buffers = [];\n",
              "      let downloaded = 0;\n",
              "\n",
              "      const channel = await google.colab.kernel.comms.open(id);\n",
              "      // Send a message to notify the kernel that we're ready.\n",
              "      channel.send({})\n",
              "\n",
              "      for await (const message of channel.messages) {\n",
              "        // Send a message to notify the kernel that we're ready.\n",
              "        channel.send({})\n",
              "        if (message.buffers) {\n",
              "          for (const buffer of message.buffers) {\n",
              "            buffers.push(buffer);\n",
              "            downloaded += buffer.byteLength;\n",
              "            progress.value = downloaded;\n",
              "          }\n",
              "        }\n",
              "      }\n",
              "      const blob = new Blob(buffers, {type: 'application/binary'});\n",
              "      const a = document.createElement('a');\n",
              "      a.href = window.URL.createObjectURL(blob);\n",
              "      a.download = filename;\n",
              "      div.appendChild(a);\n",
              "      a.click();\n",
              "      div.remove();\n",
              "    }\n",
              "  "
            ]
          },
          "metadata": {}
        },
        {
          "output_type": "display_data",
          "data": {
            "text/plain": [
              "<IPython.core.display.Javascript object>"
            ],
            "application/javascript": [
              "download(\"download_4013a7ad-3eee-450b-a72e-3eaff4069720\", \"bipedalwalker_v3scoreboard.txt\", 23)"
            ]
          },
          "metadata": {}
        },
        {
          "output_type": "display_data",
          "data": {
            "text/plain": [
              "<IPython.core.display.Javascript object>"
            ],
            "application/javascript": [
              "\n",
              "    async function download(id, filename, size) {\n",
              "      if (!google.colab.kernel.accessAllowed) {\n",
              "        return;\n",
              "      }\n",
              "      const div = document.createElement('div');\n",
              "      const label = document.createElement('label');\n",
              "      label.textContent = `Downloading \"${filename}\": `;\n",
              "      div.appendChild(label);\n",
              "      const progress = document.createElement('progress');\n",
              "      progress.max = size;\n",
              "      div.appendChild(progress);\n",
              "      document.body.appendChild(div);\n",
              "\n",
              "      const buffers = [];\n",
              "      let downloaded = 0;\n",
              "\n",
              "      const channel = await google.colab.kernel.comms.open(id);\n",
              "      // Send a message to notify the kernel that we're ready.\n",
              "      channel.send({})\n",
              "\n",
              "      for await (const message of channel.messages) {\n",
              "        // Send a message to notify the kernel that we're ready.\n",
              "        channel.send({})\n",
              "        if (message.buffers) {\n",
              "          for (const buffer of message.buffers) {\n",
              "            buffers.push(buffer);\n",
              "            downloaded += buffer.byteLength;\n",
              "            progress.value = downloaded;\n",
              "          }\n",
              "        }\n",
              "      }\n",
              "      const blob = new Blob(buffers, {type: 'application/binary'});\n",
              "      const a = document.createElement('a');\n",
              "      a.href = window.URL.createObjectURL(blob);\n",
              "      a.download = filename;\n",
              "      div.appendChild(a);\n",
              "      a.click();\n",
              "      div.remove();\n",
              "    }\n",
              "  "
            ]
          },
          "metadata": {}
        },
        {
          "output_type": "display_data",
          "data": {
            "text/plain": [
              "<IPython.core.display.Javascript object>"
            ],
            "application/javascript": [
              "download(\"download_3bb0ec15-f0a7-44ec-a1d8-3740d0b29b6b\", \"bipedalwalker_v3_2022_11_23_09_49_07_runlogs.csv\", 39866)"
            ]
          },
          "metadata": {}
        },
        {
          "output_type": "display_data",
          "data": {
            "text/plain": [
              "<IPython.core.display.Javascript object>"
            ],
            "application/javascript": [
              "\n",
              "    async function download(id, filename, size) {\n",
              "      if (!google.colab.kernel.accessAllowed) {\n",
              "        return;\n",
              "      }\n",
              "      const div = document.createElement('div');\n",
              "      const label = document.createElement('label');\n",
              "      label.textContent = `Downloading \"${filename}\": `;\n",
              "      div.appendChild(label);\n",
              "      const progress = document.createElement('progress');\n",
              "      progress.max = size;\n",
              "      div.appendChild(progress);\n",
              "      document.body.appendChild(div);\n",
              "\n",
              "      const buffers = [];\n",
              "      let downloaded = 0;\n",
              "\n",
              "      const channel = await google.colab.kernel.comms.open(id);\n",
              "      // Send a message to notify the kernel that we're ready.\n",
              "      channel.send({})\n",
              "\n",
              "      for await (const message of channel.messages) {\n",
              "        // Send a message to notify the kernel that we're ready.\n",
              "        channel.send({})\n",
              "        if (message.buffers) {\n",
              "          for (const buffer of message.buffers) {\n",
              "            buffers.push(buffer);\n",
              "            downloaded += buffer.byteLength;\n",
              "            progress.value = downloaded;\n",
              "          }\n",
              "        }\n",
              "      }\n",
              "      const blob = new Blob(buffers, {type: 'application/binary'});\n",
              "      const a = document.createElement('a');\n",
              "      a.href = window.URL.createObjectURL(blob);\n",
              "      a.download = filename;\n",
              "      div.appendChild(a);\n",
              "      a.click();\n",
              "      div.remove();\n",
              "    }\n",
              "  "
            ]
          },
          "metadata": {}
        },
        {
          "output_type": "display_data",
          "data": {
            "text/plain": [
              "<IPython.core.display.Javascript object>"
            ],
            "application/javascript": [
              "download(\"download_0f15e4d2-a89e-4904-b7e4-62b48f38b749\", \"bipedalwalker_v3_2022_11_23_09_49_07_runlogs_avg.csv\", 10)"
            ]
          },
          "metadata": {}
        },
        {
          "output_type": "display_data",
          "data": {
            "text/plain": [
              "<IPython.core.display.Javascript object>"
            ],
            "application/javascript": [
              "\n",
              "    async function download(id, filename, size) {\n",
              "      if (!google.colab.kernel.accessAllowed) {\n",
              "        return;\n",
              "      }\n",
              "      const div = document.createElement('div');\n",
              "      const label = document.createElement('label');\n",
              "      label.textContent = `Downloading \"${filename}\": `;\n",
              "      div.appendChild(label);\n",
              "      const progress = document.createElement('progress');\n",
              "      progress.max = size;\n",
              "      div.appendChild(progress);\n",
              "      document.body.appendChild(div);\n",
              "\n",
              "      const buffers = [];\n",
              "      let downloaded = 0;\n",
              "\n",
              "      const channel = await google.colab.kernel.comms.open(id);\n",
              "      // Send a message to notify the kernel that we're ready.\n",
              "      channel.send({})\n",
              "\n",
              "      for await (const message of channel.messages) {\n",
              "        // Send a message to notify the kernel that we're ready.\n",
              "        channel.send({})\n",
              "        if (message.buffers) {\n",
              "          for (const buffer of message.buffers) {\n",
              "            buffers.push(buffer);\n",
              "            downloaded += buffer.byteLength;\n",
              "            progress.value = downloaded;\n",
              "          }\n",
              "        }\n",
              "      }\n",
              "      const blob = new Blob(buffers, {type: 'application/binary'});\n",
              "      const a = document.createElement('a');\n",
              "      a.href = window.URL.createObjectURL(blob);\n",
              "      a.download = filename;\n",
              "      div.appendChild(a);\n",
              "      a.click();\n",
              "      div.remove();\n",
              "    }\n",
              "  "
            ]
          },
          "metadata": {}
        },
        {
          "output_type": "display_data",
          "data": {
            "text/plain": [
              "<IPython.core.display.Javascript object>"
            ],
            "application/javascript": [
              "download(\"download_df5e5b40-d377-4d13-92bf-352d18a36706\", \"bipedalwalker_v3_2022_11_23_09_49_07_runlogs_distances.csv\", 19275)"
            ]
          },
          "metadata": {}
        },
        {
          "output_type": "display_data",
          "data": {
            "text/plain": [
              "<IPython.core.display.Javascript object>"
            ],
            "application/javascript": [
              "\n",
              "    async function download(id, filename, size) {\n",
              "      if (!google.colab.kernel.accessAllowed) {\n",
              "        return;\n",
              "      }\n",
              "      const div = document.createElement('div');\n",
              "      const label = document.createElement('label');\n",
              "      label.textContent = `Downloading \"${filename}\": `;\n",
              "      div.appendChild(label);\n",
              "      const progress = document.createElement('progress');\n",
              "      progress.max = size;\n",
              "      div.appendChild(progress);\n",
              "      document.body.appendChild(div);\n",
              "\n",
              "      const buffers = [];\n",
              "      let downloaded = 0;\n",
              "\n",
              "      const channel = await google.colab.kernel.comms.open(id);\n",
              "      // Send a message to notify the kernel that we're ready.\n",
              "      channel.send({})\n",
              "\n",
              "      for await (const message of channel.messages) {\n",
              "        // Send a message to notify the kernel that we're ready.\n",
              "        channel.send({})\n",
              "        if (message.buffers) {\n",
              "          for (const buffer of message.buffers) {\n",
              "            buffers.push(buffer);\n",
              "            downloaded += buffer.byteLength;\n",
              "            progress.value = downloaded;\n",
              "          }\n",
              "        }\n",
              "      }\n",
              "      const blob = new Blob(buffers, {type: 'application/binary'});\n",
              "      const a = document.createElement('a');\n",
              "      a.href = window.URL.createObjectURL(blob);\n",
              "      a.download = filename;\n",
              "      div.appendChild(a);\n",
              "      a.click();\n",
              "      div.remove();\n",
              "    }\n",
              "  "
            ]
          },
          "metadata": {}
        },
        {
          "output_type": "display_data",
          "data": {
            "text/plain": [
              "<IPython.core.display.Javascript object>"
            ],
            "application/javascript": [
              "download(\"download_61ec461a-b5fd-407f-b612-e7d06f4ce2c3\", \"bipedalwalker_v3_2022_11_23_09_49_07_scores.png\", 172000)"
            ]
          },
          "metadata": {}
        },
        {
          "output_type": "display_data",
          "data": {
            "text/plain": [
              "<IPython.core.display.Javascript object>"
            ],
            "application/javascript": [
              "\n",
              "    async function download(id, filename, size) {\n",
              "      if (!google.colab.kernel.accessAllowed) {\n",
              "        return;\n",
              "      }\n",
              "      const div = document.createElement('div');\n",
              "      const label = document.createElement('label');\n",
              "      label.textContent = `Downloading \"${filename}\": `;\n",
              "      div.appendChild(label);\n",
              "      const progress = document.createElement('progress');\n",
              "      progress.max = size;\n",
              "      div.appendChild(progress);\n",
              "      document.body.appendChild(div);\n",
              "\n",
              "      const buffers = [];\n",
              "      let downloaded = 0;\n",
              "\n",
              "      const channel = await google.colab.kernel.comms.open(id);\n",
              "      // Send a message to notify the kernel that we're ready.\n",
              "      channel.send({})\n",
              "\n",
              "      for await (const message of channel.messages) {\n",
              "        // Send a message to notify the kernel that we're ready.\n",
              "        channel.send({})\n",
              "        if (message.buffers) {\n",
              "          for (const buffer of message.buffers) {\n",
              "            buffers.push(buffer);\n",
              "            downloaded += buffer.byteLength;\n",
              "            progress.value = downloaded;\n",
              "          }\n",
              "        }\n",
              "      }\n",
              "      const blob = new Blob(buffers, {type: 'application/binary'});\n",
              "      const a = document.createElement('a');\n",
              "      a.href = window.URL.createObjectURL(blob);\n",
              "      a.download = filename;\n",
              "      div.appendChild(a);\n",
              "      a.click();\n",
              "      div.remove();\n",
              "    }\n",
              "  "
            ]
          },
          "metadata": {}
        },
        {
          "output_type": "display_data",
          "data": {
            "text/plain": [
              "<IPython.core.display.Javascript object>"
            ],
            "application/javascript": [
              "download(\"download_8d815dba-471f-4f30-a418-90ba850e7ac6\", \"bipedalwalker_v3_2022_11_23_09_49_07_eps_history.png\", 97982)"
            ]
          },
          "metadata": {}
        },
        {
          "output_type": "display_data",
          "data": {
            "text/plain": [
              "<IPython.core.display.Javascript object>"
            ],
            "application/javascript": [
              "\n",
              "    async function download(id, filename, size) {\n",
              "      if (!google.colab.kernel.accessAllowed) {\n",
              "        return;\n",
              "      }\n",
              "      const div = document.createElement('div');\n",
              "      const label = document.createElement('label');\n",
              "      label.textContent = `Downloading \"${filename}\": `;\n",
              "      div.appendChild(label);\n",
              "      const progress = document.createElement('progress');\n",
              "      progress.max = size;\n",
              "      div.appendChild(progress);\n",
              "      document.body.appendChild(div);\n",
              "\n",
              "      const buffers = [];\n",
              "      let downloaded = 0;\n",
              "\n",
              "      const channel = await google.colab.kernel.comms.open(id);\n",
              "      // Send a message to notify the kernel that we're ready.\n",
              "      channel.send({})\n",
              "\n",
              "      for await (const message of channel.messages) {\n",
              "        // Send a message to notify the kernel that we're ready.\n",
              "        channel.send({})\n",
              "        if (message.buffers) {\n",
              "          for (const buffer of message.buffers) {\n",
              "            buffers.push(buffer);\n",
              "            downloaded += buffer.byteLength;\n",
              "            progress.value = downloaded;\n",
              "          }\n",
              "        }\n",
              "      }\n",
              "      const blob = new Blob(buffers, {type: 'application/binary'});\n",
              "      const a = document.createElement('a');\n",
              "      a.href = window.URL.createObjectURL(blob);\n",
              "      a.download = filename;\n",
              "      div.appendChild(a);\n",
              "      a.click();\n",
              "      div.remove();\n",
              "    }\n",
              "  "
            ]
          },
          "metadata": {}
        },
        {
          "output_type": "display_data",
          "data": {
            "text/plain": [
              "<IPython.core.display.Javascript object>"
            ],
            "application/javascript": [
              "download(\"download_23bdc266-7fc6-42ea-9940-e75e92c9b186\", \"bipedalwalker_v3_2022_11_23_09_49_07_cumulated_reward.png\", 81083)"
            ]
          },
          "metadata": {}
        },
        {
          "output_type": "display_data",
          "data": {
            "text/plain": [
              "<IPython.core.display.Javascript object>"
            ],
            "application/javascript": [
              "\n",
              "    async function download(id, filename, size) {\n",
              "      if (!google.colab.kernel.accessAllowed) {\n",
              "        return;\n",
              "      }\n",
              "      const div = document.createElement('div');\n",
              "      const label = document.createElement('label');\n",
              "      label.textContent = `Downloading \"${filename}\": `;\n",
              "      div.appendChild(label);\n",
              "      const progress = document.createElement('progress');\n",
              "      progress.max = size;\n",
              "      div.appendChild(progress);\n",
              "      document.body.appendChild(div);\n",
              "\n",
              "      const buffers = [];\n",
              "      let downloaded = 0;\n",
              "\n",
              "      const channel = await google.colab.kernel.comms.open(id);\n",
              "      // Send a message to notify the kernel that we're ready.\n",
              "      channel.send({})\n",
              "\n",
              "      for await (const message of channel.messages) {\n",
              "        // Send a message to notify the kernel that we're ready.\n",
              "        channel.send({})\n",
              "        if (message.buffers) {\n",
              "          for (const buffer of message.buffers) {\n",
              "            buffers.push(buffer);\n",
              "            downloaded += buffer.byteLength;\n",
              "            progress.value = downloaded;\n",
              "          }\n",
              "        }\n",
              "      }\n",
              "      const blob = new Blob(buffers, {type: 'application/binary'});\n",
              "      const a = document.createElement('a');\n",
              "      a.href = window.URL.createObjectURL(blob);\n",
              "      a.download = filename;\n",
              "      div.appendChild(a);\n",
              "      a.click();\n",
              "      div.remove();\n",
              "    }\n",
              "  "
            ]
          },
          "metadata": {}
        },
        {
          "output_type": "display_data",
          "data": {
            "text/plain": [
              "<IPython.core.display.Javascript object>"
            ],
            "application/javascript": [
              "download(\"download_cf647d80-04f1-4ade-b6be-c701e882bda8\", \"bipedalwalker_v3_2022_11_23_09_49_07_distances.png\", 161655)"
            ]
          },
          "metadata": {}
        },
        {
          "output_type": "display_data",
          "data": {
            "text/plain": [
              "<IPython.core.display.Javascript object>"
            ],
            "application/javascript": [
              "\n",
              "    async function download(id, filename, size) {\n",
              "      if (!google.colab.kernel.accessAllowed) {\n",
              "        return;\n",
              "      }\n",
              "      const div = document.createElement('div');\n",
              "      const label = document.createElement('label');\n",
              "      label.textContent = `Downloading \"${filename}\": `;\n",
              "      div.appendChild(label);\n",
              "      const progress = document.createElement('progress');\n",
              "      progress.max = size;\n",
              "      div.appendChild(progress);\n",
              "      document.body.appendChild(div);\n",
              "\n",
              "      const buffers = [];\n",
              "      let downloaded = 0;\n",
              "\n",
              "      const channel = await google.colab.kernel.comms.open(id);\n",
              "      // Send a message to notify the kernel that we're ready.\n",
              "      channel.send({})\n",
              "\n",
              "      for await (const message of channel.messages) {\n",
              "        // Send a message to notify the kernel that we're ready.\n",
              "        channel.send({})\n",
              "        if (message.buffers) {\n",
              "          for (const buffer of message.buffers) {\n",
              "            buffers.push(buffer);\n",
              "            downloaded += buffer.byteLength;\n",
              "            progress.value = downloaded;\n",
              "          }\n",
              "        }\n",
              "      }\n",
              "      const blob = new Blob(buffers, {type: 'application/binary'});\n",
              "      const a = document.createElement('a');\n",
              "      a.href = window.URL.createObjectURL(blob);\n",
              "      a.download = filename;\n",
              "      div.appendChild(a);\n",
              "      a.click();\n",
              "      div.remove();\n",
              "    }\n",
              "  "
            ]
          },
          "metadata": {}
        },
        {
          "output_type": "display_data",
          "data": {
            "text/plain": [
              "<IPython.core.display.Javascript object>"
            ],
            "application/javascript": [
              "download(\"download_fa03fcdc-78d0-4f5d-8018-5516f2150c44\", \"bipedalwalker_v3_2022_11_23_09_49_07_mean_distances.png\", 82231)"
            ]
          },
          "metadata": {}
        }
      ],
      "source": [
        "if(mode == 'colab'):\n",
        "    from google.colab import files\n",
        "    files.download(model_file)\n",
        "    files.download(model_file_target)\n",
        "    files.download(outfilename)\n",
        "    files.download(df_path)\n",
        "    files.download(df_avg_path)\n",
        "    files.download(df_dist_path)\n",
        "    files.download('images/' + scorefigname)\n",
        "    files.download('images/' + epsfigname)\n",
        "    files.download('images/' + cumfigname)\n",
        "    files.download('images/' + distfigname)\n",
        "    files.download('images/' + meandistfigname)"
      ]
    }
  ],
  "metadata": {
    "accelerator": "GPU",
    "colab": {
      "provenance": [],
      "toc_visible": true
    },
    "gpuClass": "premium",
    "kernelspec": {
      "display_name": "Python 3",
      "language": "python",
      "name": "python3"
    },
    "language_info": {
      "codemirror_mode": {
        "name": "ipython",
        "version": 3
      },
      "file_extension": ".py",
      "mimetype": "text/x-python",
      "name": "python",
      "nbconvert_exporter": "python",
      "pygments_lexer": "ipython3",
      "version": "3.6.4"
    }
  },
  "nbformat": 4,
  "nbformat_minor": 0
}